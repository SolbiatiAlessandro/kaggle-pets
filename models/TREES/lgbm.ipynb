{
 "cells": [
  {
   "cell_type": "markdown",
   "metadata": {},
   "source": [
    "<h1>lgbm baseline</h1>"
   ]
  },
  {
   "cell_type": "markdown",
   "metadata": {},
   "source": [
    "<h1>DATA LOADING"
   ]
  },
  {
   "cell_type": "code",
   "execution_count": 2,
   "metadata": {},
   "outputs": [],
   "source": [
    "import pandas as pd\n",
    "import numpy as np"
   ]
  },
  {
   "cell_type": "code",
   "execution_count": 3,
   "metadata": {},
   "outputs": [],
   "source": [
    "import os\n",
    "os.listdir('../../data')\n",
    "assert 'out_breed.csv' in os.listdir('../../data') # this assert breaks if the data is configured uncorrectly"
   ]
  },
  {
   "cell_type": "code",
   "execution_count": 4,
   "metadata": {},
   "outputs": [],
   "source": [
    "breeds = pd.read_csv('../../data/out_breed.csv')\n",
    "colors = pd.read_csv('../../data/out_color.csv')\n",
    "states = pd.read_csv('../../data/out_state.csv')\n",
    "train  = pd.read_csv('../../data/out_train.csv')\n",
    "test   = pd.read_csv('../../data/out_test.csv')\n",
    "sub    = pd.read_csv('../../data/out_submission.csv')"
   ]
  },
  {
   "cell_type": "markdown",
   "metadata": {},
   "source": [
    "<h1>MODEL</h1>"
   ]
  },
  {
   "cell_type": "code",
   "execution_count": 5,
   "metadata": {},
   "outputs": [
    {
     "name": "stderr",
     "output_type": "stream",
     "text": [
      "/Users/alex/Desktop/Coding/AI/kaggle-pets/venv/lib/python3.6/site-packages/lightgbm/__init__.py:46: UserWarning: Starting from version 2.2.1, the library file in distribution wheels for macOS is built by the Apple Clang (Xcode_8.3.3) compiler.\n",
      "This means that in case of installing LightGBM from PyPI via the ``pip install lightgbm`` command, you don't need to install the gcc compiler anymore.\n",
      "Instead of that, you need to install the OpenMP library, which is required for running LightGBM on the system with the Apple Clang compiler.\n",
      "You can install the OpenMP library by the following command: ``brew install libomp``.\n",
      "  \"You can install the OpenMP library by the following command: ``brew install libomp``.\", UserWarning)\n"
     ]
    }
   ],
   "source": [
    "from lgbmModel import PredictiveModel"
   ]
  },
  {
   "cell_type": "markdown",
   "metadata": {},
   "source": [
    "<h1>EXAMPLE USAGE</h1>"
   ]
  },
  {
   "cell_type": "code",
   "execution_count": 6,
   "metadata": {},
   "outputs": [],
   "source": [
    "\"\"\"\n",
    "this is a really primitive data cleaning to make KNN works: we drop the followings\n",
    "- AdoptionSpeed, is target\n",
    "- Unnamed:0, dataset_type, is useless\n",
    "- Name, RescuerId, Description, PhotoAmt, VideoAmt, PetID: this are all strings valued not able to be processed by KNN\n",
    "\"\"\"\n",
    "X = train.drop([\"AdoptionSpeed\", \"Unnamed: 0\", \"dataset_type\", \"Name\", \"RescuerID\", \"Description\", \"PhotoAmt\",\"VideoAmt\",\"PetID\"], axis=1)\n",
    "X_test = test.drop([\"Unnamed: 0\", \"dataset_type\", \"Name\", \"RescuerID\", \"Description\", \"PhotoAmt\",\"VideoAmt\",\"PetID\"], axis=1)\n",
    "\n",
    "\"\"\"\n",
    "Y is our target value, Adoption Speed can be a value [1,2,3,4]\n",
    "\"\"\"\n",
    "Y = train['AdoptionSpeed']\n",
    "\n",
    "assert X.shape[0] == Y.shape[0]"
   ]
  },
  {
   "cell_type": "code",
   "execution_count": 7,
   "metadata": {},
   "outputs": [
    {
     "name": "stdout",
     "output_type": "stream",
     "text": [
      "Wed Mar 20 23:19:47 2019 [example_usage_model.__init__] initialized succesfully\n"
     ]
    },
    {
     "name": "stderr",
     "output_type": "stream",
     "text": [
      "/Users/alex/Desktop/Coding/AI/kaggle-pets/venv/lib/python3.6/site-packages/lightgbm/engine.py:118: UserWarning: Found `num_rounds` in params. Will use it instead of argument\n",
      "  warnings.warn(\"Found `{}` in params. Will use it instead of argument\".format(alias))\n"
     ]
    }
   ],
   "source": [
    "model = PredictiveModel(\"example_usage_model\")\n",
    "model.train(X, Y)\n",
    "predictions = model.predict(X_test)\n",
    "assert len(predictions)"
   ]
  },
  {
   "cell_type": "markdown",
   "metadata": {},
   "source": [
    "<h1>VALIDATION"
   ]
  },
  {
   "cell_type": "code",
   "execution_count": 33,
   "metadata": {},
   "outputs": [],
   "source": [
    "\"\"\"\n",
    "this is a really primitive data cleaning to make KNN works: we drop the followings\n",
    "- AdoptionSpeed, is target\n",
    "- Unnamed:0, dataset_type, is useless\n",
    "- Name, RescuerId, Description, PhotoAmt, VideoAmt, PetID: this are all strings valued not able to be processed by KNN\n",
    "\"\"\"\n",
    "X = train.drop([\"AdoptionSpeed\", \"Unnamed: 0\", \"dataset_type\", \"Name\", \"RescuerID\", \"Description\", \"PetID\"], axis=1)\n",
    "X_test = test.drop([\"Unnamed: 0\", \"dataset_type\", \"Name\", \"RescuerID\", \"Description\",\"PetID\"], axis=1)\n",
    "\n",
    "\"\"\"\n",
    "Y is our target value, Adoption Speed can be a value [1,2,3,4]\n",
    "\"\"\"\n",
    "Y = train['AdoptionSpeed']\n",
    "\n",
    "assert X.shape[0] == Y.shape[0]"
   ]
  },
  {
   "cell_type": "code",
   "execution_count": 34,
   "metadata": {},
   "outputs": [
    {
     "name": "stdout",
     "output_type": "stream",
     "text": [
      "Thu Mar 21 00:43:32 2019 [validation_model_lgbm_baseline.__init__] initialized succesfully\n"
     ]
    }
   ],
   "source": [
    "model = PredictiveModel(\"validation_model_lgbm_baseline\")"
   ]
  },
  {
   "cell_type": "code",
   "execution_count": 38,
   "metadata": {},
   "outputs": [
    {
     "data": {
      "text/plain": [
       "{'objective': 'multiclass',\n",
       " 'verbose': 1,\n",
       " 'num_class': 5,\n",
       " 'num_rounds': 50,\n",
       " 'num_leaves': 100}"
      ]
     },
     "execution_count": 38,
     "metadata": {},
     "output_type": "execute_result"
    }
   ],
   "source": [
    "model.params"
   ]
  },
  {
   "cell_type": "code",
   "execution_count": 39,
   "metadata": {},
   "outputs": [],
   "source": [
    "model.params['num_leaves'] = 50"
   ]
  },
  {
   "cell_type": "code",
   "execution_count": 40,
   "metadata": {},
   "outputs": [
    {
     "name": "stdout",
     "output_type": "stream",
     "text": [
      "Thu Mar 21 00:44:06 2019 [validation_model_lgbm_baseline.validation] start validation method 2\n",
      "Thu Mar 21 00:44:09 2019 [validation_model_lgbm_baseline.validation] single score = 0.15494638303255082 \n",
      "Thu Mar 21 00:44:11 2019 [validation_model_lgbm_baseline.validation] single score = 0.14680981917562186 \n",
      "Thu Mar 21 00:44:13 2019 [validation_model_lgbm_baseline.validation] single score = 0.1722275628780785 \n",
      "Thu Mar 21 00:44:16 2019 [validation_model_lgbm_baseline.validation] single score = 0.16373630664040262 \n",
      "Thu Mar 21 00:44:18 2019 [validation_model_lgbm_baseline.validation] single score = 0.1578094386186416 \n",
      "Thu Mar 21 00:44:18 2019 [validation_model_lgbm_baseline.validation] validation score = 0.15910590206905909 \n",
      "Thu Mar 21 00:44:18 2019 [validation_model_lgbm_baseline.validation] finished validation method 2\n"
     ]
    },
    {
     "data": {
      "text/plain": [
       "0.15910590206905909"
      ]
     },
     "execution_count": 40,
     "metadata": {},
     "output_type": "execute_result"
    }
   ],
   "source": [
    "model.validation(X, Y, method=2, verbose=True)"
   ]
  },
  {
   "cell_type": "code",
   "execution_count": 10,
   "metadata": {
    "scrolled": true
   },
   "outputs": [
    {
     "name": "stdout",
     "output_type": "stream",
     "text": [
      "Thu Mar 21 00:31:44 2019 [validation_model_lgbm_baseline.validation] start validation method 1\n",
      "Thu Mar 21 00:31:47 2019 [validation_model_lgbm_baseline.validation] single score = 0.17288737088955342 \n",
      "Thu Mar 21 00:31:47 2019 [validation_model_lgbm_baseline.validation] validation score = 0.17288737088955342 \n",
      "Thu Mar 21 00:31:47 2019 [validation_model_lgbm_baseline.validation] finished validation method 1\n"
     ]
    },
    {
     "data": {
      "text/plain": [
       "0.17288737088955342"
      ]
     },
     "execution_count": 10,
     "metadata": {},
     "output_type": "execute_result"
    }
   ],
   "source": [
    "model.validation(X, Y, n_folds=1, verbose=True)"
   ]
  },
  {
   "cell_type": "code",
   "execution_count": 11,
   "metadata": {},
   "outputs": [
    {
     "name": "stdout",
     "output_type": "stream",
     "text": [
      "printing training results..\n"
     ]
    },
    {
     "data": {
      "image/png": "[encoded data removed]",
      "text/plain": [
       "<Figure size 432x288 with 1 Axes>"
      ]
     },
     "metadata": {
      "needs_background": "light"
     },
     "output_type": "display_data"
    },
    {
     "name": "stdout",
     "output_type": "stream",
     "text": [
      "printing feature importance..\n"
     ]
    },
    {
     "data": {
      "image/png": "[encoded data removed]",
      "text/plain": [
       "<Figure size 720x2160 with 1 Axes>"
      ]
     },
     "metadata": {
      "needs_background": "light"
     },
     "output_type": "display_data"
    }
   ],
   "source": [
    "%matplotlib inline\n",
    "model.visualize()"
   ]
  },
  {
   "cell_type": "markdown",
   "metadata": {},
   "source": [
    "<h1>Exploration</h1>"
   ]
  },
  {
   "cell_type": "code",
   "execution_count": 15,
   "metadata": {},
   "outputs": [],
   "source": [
    "dogs = train[train['Type'] == 1].drop('Type',axis=1)\n",
    "cats = train[train['Type'] == 2].drop('Type',axis=1)"
   ]
  },
  {
   "cell_type": "code",
   "execution_count": 27,
   "metadata": {},
   "outputs": [],
   "source": [
    "\"\"\"\n",
    "this is a really primitive data cleaning to make KNN works: we drop the followings\n",
    "- AdoptionSpeed, is target\n",
    "- Unnamed:0, dataset_type, is useless\n",
    "- Name, RescuerId, Description, PhotoAmt, VideoAmt, PetID: this are all strings valued not able to be processed by KNN\n",
    "\"\"\"\n",
    "X = cats.drop([\"AdoptionSpeed\", \"Unnamed: 0\", \"dataset_type\", \"Name\", \"RescuerID\", \"Description\", \"PetID\"], axis=1)\n",
    "\n",
    "\"\"\"\n",
    "Y is our target value, Adoption Speed can be a value [1,2,3,4]\n",
    "\"\"\"\n",
    "Y = cats['AdoptionSpeed']\n",
    "\n",
    "assert X.shape[0] == Y.shape[0]"
   ]
  },
  {
   "cell_type": "code",
   "execution_count": 28,
   "metadata": {},
   "outputs": [],
   "source": [
    "X = X.reset_index().drop('index',axis=1)\n",
    "Y = Y.reset_index().drop('index',axis=1)['AdoptionSpeed']\n"
   ]
  },
  {
   "cell_type": "code",
   "execution_count": 29,
   "metadata": {},
   "outputs": [
    {
     "name": "stdout",
     "output_type": "stream",
     "text": [
      "Thu Mar 21 00:36:28 2019 [validation_model_lgbm_baseline_dogs.__init__] initialized succesfully\n"
     ]
    }
   ],
   "source": [
    "model = PredictiveModel(\"validation_model_lgbm_baseline_dogs\")"
   ]
  },
  {
   "cell_type": "code",
   "execution_count": 30,
   "metadata": {},
   "outputs": [
    {
     "data": {
      "text/plain": [
       "{'objective': 'multiclass', 'verbose': 1, 'num_class': 5, 'num_rounds': 50}"
      ]
     },
     "execution_count": 30,
     "metadata": {},
     "output_type": "execute_result"
    }
   ],
   "source": [
    "model.params"
   ]
  },
  {
   "cell_type": "code",
   "execution_count": 31,
   "metadata": {},
   "outputs": [
    {
     "name": "stdout",
     "output_type": "stream",
     "text": [
      "Thu Mar 21 00:36:31 2019 [validation_model_lgbm_baseline_dogs.validation] start validation method 2\n",
      "Thu Mar 21 00:36:33 2019 [validation_model_lgbm_baseline_dogs.validation] single score = 0.149260030605749 \n",
      "Thu Mar 21 00:36:36 2019 [validation_model_lgbm_baseline_dogs.validation] single score = 0.13655593059079374 \n",
      "Thu Mar 21 00:36:39 2019 [validation_model_lgbm_baseline_dogs.validation] single score = 0.09622380423758814 \n",
      "Thu Mar 21 00:36:42 2019 [validation_model_lgbm_baseline_dogs.validation] single score = 0.09942326279602476 \n",
      "Thu Mar 21 00:36:44 2019 [validation_model_lgbm_baseline_dogs.validation] single score = 0.14212626799260508 \n",
      "Thu Mar 21 00:36:44 2019 [validation_model_lgbm_baseline_dogs.validation] validation score = 0.12471785924455214 \n",
      "Thu Mar 21 00:36:44 2019 [validation_model_lgbm_baseline_dogs.validation] finished validation method 2\n"
     ]
    },
    {
     "data": {
      "text/plain": [
       "0.12471785924455214"
      ]
     },
     "execution_count": 31,
     "metadata": {},
     "output_type": "execute_result"
    }
   ],
   "source": [
    "model.validation(X, Y, method=2, verbose=True)"
   ]
  },
  {
   "cell_type": "markdown",
   "metadata": {},
   "source": [
    "DOGS: 0.1749853610297417<br>\n",
    "CATS: 0.12471785924455214"
   ]
  },
  {
   "cell_type": "markdown",
   "metadata": {},
   "source": [
    "<h1>How to use lightgbm library"
   ]
  },
  {
   "cell_type": "code",
   "execution_count": 14,
   "metadata": {},
   "outputs": [],
   "source": [
    "import lightgbm as lgb"
   ]
  },
  {
   "cell_type": "code",
   "execution_count": 75,
   "metadata": {},
   "outputs": [
    {
     "data": {
      "text/plain": [
       "14993"
      ]
     },
     "execution_count": 75,
     "metadata": {},
     "output_type": "execute_result"
    }
   ],
   "source": [
    "len(X)"
   ]
  },
  {
   "cell_type": "code",
   "execution_count": 76,
   "metadata": {},
   "outputs": [],
   "source": [
    "lgb_train = lgb.Dataset(X[:-1000], Y[:-1000])\n",
    "lgb_validation = lgb.Dataset(X.iloc[-1000:], Y.iloc[-1000:])"
   ]
  },
  {
   "cell_type": "code",
   "execution_count": 77,
   "metadata": {},
   "outputs": [],
   "source": [
    "params_1 = {\n",
    "            'objective': 'multiclass',\n",
    "            'verbose': 1,\n",
    "            'num_class': 5,\n",
    "            'num_rounds':50\n",
    "        }"
   ]
  },
  {
   "cell_type": "code",
   "execution_count": 84,
   "metadata": {},
   "outputs": [
    {
     "name": "stderr",
     "output_type": "stream",
     "text": [
      "/Users/alex/Desktop/Coding/AI/kaggle-pets/venv/lib/python3.6/site-packages/lightgbm/engine.py:430: UserWarning: Found `num_rounds` in params. Will use it instead of argument\n",
      "  warnings.warn(\"Found `{}` in params. Will use it instead of argument\".format(alias))\n"
     ]
    },
    {
     "data": {
      "text/plain": [
       "{'multi_logloss-mean': [1.453883219176015,\n",
       "  1.4434985907435414,\n",
       "  1.4344527901076731,\n",
       "  1.426590694378433,\n",
       "  1.419740156153806,\n",
       "  1.4137498378268352,\n",
       "  1.408606751991782,\n",
       "  1.403812546530337,\n",
       "  1.3999681279664375,\n",
       "  1.3964026914347534,\n",
       "  1.3931042256244306,\n",
       "  1.390133193613503,\n",
       "  1.3874459558536014,\n",
       "  1.3849441355308618,\n",
       "  1.3828509835642238,\n",
       "  1.3807955360944217,\n",
       "  1.378994238196668,\n",
       "  1.3774590877168043,\n",
       "  1.375758579965044,\n",
       "  1.3742300113904473,\n",
       "  1.372801043557439,\n",
       "  1.3714483039907157,\n",
       "  1.3704213043609643,\n",
       "  1.369412333519891,\n",
       "  1.3685684635381912,\n",
       "  1.367623050489046,\n",
       "  1.3668422354905272,\n",
       "  1.366079805477388,\n",
       "  1.3654847717276515,\n",
       "  1.3649522536514642,\n",
       "  1.364432496875012,\n",
       "  1.3640018258863589,\n",
       "  1.3634603337204845,\n",
       "  1.3631886339696782,\n",
       "  1.3626117176670633,\n",
       "  1.3622125745054459,\n",
       "  1.3617254064772732,\n",
       "  1.3613515392128757,\n",
       "  1.3609016645393752,\n",
       "  1.3605843288460435,\n",
       "  1.3603006763073524,\n",
       "  1.3601598495674867,\n",
       "  1.3599301367826624,\n",
       "  1.3596688106781687,\n",
       "  1.3595780980961973,\n",
       "  1.3592694394417175,\n",
       "  1.3591564993454444,\n",
       "  1.3591126509707374,\n",
       "  1.3589104982471816,\n",
       "  1.3588034284792097],\n",
       " 'multi_logloss-stdv': [0.000559019823895247,\n",
       "  0.0008748163763754753,\n",
       "  0.0010092213543605748,\n",
       "  0.0014349271120212346,\n",
       "  0.0019611848165420774,\n",
       "  0.002300964445308445,\n",
       "  0.0025486287241136027,\n",
       "  0.0027487172574200396,\n",
       "  0.0030194594457263963,\n",
       "  0.003161018526453826,\n",
       "  0.0035243236538257334,\n",
       "  0.0036582142514686696,\n",
       "  0.003794944776186477,\n",
       "  0.003997098223418707,\n",
       "  0.004292588767625704,\n",
       "  0.00454067214265327,\n",
       "  0.004779010135517448,\n",
       "  0.005055871015131983,\n",
       "  0.005353545858171309,\n",
       "  0.0057006176392669665,\n",
       "  0.005968726674184786,\n",
       "  0.005942282924384351,\n",
       "  0.006009526968414282,\n",
       "  0.006247058890706461,\n",
       "  0.006046701907906524,\n",
       "  0.006220900460298554,\n",
       "  0.00632263103196094,\n",
       "  0.006507615197576682,\n",
       "  0.006651454868663726,\n",
       "  0.0068151455913612905,\n",
       "  0.006929360718980551,\n",
       "  0.007020972596353126,\n",
       "  0.007064417912854991,\n",
       "  0.007104166312336442,\n",
       "  0.007070454258943422,\n",
       "  0.007062876613573485,\n",
       "  0.00708731978787032,\n",
       "  0.007001586270704057,\n",
       "  0.0070261309315129495,\n",
       "  0.007080788104109693,\n",
       "  0.007137363083526024,\n",
       "  0.007089589040373067,\n",
       "  0.007030448626781372,\n",
       "  0.007025716023450681,\n",
       "  0.00701007599829412,\n",
       "  0.00700019453224634,\n",
       "  0.006867401105691312,\n",
       "  0.00707423963532955,\n",
       "  0.007079578275407725,\n",
       "  0.007023482394156345]}"
      ]
     },
     "execution_count": 84,
     "metadata": {},
     "output_type": "execute_result"
    }
   ],
   "source": [
    "lgb.cv(params_1, lgb_train)"
   ]
  },
  {
   "cell_type": "code",
   "execution_count": 78,
   "metadata": {},
   "outputs": [
    {
     "name": "stdout",
     "output_type": "stream",
     "text": [
      "[1]\ttrain's multi_logloss: 1.45014\tvalid's multi_logloss: 1.44186\n",
      "[2]\ttrain's multi_logloss: 1.43633\tvalid's multi_logloss: 1.43232\n",
      "[3]\ttrain's multi_logloss: 1.42418\tvalid's multi_logloss: 1.42396\n",
      "[4]\ttrain's multi_logloss: 1.41327\tvalid's multi_logloss: 1.4169\n",
      "[5]\ttrain's multi_logloss: 1.40306\tvalid's multi_logloss: 1.41006\n",
      "[6]\ttrain's multi_logloss: 1.39464\tvalid's multi_logloss: 1.4049\n",
      "[7]\ttrain's multi_logloss: 1.3866\tvalid's multi_logloss: 1.4007\n",
      "[8]\ttrain's multi_logloss: 1.37952\tvalid's multi_logloss: 1.39643\n",
      "[9]\ttrain's multi_logloss: 1.37265\tvalid's multi_logloss: 1.39227\n",
      "[10]\ttrain's multi_logloss: 1.36645\tvalid's multi_logloss: 1.38862\n",
      "[11]\ttrain's multi_logloss: 1.3605\tvalid's multi_logloss: 1.38573\n",
      "[12]\ttrain's multi_logloss: 1.35474\tvalid's multi_logloss: 1.38296\n",
      "[13]\ttrain's multi_logloss: 1.34938\tvalid's multi_logloss: 1.3806\n",
      "[14]\ttrain's multi_logloss: 1.34458\tvalid's multi_logloss: 1.37777\n",
      "[15]\ttrain's multi_logloss: 1.33968\tvalid's multi_logloss: 1.37526\n",
      "[16]\ttrain's multi_logloss: 1.33511\tvalid's multi_logloss: 1.373\n",
      "[17]\ttrain's multi_logloss: 1.33071\tvalid's multi_logloss: 1.37082\n",
      "[18]\ttrain's multi_logloss: 1.32664\tvalid's multi_logloss: 1.36941\n",
      "[19]\ttrain's multi_logloss: 1.32261\tvalid's multi_logloss: 1.36807\n",
      "[20]\ttrain's multi_logloss: 1.31879\tvalid's multi_logloss: 1.36654\n",
      "[21]\ttrain's multi_logloss: 1.31503\tvalid's multi_logloss: 1.36505\n",
      "[22]\ttrain's multi_logloss: 1.3114\tvalid's multi_logloss: 1.36304\n",
      "[23]\ttrain's multi_logloss: 1.30791\tvalid's multi_logloss: 1.36089\n",
      "[24]\ttrain's multi_logloss: 1.30439\tvalid's multi_logloss: 1.35916\n",
      "[25]\ttrain's multi_logloss: 1.30099\tvalid's multi_logloss: 1.35842\n",
      "[26]\ttrain's multi_logloss: 1.29771\tvalid's multi_logloss: 1.3567\n",
      "[27]\ttrain's multi_logloss: 1.29469\tvalid's multi_logloss: 1.35603\n",
      "[28]\ttrain's multi_logloss: 1.29148\tvalid's multi_logloss: 1.35525\n",
      "[29]\ttrain's multi_logloss: 1.28854\tvalid's multi_logloss: 1.35423\n",
      "[30]\ttrain's multi_logloss: 1.2856\tvalid's multi_logloss: 1.35292\n",
      "[31]\ttrain's multi_logloss: 1.28251\tvalid's multi_logloss: 1.35185\n",
      "[32]\ttrain's multi_logloss: 1.27948\tvalid's multi_logloss: 1.35083\n",
      "[33]\ttrain's multi_logloss: 1.27678\tvalid's multi_logloss: 1.3499\n",
      "[34]\ttrain's multi_logloss: 1.27402\tvalid's multi_logloss: 1.34893\n",
      "[35]\ttrain's multi_logloss: 1.27128\tvalid's multi_logloss: 1.34803\n",
      "[36]\ttrain's multi_logloss: 1.26871\tvalid's multi_logloss: 1.34774\n",
      "[37]\ttrain's multi_logloss: 1.266\tvalid's multi_logloss: 1.3464\n",
      "[38]\ttrain's multi_logloss: 1.26359\tvalid's multi_logloss: 1.34568\n",
      "[39]\ttrain's multi_logloss: 1.26119\tvalid's multi_logloss: 1.34498\n",
      "[40]\ttrain's multi_logloss: 1.25869\tvalid's multi_logloss: 1.34426\n",
      "[41]\ttrain's multi_logloss: 1.25653\tvalid's multi_logloss: 1.34424\n",
      "[42]\ttrain's multi_logloss: 1.25412\tvalid's multi_logloss: 1.34334\n",
      "[43]\ttrain's multi_logloss: 1.25181\tvalid's multi_logloss: 1.3436\n",
      "[44]\ttrain's multi_logloss: 1.24956\tvalid's multi_logloss: 1.34253\n",
      "[45]\ttrain's multi_logloss: 1.24747\tvalid's multi_logloss: 1.34244\n",
      "[46]\ttrain's multi_logloss: 1.24514\tvalid's multi_logloss: 1.34143\n",
      "[47]\ttrain's multi_logloss: 1.24299\tvalid's multi_logloss: 1.34133\n",
      "[48]\ttrain's multi_logloss: 1.24083\tvalid's multi_logloss: 1.3407\n",
      "[49]\ttrain's multi_logloss: 1.23889\tvalid's multi_logloss: 1.34052\n",
      "[50]\ttrain's multi_logloss: 1.23697\tvalid's multi_logloss: 1.34046\n"
     ]
    }
   ],
   "source": [
    "train_results = {}\n",
    "model = lgb.train(params_1, lgb_train, evals_result = train_results, valid_sets = [lgb_train, lgb_validation], valid_names=('train','valid'), verbose_eval=1)"
   ]
  },
  {
   "cell_type": "code",
   "execution_count": 71,
   "metadata": {},
   "outputs": [
    {
     "data": {
      "text/plain": [
       "{'train': defaultdict(list,\n",
       "             {'multi_logloss': [1.449211671320533,\n",
       "               1.4355854260341274,\n",
       "               1.4233039830244536,\n",
       "               1.4125042525771594,\n",
       "               1.403031832712716,\n",
       "               1.3945120274737004,\n",
       "               1.3869351745444727,\n",
       "               1.3799327995141506,\n",
       "               1.3729019950462695,\n",
       "               1.366700242198402,\n",
       "               1.3607868451321037,\n",
       "               1.3554803244091,\n",
       "               1.3504166052937803,\n",
       "               1.3456056529842526,\n",
       "               1.3410664136305102,\n",
       "               1.3367830584507878,\n",
       "               1.3325041099795656,\n",
       "               1.328498202936811,\n",
       "               1.3247002539876798,\n",
       "               1.3208098982626957,\n",
       "               1.3173220070114218,\n",
       "               1.3138600134788603,\n",
       "               1.3108021861583576,\n",
       "               1.3072787237974455,\n",
       "               1.304069089986533,\n",
       "               1.3011820689931808,\n",
       "               1.2979316254691666,\n",
       "               1.2946775024890036,\n",
       "               1.291669619233749,\n",
       "               1.2886720763154749,\n",
       "               1.2861075887368605,\n",
       "               1.2833365988508882,\n",
       "               1.2806695439326343,\n",
       "               1.2777082635554158,\n",
       "               1.2751033885689587,\n",
       "               1.2725274754185274,\n",
       "               1.2699539311934174,\n",
       "               1.2672485085134746,\n",
       "               1.2648914182761573,\n",
       "               1.2625390384092414,\n",
       "               1.2602590686463244,\n",
       "               1.2579304316956825,\n",
       "               1.2556449196372192,\n",
       "               1.2532940625562579,\n",
       "               1.2510750097765366,\n",
       "               1.2487819131259261,\n",
       "               1.24676969978043,\n",
       "               1.24476889989867,\n",
       "               1.2426300019870293,\n",
       "               1.240599567983163]}),\n",
       " 'valid': defaultdict(list,\n",
       "             {'multi_logloss': [1.4208286204998857,\n",
       "               1.4068558563928988,\n",
       "               1.3941984072925282,\n",
       "               1.3822823204657895,\n",
       "               1.3725477512491338,\n",
       "               1.3627968499455458,\n",
       "               1.3544430383799881,\n",
       "               1.3464554121114494,\n",
       "               1.3386171769341266,\n",
       "               1.3326278045444242,\n",
       "               1.3268713097155855,\n",
       "               1.3217061950131648,\n",
       "               1.3161495666691392,\n",
       "               1.3115825829806618,\n",
       "               1.306997322772067,\n",
       "               1.3028515559475515,\n",
       "               1.2982786736781853,\n",
       "               1.2949295307051778,\n",
       "               1.2909775168986837,\n",
       "               1.2874508797900561,\n",
       "               1.2836396862213986,\n",
       "               1.2798780499841291,\n",
       "               1.276528052347725,\n",
       "               1.2722737233171026,\n",
       "               1.2692857781585276,\n",
       "               1.2660023781872933,\n",
       "               1.2623798205565127,\n",
       "               1.2589064185032086,\n",
       "               1.2560307859793134,\n",
       "               1.2525267521944399,\n",
       "               1.2497716128173393,\n",
       "               1.2469080448968481,\n",
       "               1.2436760431329263,\n",
       "               1.2413362402994808,\n",
       "               1.23825839815051,\n",
       "               1.2348155612412655,\n",
       "               1.2319760228844572,\n",
       "               1.2284556884788147,\n",
       "               1.2260107007011807,\n",
       "               1.2233967338610185,\n",
       "               1.2211297142040483,\n",
       "               1.2189336220336084,\n",
       "               1.2161768886854838,\n",
       "               1.213621942529575,\n",
       "               1.2113530033933186,\n",
       "               1.208548418631358,\n",
       "               1.2064585944887636,\n",
       "               1.2042763967365564,\n",
       "               1.2020685315737298,\n",
       "               1.200102464028225]})}"
      ]
     },
     "execution_count": 71,
     "metadata": {},
     "output_type": "execute_result"
    }
   ],
   "source": [
    "train_results"
   ]
  },
  {
   "cell_type": "code",
   "execution_count": 79,
   "metadata": {},
   "outputs": [
    {
     "name": "stdout",
     "output_type": "stream",
     "text": [
      "[[0.02296437 0.21962677 0.3132414  0.1747522  0.26941526]\n",
      " [0.06181224 0.36380136 0.24756899 0.14750072 0.17931671]\n",
      " [0.01701901 0.24854638 0.3364091  0.32246144 0.07556407]\n",
      " ...\n",
      " [0.05372216 0.18061949 0.21408763 0.12863282 0.42293789]\n",
      " [0.02809258 0.13040271 0.24354865 0.21277875 0.38517731]\n",
      " [0.0234218  0.27866807 0.35732416 0.21941615 0.12116981]]\n"
     ]
    }
   ],
   "source": [
    "preds = model.predict(X)\n",
    "print(preds)"
   ]
  },
  {
   "cell_type": "code",
   "execution_count": 80,
   "metadata": {},
   "outputs": [],
   "source": [
    "from sklearn.metrics import accuracy_score as ac"
   ]
  },
  {
   "cell_type": "code",
   "execution_count": 81,
   "metadata": {},
   "outputs": [
    {
     "data": {
      "text/plain": [
       "0.4757553524978323"
      ]
     },
     "execution_count": 81,
     "metadata": {},
     "output_type": "execute_result"
    }
   ],
   "source": [
    "ac(Y, np.argmax(preds, axis=1))"
   ]
  },
  {
   "cell_type": "code",
   "execution_count": null,
   "metadata": {},
   "outputs": [],
   "source": []
  }
 ],
 "metadata": {
  "kernelspec": {
   "display_name": "Python 3",
   "language": "python",
   "name": "python3"
  },
  "language_info": {
   "codemirror_mode": {
    "name": "ipython",
    "version": 3
   },
   "file_extension": ".py",
   "mimetype": "text/x-python",
   "name": "python",
   "nbconvert_exporter": "python",
   "pygments_lexer": "ipython3",
   "version": "3.6.5"
  }
 },
 "nbformat": 4,
 "nbformat_minor": 2
}
