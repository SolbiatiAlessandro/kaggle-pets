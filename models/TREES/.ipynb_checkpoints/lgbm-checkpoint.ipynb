{
 "cells": [
  {
   "cell_type": "markdown",
   "metadata": {},
   "source": [
    "<h1>lgbm baseline</h1>"
   ]
  },
  {
   "cell_type": "markdown",
   "metadata": {},
   "source": [
    "<h1>DATA LOADING"
   ]
  },
  {
   "cell_type": "code",
   "execution_count": 1,
   "metadata": {},
   "outputs": [],
   "source": [
    "import pandas as pd\n",
    "import numpy as np"
   ]
  },
  {
   "cell_type": "code",
   "execution_count": 2,
   "metadata": {},
   "outputs": [],
   "source": [
    "import os\n",
    "os.listdir('../../data')\n",
    "assert 'out_breed.csv' in os.listdir('../../data') # this assert breaks if the data is configured uncorrectly"
   ]
  },
  {
   "cell_type": "code",
   "execution_count": 3,
   "metadata": {},
   "outputs": [],
   "source": [
    "breeds = pd.read_csv('../../data/out_breed.csv')\n",
    "colors = pd.read_csv('../../data/out_color.csv')\n",
    "states = pd.read_csv('../../data/out_state.csv')\n",
    "train  = pd.read_csv('../../data/out_train.csv')\n",
    "test   = pd.read_csv('../../data/out_test.csv')\n",
    "sub    = pd.read_csv('../../data/out_submission.csv')"
   ]
  },
  {
   "cell_type": "markdown",
   "metadata": {},
   "source": [
    "<h1>MODEL</h1>"
   ]
  },
  {
   "cell_type": "code",
   "execution_count": 4,
   "metadata": {},
   "outputs": [
    {
     "ename": "ModuleNotFoundError",
     "evalue": "No module named 'knnModel'",
     "output_type": "error",
     "traceback": [
      "\u001b[0;31m---------------------------------------------------------------------------\u001b[0m",
      "\u001b[0;31mModuleNotFoundError\u001b[0m                       Traceback (most recent call last)",
      "\u001b[0;32m<ipython-input-4-0f9b24060de5>\u001b[0m in \u001b[0;36m<module>\u001b[0;34m\u001b[0m\n\u001b[0;32m----> 1\u001b[0;31m \u001b[0;32mfrom\u001b[0m \u001b[0mknnModel\u001b[0m \u001b[0;32mimport\u001b[0m \u001b[0mPredictiveModel\u001b[0m\u001b[0;34m\u001b[0m\u001b[0m\n\u001b[0m",
      "\u001b[0;31mModuleNotFoundError\u001b[0m: No module named 'knnModel'"
     ]
    }
   ],
   "source": [
    "from knnModel import PredictiveModel"
   ]
  },
  {
   "cell_type": "markdown",
   "metadata": {},
   "source": [
    "<h1>EXAMPLE USAGE</h1>"
   ]
  },
  {
   "cell_type": "code",
   "execution_count": 5,
   "metadata": {},
   "outputs": [],
   "source": [
    "\"\"\"\n",
    "this is a really primitive data cleaning to make KNN works: we drop the followings\n",
    "- AdoptionSpeed, is target\n",
    "- Unnamed:0, dataset_type, is useless\n",
    "- Name, RescuerId, Description, PhotoAmt, VideoAmt, PetID: this are all strings valued not able to be processed by KNN\n",
    "\"\"\"\n",
    "X = train.drop([\"AdoptionSpeed\", \"Unnamed: 0\", \"dataset_type\", \"Name\", \"RescuerID\", \"Description\", \"PhotoAmt\",\"VideoAmt\",\"PetID\"], axis=1)\n",
    "X_test = test.drop([\"Unnamed: 0\", \"dataset_type\", \"Name\", \"RescuerID\", \"Description\", \"PhotoAmt\",\"VideoAmt\",\"PetID\"], axis=1)\n",
    "\n",
    "\"\"\"\n",
    "Y is our target value, Adoption Speed can be a value [1,2,3,4]\n",
    "\"\"\"\n",
    "Y = train['AdoptionSpeed']\n",
    "\n",
    "assert X.shape[0] == Y.shape[0]"
   ]
  },
  {
   "cell_type": "code",
   "execution_count": 6,
   "metadata": {},
   "outputs": [
    {
     "name": "stdout",
     "output_type": "stream",
     "text": [
      "Sat Mar  2 00:32:10 2019 [example_usage_model.__init__] initialized succesfully\n",
      "Sat Mar  2 00:32:10 2019 [example_usage_model.train] start training\n",
      "Sat Mar  2 00:32:10 2019 [example_usage_model.train] trained succefully\n",
      "Sat Mar  2 00:32:10 2019 [example_usage_model.predict] start predictions\n",
      "Sat Mar  2 00:32:11 2019 [example_usage_model.predict] predicted succesfully\n"
     ]
    }
   ],
   "source": [
    "model = PredictiveModel(\"example_usage_model\")\n",
    "model.train(X, Y)\n",
    "predictions = model.predict(X_test)\n",
    "assert len(predictions)"
   ]
  },
  {
   "cell_type": "markdown",
   "metadata": {},
   "source": [
    "<h1>VALIDATION"
   ]
  },
  {
   "cell_type": "code",
   "execution_count": 7,
   "metadata": {},
   "outputs": [],
   "source": [
    "\"\"\"\n",
    "this is a really primitive data cleaning to make KNN works: we drop the followings\n",
    "- AdoptionSpeed, is target\n",
    "- Unnamed:0, dataset_type, is useless\n",
    "- Name, RescuerId, Description, PhotoAmt, VideoAmt, PetID: this are all strings valued not able to be processed by KNN\n",
    "\"\"\"\n",
    "X = train.drop([\"AdoptionSpeed\", \"Unnamed: 0\", \"dataset_type\", \"Name\", \"RescuerID\", \"Description\", \"PhotoAmt\",\"VideoAmt\",\"PetID\"], axis=1)\n",
    "X_test = test.drop([\"Unnamed: 0\", \"dataset_type\", \"Name\", \"RescuerID\", \"Description\", \"PhotoAmt\",\"VideoAmt\",\"PetID\"], axis=1)\n",
    "\n",
    "\"\"\"\n",
    "Y is our target value, Adoption Speed can be a value [1,2,3,4]\n",
    "\"\"\"\n",
    "Y = train['AdoptionSpeed']\n",
    "\n",
    "assert X.shape[0] == Y.shape[0]"
   ]
  },
  {
   "cell_type": "code",
   "execution_count": 8,
   "metadata": {},
   "outputs": [
    {
     "name": "stdout",
     "output_type": "stream",
     "text": [
      "Sat Mar  2 00:32:11 2019 [validation_model_Oana.__init__] initialized succesfully\n"
     ]
    }
   ],
   "source": [
    "model = PredictiveModel(\"validation_model_Oana\")"
   ]
  },
  {
   "cell_type": "code",
   "execution_count": 9,
   "metadata": {},
   "outputs": [
    {
     "name": "stdout",
     "output_type": "stream",
     "text": [
      "Sat Mar  2 00:32:11 2019 [validation_model_Oana.validation] start validation method 1\n",
      "Sat Mar  2 00:32:11 2019 [validation_model_Oana.train] start training\n",
      "Sat Mar  2 00:32:11 2019 [validation_model_Oana.train] trained succefully\n",
      "Sat Mar  2 00:32:11 2019 [validation_model_Oana.predict] start predictions\n",
      "Sat Mar  2 00:32:12 2019 [validation_model_Oana.predict] predicted succesfully\n",
      "Sat Mar  2 00:32:12 2019 [validation_model_Oana.evaluate] start evaluation\n",
      "Sat Mar  2 00:32:12 2019 [validation_model_Oana.evaluate] evaluated succesfully\n",
      "Sat Mar  2 00:32:12 2019 [validation_model_Oana.validation] single score = 0.14250968093848493 \n",
      "Sat Mar  2 00:32:12 2019 [validation_model_Oana.train] start training\n",
      "Sat Mar  2 00:32:12 2019 [validation_model_Oana.train] trained succefully\n",
      "Sat Mar  2 00:32:12 2019 [validation_model_Oana.predict] start predictions\n",
      "Sat Mar  2 00:32:13 2019 [validation_model_Oana.predict] predicted succesfully\n",
      "Sat Mar  2 00:32:13 2019 [validation_model_Oana.evaluate] start evaluation\n",
      "Sat Mar  2 00:32:13 2019 [validation_model_Oana.evaluate] evaluated succesfully\n",
      "Sat Mar  2 00:32:13 2019 [validation_model_Oana.validation] single score = 0.13850282721244045 \n",
      "Sat Mar  2 00:32:13 2019 [validation_model_Oana.train] start training\n",
      "Sat Mar  2 00:32:13 2019 [validation_model_Oana.train] trained succefully\n",
      "Sat Mar  2 00:32:13 2019 [validation_model_Oana.predict] start predictions\n",
      "Sat Mar  2 00:32:14 2019 [validation_model_Oana.predict] predicted succesfully\n",
      "Sat Mar  2 00:32:14 2019 [validation_model_Oana.evaluate] start evaluation\n",
      "Sat Mar  2 00:32:14 2019 [validation_model_Oana.evaluate] evaluated succesfully\n",
      "Sat Mar  2 00:32:14 2019 [validation_model_Oana.validation] single score = 0.13283180292455954 \n",
      "Sat Mar  2 00:32:14 2019 [validation_model_Oana.train] start training\n",
      "Sat Mar  2 00:32:15 2019 [validation_model_Oana.train] trained succefully\n",
      "Sat Mar  2 00:32:15 2019 [validation_model_Oana.predict] start predictions\n",
      "Sat Mar  2 00:32:15 2019 [validation_model_Oana.predict] predicted succesfully\n",
      "Sat Mar  2 00:32:15 2019 [validation_model_Oana.evaluate] start evaluation\n",
      "Sat Mar  2 00:32:15 2019 [validation_model_Oana.evaluate] evaluated succesfully\n",
      "Sat Mar  2 00:32:15 2019 [validation_model_Oana.validation] single score = 0.12275557992837582 \n",
      "Sat Mar  2 00:32:15 2019 [validation_model_Oana.train] start training\n",
      "Sat Mar  2 00:32:16 2019 [validation_model_Oana.train] trained succefully\n",
      "Sat Mar  2 00:32:16 2019 [validation_model_Oana.predict] start predictions\n",
      "Sat Mar  2 00:32:16 2019 [validation_model_Oana.predict] predicted succesfully\n",
      "Sat Mar  2 00:32:16 2019 [validation_model_Oana.evaluate] start evaluation\n",
      "Sat Mar  2 00:32:16 2019 [validation_model_Oana.evaluate] evaluated succesfully\n",
      "Sat Mar  2 00:32:16 2019 [validation_model_Oana.validation] single score = 0.1229228435643227 \n",
      "Sat Mar  2 00:32:16 2019 [validation_model_Oana.validation] validation score = 0.13190454691363668 \n",
      "Sat Mar  2 00:32:16 2019 [validation_model_Oana.validation] finished validation method 1\n"
     ]
    },
    {
     "data": {
      "text/plain": [
       "0.13190454691363668"
      ]
     },
     "execution_count": 9,
     "metadata": {},
     "output_type": "execute_result"
    }
   ],
   "source": [
    "model.validation(X, Y, method=1)"
   ]
  },
  {
   "cell_type": "code",
   "execution_count": 10,
   "metadata": {},
   "outputs": [
    {
     "name": "stdout",
     "output_type": "stream",
     "text": [
      "Sat Mar  2 00:32:16 2019 [validation_model_Oana.validation] start validation method 2\n",
      "Sat Mar  2 00:32:16 2019 [validation_model_Oana.train] start training\n",
      "Sat Mar  2 00:32:17 2019 [validation_model_Oana.train] trained succefully\n",
      "Sat Mar  2 00:32:17 2019 [validation_model_Oana.predict] start predictions\n",
      "Sat Mar  2 00:32:17 2019 [validation_model_Oana.predict] predicted succesfully\n",
      "Sat Mar  2 00:32:17 2019 [validation_model_Oana.evaluate] start evaluation\n",
      "Sat Mar  2 00:32:17 2019 [validation_model_Oana.evaluate] evaluated succesfully\n",
      "Sat Mar  2 00:32:17 2019 [validation_model_Oana.validation] single score = 0.14050667085975033 \n",
      "Sat Mar  2 00:32:17 2019 [validation_model_Oana.train] start training\n",
      "Sat Mar  2 00:32:17 2019 [validation_model_Oana.train] trained succefully\n",
      "Sat Mar  2 00:32:17 2019 [validation_model_Oana.predict] start predictions\n",
      "Sat Mar  2 00:32:18 2019 [validation_model_Oana.predict] predicted succesfully\n",
      "Sat Mar  2 00:32:18 2019 [validation_model_Oana.evaluate] start evaluation\n",
      "Sat Mar  2 00:32:18 2019 [validation_model_Oana.evaluate] evaluated succesfully\n",
      "Sat Mar  2 00:32:18 2019 [validation_model_Oana.validation] single score = 0.12524577798128522 \n",
      "Sat Mar  2 00:32:18 2019 [validation_model_Oana.train] start training\n",
      "Sat Mar  2 00:32:18 2019 [validation_model_Oana.train] trained succefully\n",
      "Sat Mar  2 00:32:18 2019 [validation_model_Oana.predict] start predictions\n",
      "Sat Mar  2 00:32:19 2019 [validation_model_Oana.predict] predicted succesfully\n",
      "Sat Mar  2 00:32:19 2019 [validation_model_Oana.evaluate] start evaluation\n",
      "Sat Mar  2 00:32:19 2019 [validation_model_Oana.evaluate] evaluated succesfully\n",
      "Sat Mar  2 00:32:19 2019 [validation_model_Oana.validation] single score = 0.13429805395617367 \n",
      "Sat Mar  2 00:32:19 2019 [validation_model_Oana.train] start training\n",
      "Sat Mar  2 00:32:20 2019 [validation_model_Oana.train] trained succefully\n",
      "Sat Mar  2 00:32:20 2019 [validation_model_Oana.predict] start predictions\n",
      "Sat Mar  2 00:32:20 2019 [validation_model_Oana.predict] predicted succesfully\n",
      "Sat Mar  2 00:32:20 2019 [validation_model_Oana.evaluate] start evaluation\n",
      "Sat Mar  2 00:32:20 2019 [validation_model_Oana.evaluate] evaluated succesfully\n",
      "Sat Mar  2 00:32:20 2019 [validation_model_Oana.validation] single score = 0.12994629016577297 \n",
      "Sat Mar  2 00:32:20 2019 [validation_model_Oana.train] start training\n",
      "Sat Mar  2 00:32:20 2019 [validation_model_Oana.train] trained succefully\n",
      "Sat Mar  2 00:32:20 2019 [validation_model_Oana.predict] start predictions\n",
      "Sat Mar  2 00:32:21 2019 [validation_model_Oana.predict] predicted succesfully\n",
      "Sat Mar  2 00:32:21 2019 [validation_model_Oana.evaluate] start evaluation\n",
      "Sat Mar  2 00:32:21 2019 [validation_model_Oana.evaluate] evaluated succesfully\n",
      "Sat Mar  2 00:32:21 2019 [validation_model_Oana.validation] single score = 0.12423904546242992 \n",
      "Sat Mar  2 00:32:21 2019 [validation_model_Oana.validation] validation score = 0.13084716768508242 \n",
      "Sat Mar  2 00:32:21 2019 [validation_model_Oana.validation] finished validation method 2\n"
     ]
    },
    {
     "data": {
      "text/plain": [
       "0.13084716768508242"
      ]
     },
     "execution_count": 10,
     "metadata": {},
     "output_type": "execute_result"
    }
   ],
   "source": [
    "model.validation(X, Y, method=2)"
   ]
  },
  {
   "cell_type": "markdown",
   "metadata": {},
   "source": [
    "<h1>Scoring"
   ]
  },
  {
   "cell_type": "code",
   "execution_count": 7,
   "metadata": {},
   "outputs": [],
   "source": [
    "to_drop = [\"Unnamed: 0\", \"dataset_type\", \"Name\", \"RescuerID\", \"Description\", \"PhotoAmt\",\"VideoAmt\",\"PetID\"]\n",
    "\n",
    "X = train.drop([\"AdoptionSpeed\"] + to_drop , axis=1)\n",
    "X_test = test.drop(to_drop, axis=1)\n",
    "\n",
    "Y = train['AdoptionSpeed']\n",
    "\n",
    "assert X.shape[0] == Y.shape[0]"
   ]
  },
  {
   "cell_type": "code",
   "execution_count": 13,
   "metadata": {},
   "outputs": [
    {
     "name": "stdout",
     "output_type": "stream",
     "text": [
      "Tue Mar 12 15:54:25 2019 [bestK.__init__] initialized succesfully\n",
      "Tue Mar 12 15:54:25 2019 [bestK.validation] start validation method 2\n",
      "Tue Mar 12 15:54:25 2019 [bestK.validation] single score = 0.11891848840541919 \n",
      "Tue Mar 12 15:54:25 2019 [bestK.validation] single score = 0.11673125822161978 \n",
      "Tue Mar 12 15:54:26 2019 [bestK.validation] single score = 0.10817703943995638 \n",
      "Tue Mar 12 15:54:26 2019 [bestK.validation] single score = 0.11346118603638533 \n",
      "Tue Mar 12 15:54:26 2019 [bestK.validation] single score = 0.10302980624404434 \n",
      "Tue Mar 12 15:54:26 2019 [bestK.validation] validation score = 0.112063555669485 \n",
      "Tue Mar 12 15:54:26 2019 [bestK.validation] finished validation method 2\n",
      "Tue Mar 12 15:54:26 2019 [bestK.__init__] initialized succesfully\n",
      "Tue Mar 12 15:54:26 2019 [bestK.validation] start validation method 2\n",
      "Tue Mar 12 15:54:27 2019 [bestK.validation] single score = 0.08967505970250489 \n",
      "Tue Mar 12 15:54:27 2019 [bestK.validation] single score = 0.08411824254407008 \n",
      "Tue Mar 12 15:54:27 2019 [bestK.validation] single score = 0.08216047015252048 \n",
      "Tue Mar 12 15:54:28 2019 [bestK.validation] single score = 0.08695813378025719 \n",
      "Tue Mar 12 15:54:28 2019 [bestK.validation] single score = 0.08237377903892784 \n",
      "Tue Mar 12 15:54:28 2019 [bestK.validation] validation score = 0.0850571370436561 \n",
      "Tue Mar 12 15:54:28 2019 [bestK.validation] finished validation method 2\n",
      "Tue Mar 12 15:54:28 2019 [bestK.__init__] initialized succesfully\n",
      "Tue Mar 12 15:54:28 2019 [bestK.validation] start validation method 2\n",
      "Tue Mar 12 15:54:28 2019 [bestK.validation] single score = 0.12621060907016757 \n",
      "Tue Mar 12 15:54:29 2019 [bestK.validation] single score = 0.10980325137871794 \n",
      "Tue Mar 12 15:54:29 2019 [bestK.validation] single score = 0.11705075300521173 \n",
      "Tue Mar 12 15:54:29 2019 [bestK.validation] single score = 0.1110557518497346 \n",
      "Tue Mar 12 15:54:30 2019 [bestK.validation] single score = 0.12428083689073355 \n",
      "Tue Mar 12 15:54:30 2019 [bestK.validation] validation score = 0.11768024043891308 \n",
      "Tue Mar 12 15:54:30 2019 [bestK.validation] finished validation method 2\n",
      "Tue Mar 12 15:54:30 2019 [bestK.__init__] initialized succesfully\n",
      "Tue Mar 12 15:54:30 2019 [bestK.validation] start validation method 2\n",
      "Tue Mar 12 15:54:30 2019 [bestK.validation] single score = 0.11667207288779391 \n",
      "Tue Mar 12 15:54:30 2019 [bestK.validation] single score = 0.09947034455654835 \n",
      "Tue Mar 12 15:54:31 2019 [bestK.validation] single score = 0.11505709857655477 \n",
      "Tue Mar 12 15:54:31 2019 [bestK.validation] single score = 0.11751837728182912 \n",
      "Tue Mar 12 15:54:31 2019 [bestK.validation] single score = 0.12462874411396907 \n",
      "Tue Mar 12 15:54:31 2019 [bestK.validation] validation score = 0.11466932748333905 \n",
      "Tue Mar 12 15:54:31 2019 [bestK.validation] finished validation method 2\n",
      "Tue Mar 12 15:54:31 2019 [bestK.__init__] initialized succesfully\n",
      "Tue Mar 12 15:54:31 2019 [bestK.validation] start validation method 2\n",
      "Tue Mar 12 15:54:32 2019 [bestK.validation] single score = 0.11320982804395807 \n",
      "Tue Mar 12 15:54:32 2019 [bestK.validation] single score = 0.0920189406516202 \n",
      "Tue Mar 12 15:54:33 2019 [bestK.validation] single score = 0.1281162023246306 \n",
      "Tue Mar 12 15:54:33 2019 [bestK.validation] single score = 0.11693176143095407 \n",
      "Tue Mar 12 15:54:33 2019 [bestK.validation] single score = 0.120771222648558 \n",
      "Tue Mar 12 15:54:33 2019 [bestK.validation] validation score = 0.11420959101994418 \n",
      "Tue Mar 12 15:54:33 2019 [bestK.validation] finished validation method 2\n",
      "Tue Mar 12 15:54:33 2019 [bestK.__init__] initialized succesfully\n",
      "Tue Mar 12 15:54:33 2019 [bestK.validation] start validation method 2\n",
      "Tue Mar 12 15:54:34 2019 [bestK.validation] single score = 0.12767361942734246 \n",
      "Tue Mar 12 15:54:34 2019 [bestK.validation] single score = 0.11728714757911418 \n",
      "Tue Mar 12 15:54:34 2019 [bestK.validation] single score = 0.1190999911092282 \n",
      "Tue Mar 12 15:54:35 2019 [bestK.validation] single score = 0.11965692363350666 \n",
      "Tue Mar 12 15:54:35 2019 [bestK.validation] single score = 0.11276177175742164 \n",
      "Tue Mar 12 15:54:35 2019 [bestK.validation] validation score = 0.11929589070132263 \n",
      "Tue Mar 12 15:54:35 2019 [bestK.validation] finished validation method 2\n",
      "Tue Mar 12 15:54:35 2019 [bestK.__init__] initialized succesfully\n",
      "Tue Mar 12 15:54:35 2019 [bestK.validation] start validation method 2\n",
      "Tue Mar 12 15:54:35 2019 [bestK.validation] single score = 0.13662629433451812 \n",
      "Tue Mar 12 15:54:36 2019 [bestK.validation] single score = 0.13070933596202483 \n",
      "Tue Mar 12 15:54:36 2019 [bestK.validation] single score = 0.13463588576132945 \n",
      "Tue Mar 12 15:54:36 2019 [bestK.validation] single score = 0.1292017406448559 \n",
      "Tue Mar 12 15:54:37 2019 [bestK.validation] single score = 0.13460906962702457 \n",
      "Tue Mar 12 15:54:37 2019 [bestK.validation] validation score = 0.13315646526595057 \n",
      "Tue Mar 12 15:54:37 2019 [bestK.validation] finished validation method 2\n",
      "Tue Mar 12 15:54:37 2019 [bestK.__init__] initialized succesfully\n",
      "Tue Mar 12 15:54:37 2019 [bestK.validation] start validation method 2\n",
      "Tue Mar 12 15:54:37 2019 [bestK.validation] single score = 0.1276253167477338 \n",
      "Tue Mar 12 15:54:38 2019 [bestK.validation] single score = 0.11561608550691493 \n",
      "Tue Mar 12 15:54:38 2019 [bestK.validation] single score = 0.12416965093871402 \n",
      "Tue Mar 12 15:54:38 2019 [bestK.validation] single score = 0.1282694247841013 \n",
      "Tue Mar 12 15:54:39 2019 [bestK.validation] single score = 0.1283043264447652 \n",
      "Tue Mar 12 15:54:39 2019 [bestK.validation] validation score = 0.12479696088444585 \n",
      "Tue Mar 12 15:54:39 2019 [bestK.validation] finished validation method 2\n",
      "Tue Mar 12 15:54:39 2019 [bestK.__init__] initialized succesfully\n",
      "Tue Mar 12 15:54:39 2019 [bestK.validation] start validation method 2\n",
      "Tue Mar 12 15:54:39 2019 [bestK.validation] single score = 0.129256936285159 \n",
      "Tue Mar 12 15:54:39 2019 [bestK.validation] single score = 0.1164829621000858 \n",
      "Tue Mar 12 15:54:40 2019 [bestK.validation] single score = 0.13228075377577864 \n",
      "Tue Mar 12 15:54:40 2019 [bestK.validation] single score = 0.13556182471769995 \n",
      "Tue Mar 12 15:54:40 2019 [bestK.validation] single score = 0.12444907848738973 \n",
      "Tue Mar 12 15:54:40 2019 [bestK.validation] validation score = 0.12760631107322262 \n",
      "Tue Mar 12 15:54:40 2019 [bestK.validation] finished validation method 2\n",
      "Tue Mar 12 15:54:40 2019 [bestK.__init__] initialized succesfully\n",
      "Tue Mar 12 15:54:40 2019 [bestK.validation] start validation method 2\n",
      "Tue Mar 12 15:54:41 2019 [bestK.validation] single score = 0.12115717605910015 \n",
      "Tue Mar 12 15:54:41 2019 [bestK.validation] single score = 0.11528972177342744 \n",
      "Tue Mar 12 15:54:41 2019 [bestK.validation] single score = 0.12675855523078494 \n",
      "Tue Mar 12 15:54:42 2019 [bestK.validation] single score = 0.1229952119405272 \n",
      "Tue Mar 12 15:54:42 2019 [bestK.validation] single score = 0.12414896297352596 \n",
      "Tue Mar 12 15:54:42 2019 [bestK.validation] validation score = 0.12206992559547314 \n",
      "Tue Mar 12 15:54:42 2019 [bestK.validation] finished validation method 2\n",
      "Tue Mar 12 15:54:42 2019 [bestK.__init__] initialized succesfully\n",
      "Tue Mar 12 15:54:42 2019 [bestK.validation] start validation method 2\n",
      "Tue Mar 12 15:54:43 2019 [bestK.validation] single score = 0.1350130943817981 \n",
      "Tue Mar 12 15:54:43 2019 [bestK.validation] single score = 0.12201423259344979 \n",
      "Tue Mar 12 15:54:43 2019 [bestK.validation] single score = 0.1314155179445291 \n",
      "Tue Mar 12 15:54:44 2019 [bestK.validation] single score = 0.12429550224914099 \n",
      "Tue Mar 12 15:54:44 2019 [bestK.validation] single score = 0.12927916790391902 \n",
      "Tue Mar 12 15:54:44 2019 [bestK.validation] validation score = 0.1284035030145674 \n",
      "Tue Mar 12 15:54:44 2019 [bestK.validation] finished validation method 2\n",
      "Tue Mar 12 15:54:44 2019 [bestK.__init__] initialized succesfully\n",
      "Tue Mar 12 15:54:44 2019 [bestK.validation] start validation method 2\n",
      "Tue Mar 12 15:54:44 2019 [bestK.validation] single score = 0.1306825988183693 \n",
      "Tue Mar 12 15:54:45 2019 [bestK.validation] single score = 0.11472567787025245 \n",
      "Tue Mar 12 15:54:45 2019 [bestK.validation] single score = 0.12692803355831506 \n",
      "Tue Mar 12 15:54:46 2019 [bestK.validation] single score = 0.12438979850185516 \n",
      "Tue Mar 12 15:54:46 2019 [bestK.validation] single score = 0.11596526010534403 \n",
      "Tue Mar 12 15:54:46 2019 [bestK.validation] validation score = 0.1225382737708272 \n",
      "Tue Mar 12 15:54:46 2019 [bestK.validation] finished validation method 2\n",
      "Tue Mar 12 15:54:46 2019 [bestK.__init__] initialized succesfully\n",
      "Tue Mar 12 15:54:46 2019 [bestK.validation] start validation method 2\n"
     ]
    },
    {
     "name": "stdout",
     "output_type": "stream",
     "text": [
      "Tue Mar 12 15:54:46 2019 [bestK.validation] single score = 0.12572322346381115 \n",
      "Tue Mar 12 15:54:47 2019 [bestK.validation] single score = 0.1161314757242703 \n",
      "Tue Mar 12 15:54:47 2019 [bestK.validation] single score = 0.13527194100117412 \n",
      "Tue Mar 12 15:54:47 2019 [bestK.validation] single score = 0.1264233336031082 \n",
      "Tue Mar 12 15:54:48 2019 [bestK.validation] single score = 0.11435886782054017 \n",
      "Tue Mar 12 15:54:48 2019 [bestK.validation] validation score = 0.12358176832258079 \n",
      "Tue Mar 12 15:54:48 2019 [bestK.validation] finished validation method 2\n",
      "Tue Mar 12 15:54:48 2019 [bestK.__init__] initialized succesfully\n",
      "Tue Mar 12 15:54:48 2019 [bestK.validation] start validation method 2\n",
      "Tue Mar 12 15:54:48 2019 [bestK.validation] single score = 0.12886218159535745 \n",
      "Tue Mar 12 15:54:49 2019 [bestK.validation] single score = 0.12415048540103824 \n",
      "Tue Mar 12 15:54:49 2019 [bestK.validation] single score = 0.12899641178188548 \n",
      "Tue Mar 12 15:54:49 2019 [bestK.validation] single score = 0.12671738783662878 \n",
      "Tue Mar 12 15:54:50 2019 [bestK.validation] single score = 0.12593923476958246 \n",
      "Tue Mar 12 15:54:50 2019 [bestK.validation] validation score = 0.12693314027689848 \n",
      "Tue Mar 12 15:54:50 2019 [bestK.validation] finished validation method 2\n",
      "Tue Mar 12 15:54:50 2019 [bestK.__init__] initialized succesfully\n",
      "Tue Mar 12 15:54:50 2019 [bestK.validation] start validation method 2\n",
      "Tue Mar 12 15:54:50 2019 [bestK.validation] single score = 0.12104389700063023 \n",
      "Tue Mar 12 15:54:50 2019 [bestK.validation] single score = 0.12371437840346378 \n",
      "Tue Mar 12 15:54:51 2019 [bestK.validation] single score = 0.12655285233379188 \n",
      "Tue Mar 12 15:54:51 2019 [bestK.validation] single score = 0.12641712064372634 \n",
      "Tue Mar 12 15:54:51 2019 [bestK.validation] single score = 0.1359558082801655 \n",
      "Tue Mar 12 15:54:51 2019 [bestK.validation] validation score = 0.12673681133235554 \n",
      "Tue Mar 12 15:54:51 2019 [bestK.validation] finished validation method 2\n",
      "Tue Mar 12 15:54:51 2019 [bestK.__init__] initialized succesfully\n",
      "Tue Mar 12 15:54:51 2019 [bestK.validation] start validation method 2\n",
      "Tue Mar 12 15:54:52 2019 [bestK.validation] single score = 0.1249043216458412 \n",
      "Tue Mar 12 15:54:53 2019 [bestK.validation] single score = 0.12557728704386906 \n",
      "Tue Mar 12 15:54:53 2019 [bestK.validation] single score = 0.12897245040759497 \n",
      "Tue Mar 12 15:54:53 2019 [bestK.validation] single score = 0.13633503525917545 \n",
      "Tue Mar 12 15:54:54 2019 [bestK.validation] single score = 0.13294746249832046 \n",
      "Tue Mar 12 15:54:54 2019 [bestK.validation] validation score = 0.12974731137096024 \n",
      "Tue Mar 12 15:54:54 2019 [bestK.validation] finished validation method 2\n",
      "Tue Mar 12 15:54:54 2019 [bestK.__init__] initialized succesfully\n",
      "Tue Mar 12 15:54:54 2019 [bestK.validation] start validation method 2\n",
      "Tue Mar 12 15:54:54 2019 [bestK.validation] single score = 0.12296631980738248 \n",
      "Tue Mar 12 15:54:54 2019 [bestK.validation] single score = 0.1271632896710332 \n",
      "Tue Mar 12 15:54:55 2019 [bestK.validation] single score = 0.14042668632510125 \n",
      "Tue Mar 12 15:54:55 2019 [bestK.validation] single score = 0.1321469888370861 \n",
      "Tue Mar 12 15:54:56 2019 [bestK.validation] single score = 0.12227123004493468 \n",
      "Tue Mar 12 15:54:56 2019 [bestK.validation] validation score = 0.12899490293710753 \n",
      "Tue Mar 12 15:54:56 2019 [bestK.validation] finished validation method 2\n",
      "Tue Mar 12 15:54:56 2019 [bestK.__init__] initialized succesfully\n",
      "Tue Mar 12 15:54:56 2019 [bestK.validation] start validation method 2\n",
      "Tue Mar 12 15:54:56 2019 [bestK.validation] single score = 0.1213430118210983 \n",
      "Tue Mar 12 15:54:56 2019 [bestK.validation] single score = 0.12394013177375707 \n",
      "Tue Mar 12 15:54:57 2019 [bestK.validation] single score = 0.14143533271219177 \n",
      "Tue Mar 12 15:54:57 2019 [bestK.validation] single score = 0.13950323611715632 \n",
      "Tue Mar 12 15:54:57 2019 [bestK.validation] single score = 0.12283786257175955 \n",
      "Tue Mar 12 15:54:57 2019 [bestK.validation] validation score = 0.1298119149991926 \n",
      "Tue Mar 12 15:54:57 2019 [bestK.validation] finished validation method 2\n",
      "Tue Mar 12 15:54:57 2019 [bestK.__init__] initialized succesfully\n",
      "Tue Mar 12 15:54:57 2019 [bestK.validation] start validation method 2\n",
      "Tue Mar 12 15:54:58 2019 [bestK.validation] single score = 0.12990353029694812 \n",
      "Tue Mar 12 15:54:58 2019 [bestK.validation] single score = 0.1262561016576602 \n",
      "Tue Mar 12 15:54:59 2019 [bestK.validation] single score = 0.1401441779600361 \n",
      "Tue Mar 12 15:54:59 2019 [bestK.validation] single score = 0.13040415529740335 \n",
      "Tue Mar 12 15:54:59 2019 [bestK.validation] single score = 0.1254083593696067 \n",
      "Tue Mar 12 15:54:59 2019 [bestK.validation] validation score = 0.13042326491633088 \n",
      "Tue Mar 12 15:54:59 2019 [bestK.validation] finished validation method 2\n",
      "Tue Mar 12 15:54:59 2019 [bestK.__init__] initialized succesfully\n",
      "Tue Mar 12 15:54:59 2019 [bestK.validation] start validation method 2\n",
      "Tue Mar 12 15:55:00 2019 [bestK.validation] single score = 0.14050667085975033 \n",
      "Tue Mar 12 15:55:00 2019 [bestK.validation] single score = 0.12524577798128522 \n",
      "Tue Mar 12 15:55:00 2019 [bestK.validation] single score = 0.13429805395617367 \n",
      "Tue Mar 12 15:55:01 2019 [bestK.validation] single score = 0.12994629016577297 \n",
      "Tue Mar 12 15:55:01 2019 [bestK.validation] single score = 0.12423904546242992 \n",
      "Tue Mar 12 15:55:01 2019 [bestK.validation] validation score = 0.13084716768508242 \n",
      "Tue Mar 12 15:55:01 2019 [bestK.validation] finished validation method 2\n",
      "Tue Mar 12 15:55:01 2019 [bestK.__init__] initialized succesfully\n",
      "Tue Mar 12 15:55:01 2019 [bestK.validation] start validation method 2\n",
      "Tue Mar 12 15:55:02 2019 [bestK.validation] single score = 0.1372832037292011 \n",
      "Tue Mar 12 15:55:02 2019 [bestK.validation] single score = 0.12845864819240027 \n",
      "Tue Mar 12 15:55:02 2019 [bestK.validation] single score = 0.126681912005276 \n",
      "Tue Mar 12 15:55:03 2019 [bestK.validation] single score = 0.1401571226227496 \n",
      "Tue Mar 12 15:55:03 2019 [bestK.validation] single score = 0.12565183433264304 \n",
      "Tue Mar 12 15:55:03 2019 [bestK.validation] validation score = 0.131646544176454 \n",
      "Tue Mar 12 15:55:03 2019 [bestK.validation] finished validation method 2\n",
      "Tue Mar 12 15:55:03 2019 [bestK.__init__] initialized succesfully\n",
      "Tue Mar 12 15:55:03 2019 [bestK.validation] start validation method 2\n",
      "Tue Mar 12 15:55:04 2019 [bestK.validation] single score = 0.13608573362314313 \n",
      "Tue Mar 12 15:55:04 2019 [bestK.validation] single score = 0.12705684066074874 \n",
      "Tue Mar 12 15:55:04 2019 [bestK.validation] single score = 0.12386782262271201 \n",
      "Tue Mar 12 15:55:05 2019 [bestK.validation] single score = 0.13770688809177967 \n",
      "Tue Mar 12 15:55:05 2019 [bestK.validation] single score = 0.12821980427552315 \n",
      "Tue Mar 12 15:55:05 2019 [bestK.validation] validation score = 0.13058741785478134 \n",
      "Tue Mar 12 15:55:05 2019 [bestK.validation] finished validation method 2\n",
      "Tue Mar 12 15:55:05 2019 [bestK.__init__] initialized succesfully\n",
      "Tue Mar 12 15:55:05 2019 [bestK.validation] start validation method 2\n",
      "Tue Mar 12 15:55:06 2019 [bestK.validation] single score = 0.13435195654302157 \n",
      "Tue Mar 12 15:55:06 2019 [bestK.validation] single score = 0.12967257373820418 \n",
      "Tue Mar 12 15:55:06 2019 [bestK.validation] single score = 0.11741979633314559 \n",
      "Tue Mar 12 15:55:07 2019 [bestK.validation] single score = 0.13364985910381877 \n",
      "Tue Mar 12 15:55:07 2019 [bestK.validation] single score = 0.12509307288132243 \n",
      "Tue Mar 12 15:55:07 2019 [bestK.validation] validation score = 0.1280374517199025 \n",
      "Tue Mar 12 15:55:07 2019 [bestK.validation] finished validation method 2\n",
      "Tue Mar 12 15:55:07 2019 [bestK.__init__] initialized succesfully\n",
      "Tue Mar 12 15:55:07 2019 [bestK.validation] start validation method 2\n",
      "Tue Mar 12 15:55:08 2019 [bestK.validation] single score = 0.12886585154506336 \n",
      "Tue Mar 12 15:55:08 2019 [bestK.validation] single score = 0.11937369050938396 \n",
      "Tue Mar 12 15:55:08 2019 [bestK.validation] single score = 0.12336105284925103 \n",
      "Tue Mar 12 15:55:09 2019 [bestK.validation] single score = 0.12666645340802118 \n",
      "Tue Mar 12 15:55:09 2019 [bestK.validation] single score = 0.12396948352064951 \n",
      "Tue Mar 12 15:55:09 2019 [bestK.validation] validation score = 0.1244473063664738 \n",
      "Tue Mar 12 15:55:09 2019 [bestK.validation] finished validation method 2\n",
      "Tue Mar 12 15:55:09 2019 [bestK.__init__] initialized succesfully\n",
      "Tue Mar 12 15:55:09 2019 [bestK.validation] start validation method 2\n"
     ]
    },
    {
     "name": "stdout",
     "output_type": "stream",
     "text": [
      "Tue Mar 12 15:55:09 2019 [bestK.validation] single score = 0.12463319258920924 \n",
      "Tue Mar 12 15:55:10 2019 [bestK.validation] single score = 0.1265644642371987 \n",
      "Tue Mar 12 15:55:10 2019 [bestK.validation] single score = 0.13411046063188747 \n",
      "Tue Mar 12 15:55:11 2019 [bestK.validation] single score = 0.12287536654609654 \n",
      "Tue Mar 12 15:55:11 2019 [bestK.validation] single score = 0.129602629277907 \n",
      "Tue Mar 12 15:55:11 2019 [bestK.validation] validation score = 0.1275572226564598 \n",
      "Tue Mar 12 15:55:11 2019 [bestK.validation] finished validation method 2\n",
      "Tue Mar 12 15:55:11 2019 [bestK.__init__] initialized succesfully\n",
      "Tue Mar 12 15:55:11 2019 [bestK.validation] start validation method 2\n",
      "Tue Mar 12 15:55:11 2019 [bestK.validation] single score = 0.1253648685329295 \n",
      "Tue Mar 12 15:55:12 2019 [bestK.validation] single score = 0.12423756580784662 \n",
      "Tue Mar 12 15:55:12 2019 [bestK.validation] single score = 0.13309724474479234 \n",
      "Tue Mar 12 15:55:12 2019 [bestK.validation] single score = 0.12858246202652535 \n",
      "Tue Mar 12 15:55:13 2019 [bestK.validation] single score = 0.12982478772078387 \n",
      "Tue Mar 12 15:55:13 2019 [bestK.validation] validation score = 0.12822138576657555 \n",
      "Tue Mar 12 15:55:13 2019 [bestK.validation] finished validation method 2\n",
      "Tue Mar 12 15:55:13 2019 [bestK.__init__] initialized succesfully\n",
      "Tue Mar 12 15:55:13 2019 [bestK.validation] start validation method 2\n",
      "Tue Mar 12 15:55:13 2019 [bestK.validation] single score = 0.1303718743731198 \n",
      "Tue Mar 12 15:55:14 2019 [bestK.validation] single score = 0.12951396481168387 \n",
      "Tue Mar 12 15:55:14 2019 [bestK.validation] single score = 0.13343902054382617 \n",
      "Tue Mar 12 15:55:14 2019 [bestK.validation] single score = 0.13080406928056398 \n",
      "Tue Mar 12 15:55:15 2019 [bestK.validation] single score = 0.13173242908246108 \n",
      "Tue Mar 12 15:55:15 2019 [bestK.validation] validation score = 0.13117227161833098 \n",
      "Tue Mar 12 15:55:15 2019 [bestK.validation] finished validation method 2\n",
      "Tue Mar 12 15:55:15 2019 [bestK.__init__] initialized succesfully\n",
      "Tue Mar 12 15:55:15 2019 [bestK.validation] start validation method 2\n",
      "Tue Mar 12 15:55:15 2019 [bestK.validation] single score = 0.13794900627992457 \n",
      "Tue Mar 12 15:55:16 2019 [bestK.validation] single score = 0.12396889304660508 \n",
      "Tue Mar 12 15:55:16 2019 [bestK.validation] single score = 0.1327817376447491 \n",
      "Tue Mar 12 15:55:16 2019 [bestK.validation] single score = 0.12895858175712205 \n",
      "Tue Mar 12 15:55:17 2019 [bestK.validation] single score = 0.12684492875403863 \n",
      "Tue Mar 12 15:55:17 2019 [bestK.validation] validation score = 0.13010062949648787 \n",
      "Tue Mar 12 15:55:17 2019 [bestK.validation] finished validation method 2\n",
      "Tue Mar 12 15:55:17 2019 [bestK.__init__] initialized succesfully\n",
      "Tue Mar 12 15:55:17 2019 [bestK.validation] start validation method 2\n",
      "Tue Mar 12 15:55:17 2019 [bestK.validation] single score = 0.13632900629536626 \n",
      "Tue Mar 12 15:55:18 2019 [bestK.validation] single score = 0.12148601387975311 \n",
      "Tue Mar 12 15:55:18 2019 [bestK.validation] single score = 0.13125820585591474 \n",
      "Tue Mar 12 15:55:18 2019 [bestK.validation] single score = 0.1317243890345059 \n",
      "Tue Mar 12 15:55:19 2019 [bestK.validation] single score = 0.12098681760930696 \n",
      "Tue Mar 12 15:55:19 2019 [bestK.validation] validation score = 0.1283568865349694 \n",
      "Tue Mar 12 15:55:19 2019 [bestK.validation] finished validation method 2\n",
      "Tue Mar 12 15:55:19 2019 [bestK.__init__] initialized succesfully\n",
      "Tue Mar 12 15:55:19 2019 [bestK.validation] start validation method 2\n",
      "Tue Mar 12 15:55:19 2019 [bestK.validation] single score = 0.1342851535303704 \n",
      "Tue Mar 12 15:55:19 2019 [bestK.validation] single score = 0.12820193917080858 \n",
      "Tue Mar 12 15:55:20 2019 [bestK.validation] single score = 0.12656941192619198 \n",
      "Tue Mar 12 15:55:20 2019 [bestK.validation] single score = 0.13423773219197777 \n",
      "Tue Mar 12 15:55:21 2019 [bestK.validation] single score = 0.12084935378875838 \n",
      "Tue Mar 12 15:55:21 2019 [bestK.validation] validation score = 0.12882871812162142 \n",
      "Tue Mar 12 15:55:21 2019 [bestK.validation] finished validation method 2\n",
      "Tue Mar 12 15:55:21 2019 [bestK.__init__] initialized succesfully\n",
      "Tue Mar 12 15:55:21 2019 [bestK.validation] start validation method 2\n",
      "Tue Mar 12 15:55:21 2019 [bestK.validation] single score = 0.14277438988514823 \n",
      "Tue Mar 12 15:55:21 2019 [bestK.validation] single score = 0.12566907210089273 \n",
      "Tue Mar 12 15:55:22 2019 [bestK.validation] single score = 0.132304943263568 \n",
      "Tue Mar 12 15:55:22 2019 [bestK.validation] single score = 0.13950913660805142 \n",
      "Tue Mar 12 15:55:23 2019 [bestK.validation] single score = 0.1198681985207729 \n",
      "Tue Mar 12 15:55:23 2019 [bestK.validation] validation score = 0.13202514807568666 \n",
      "Tue Mar 12 15:55:23 2019 [bestK.validation] finished validation method 2\n",
      "Tue Mar 12 15:55:23 2019 [bestK.__init__] initialized succesfully\n",
      "Tue Mar 12 15:55:23 2019 [bestK.validation] start validation method 2\n",
      "Tue Mar 12 15:55:23 2019 [bestK.validation] single score = 0.13016874605903095 \n",
      "Tue Mar 12 15:55:23 2019 [bestK.validation] single score = 0.12389614514778402 \n",
      "Tue Mar 12 15:55:24 2019 [bestK.validation] single score = 0.13299141761649014 \n",
      "Tue Mar 12 15:55:24 2019 [bestK.validation] single score = 0.1291638700476837 \n",
      "Tue Mar 12 15:55:25 2019 [bestK.validation] single score = 0.12259517471245585 \n",
      "Tue Mar 12 15:55:25 2019 [bestK.validation] validation score = 0.12776307071668894 \n",
      "Tue Mar 12 15:55:25 2019 [bestK.validation] finished validation method 2\n",
      "Tue Mar 12 15:55:25 2019 [bestK.__init__] initialized succesfully\n",
      "Tue Mar 12 15:55:25 2019 [bestK.validation] start validation method 2\n",
      "Tue Mar 12 15:55:25 2019 [bestK.validation] single score = 0.1337223750294254 \n",
      "Tue Mar 12 15:55:25 2019 [bestK.validation] single score = 0.1265971201013556 \n",
      "Tue Mar 12 15:55:26 2019 [bestK.validation] single score = 0.1277753862087766 \n",
      "Tue Mar 12 15:55:26 2019 [bestK.validation] single score = 0.13860910687006578 \n",
      "Tue Mar 12 15:55:27 2019 [bestK.validation] single score = 0.1236354104806664 \n",
      "Tue Mar 12 15:55:27 2019 [bestK.validation] validation score = 0.13006787973805795 \n",
      "Tue Mar 12 15:55:27 2019 [bestK.validation] finished validation method 2\n",
      "Tue Mar 12 15:55:27 2019 [bestK.__init__] initialized succesfully\n",
      "Tue Mar 12 15:55:27 2019 [bestK.validation] start validation method 2\n",
      "Tue Mar 12 15:55:27 2019 [bestK.validation] single score = 0.13317284560789922 \n",
      "Tue Mar 12 15:55:27 2019 [bestK.validation] single score = 0.12513118875972185 \n",
      "Tue Mar 12 15:55:28 2019 [bestK.validation] single score = 0.13137660079976132 \n",
      "Tue Mar 12 15:55:28 2019 [bestK.validation] single score = 0.13295961192913497 \n",
      "Tue Mar 12 15:55:29 2019 [bestK.validation] single score = 0.1255208705383718 \n",
      "Tue Mar 12 15:55:29 2019 [bestK.validation] validation score = 0.12963222352697784 \n",
      "Tue Mar 12 15:55:29 2019 [bestK.validation] finished validation method 2\n",
      "Tue Mar 12 15:55:29 2019 [bestK.__init__] initialized succesfully\n",
      "Tue Mar 12 15:55:29 2019 [bestK.validation] start validation method 2\n",
      "Tue Mar 12 15:55:29 2019 [bestK.validation] single score = 0.1333501669039595 \n",
      "Tue Mar 12 15:55:29 2019 [bestK.validation] single score = 0.12079978826846371 \n",
      "Tue Mar 12 15:55:30 2019 [bestK.validation] single score = 0.1335524879763088 \n",
      "Tue Mar 12 15:55:30 2019 [bestK.validation] single score = 0.1325823861628893 \n",
      "Tue Mar 12 15:55:31 2019 [bestK.validation] single score = 0.12575948239000667 \n",
      "Tue Mar 12 15:55:31 2019 [bestK.validation] validation score = 0.1292088623403256 \n",
      "Tue Mar 12 15:55:31 2019 [bestK.validation] finished validation method 2\n",
      "Tue Mar 12 15:55:31 2019 [bestK.__init__] initialized succesfully\n",
      "Tue Mar 12 15:55:31 2019 [bestK.validation] start validation method 2\n",
      "Tue Mar 12 15:55:31 2019 [bestK.validation] single score = 0.12993634234868334 \n",
      "Tue Mar 12 15:55:31 2019 [bestK.validation] single score = 0.12532171612195164 \n",
      "Tue Mar 12 15:55:32 2019 [bestK.validation] single score = 0.12334341138455007 \n",
      "Tue Mar 12 15:55:32 2019 [bestK.validation] single score = 0.12732102936102974 \n",
      "Tue Mar 12 15:55:33 2019 [bestK.validation] single score = 0.12736546433241136 \n",
      "Tue Mar 12 15:55:33 2019 [bestK.validation] validation score = 0.12665759270972524 \n",
      "Tue Mar 12 15:55:33 2019 [bestK.validation] finished validation method 2\n",
      "Tue Mar 12 15:55:33 2019 [bestK.__init__] initialized succesfully\n",
      "Tue Mar 12 15:55:33 2019 [bestK.validation] start validation method 2\n"
     ]
    },
    {
     "name": "stdout",
     "output_type": "stream",
     "text": [
      "Tue Mar 12 15:55:33 2019 [bestK.validation] single score = 0.12837997657913824 \n",
      "Tue Mar 12 15:55:33 2019 [bestK.validation] single score = 0.1280100511910186 \n",
      "Tue Mar 12 15:55:34 2019 [bestK.validation] single score = 0.1271759191443561 \n",
      "Tue Mar 12 15:55:34 2019 [bestK.validation] single score = 0.1317468867213012 \n",
      "Tue Mar 12 15:55:35 2019 [bestK.validation] single score = 0.13948291953368297 \n",
      "Tue Mar 12 15:55:35 2019 [bestK.validation] validation score = 0.13095915063389943 \n",
      "Tue Mar 12 15:55:35 2019 [bestK.validation] finished validation method 2\n",
      "Tue Mar 12 15:55:35 2019 [bestK.__init__] initialized succesfully\n",
      "Tue Mar 12 15:55:35 2019 [bestK.validation] start validation method 2\n",
      "Tue Mar 12 15:55:35 2019 [bestK.validation] single score = 0.1297735599198898 \n",
      "Tue Mar 12 15:55:35 2019 [bestK.validation] single score = 0.12598024107175199 \n",
      "Tue Mar 12 15:55:36 2019 [bestK.validation] single score = 0.12932404302635647 \n",
      "Tue Mar 12 15:55:36 2019 [bestK.validation] single score = 0.1288936156101954 \n",
      "Tue Mar 12 15:55:37 2019 [bestK.validation] single score = 0.13023735189509078 \n",
      "Tue Mar 12 15:55:37 2019 [bestK.validation] validation score = 0.12884176230465688 \n",
      "Tue Mar 12 15:55:37 2019 [bestK.validation] finished validation method 2\n",
      "Tue Mar 12 15:55:37 2019 [bestK.__init__] initialized succesfully\n",
      "Tue Mar 12 15:55:37 2019 [bestK.validation] start validation method 2\n",
      "Tue Mar 12 15:55:37 2019 [bestK.validation] single score = 0.13247007454481974 \n",
      "Tue Mar 12 15:55:37 2019 [bestK.validation] single score = 0.12479613701255288 \n",
      "Tue Mar 12 15:55:38 2019 [bestK.validation] single score = 0.13848026838666216 \n",
      "Tue Mar 12 15:55:38 2019 [bestK.validation] single score = 0.13046659946713357 \n",
      "Tue Mar 12 15:55:39 2019 [bestK.validation] single score = 0.1339748676234339 \n",
      "Tue Mar 12 15:55:39 2019 [bestK.validation] validation score = 0.13203758940692045 \n",
      "Tue Mar 12 15:55:39 2019 [bestK.validation] finished validation method 2\n"
     ]
    }
   ],
   "source": [
    "best = [0, 0]\n",
    "for k in range(1, 40):\n",
    "    model = PredictiveModel(\"bestK\", k)\n",
    "    score = model.validation(X, Y, method=2, verbose=\"False\")\n",
    "    if score > best[0]: best = [score, k]"
   ]
  },
  {
   "cell_type": "code",
   "execution_count": 14,
   "metadata": {},
   "outputs": [
    {
     "data": {
      "text/plain": [
       "[0.13315646526595057, 7]"
      ]
     },
     "execution_count": 14,
     "metadata": {},
     "output_type": "execute_result"
    }
   ],
   "source": [
    "best"
   ]
  },
  {
   "cell_type": "code",
   "execution_count": 25,
   "metadata": {},
   "outputs": [],
   "source": [
    "to_drop = [\"Unnamed: 0\", \"dataset_type\", \"Name\", \"RescuerID\", \"Description\",\"PetID\"]\n",
    "\n",
    "X = train.drop([\"AdoptionSpeed\"] + to_drop , axis=1)\n",
    "X_test = test.drop(to_drop, axis=1)\n",
    "\n",
    "Y = train['AdoptionSpeed']\n",
    "\n",
    "assert X.shape[0] == Y.shape[0]"
   ]
  },
  {
   "cell_type": "code",
   "execution_count": 26,
   "metadata": {},
   "outputs": [
    {
     "name": "stdout",
     "output_type": "stream",
     "text": [
      "Tue Mar 12 15:59:12 2019 [with images number.__init__] initialized succesfully\n"
     ]
    },
    {
     "data": {
      "text/plain": [
       "0.13551225985472182"
      ]
     },
     "execution_count": 26,
     "metadata": {},
     "output_type": "execute_result"
    }
   ],
   "source": [
    "model = PredictiveModel(\"with images number\", 25)\n",
    "model.validation(X, Y, method=2, verbose=False)"
   ]
  },
  {
   "cell_type": "code",
   "execution_count": 9,
   "metadata": {},
   "outputs": [],
   "source": [
    "to_drop = [\"Unnamed: 0\", \"dataset_type\", \"Name\", \"RescuerID\", \"Description\",\"PetID\"]\n",
    "\n",
    "X = train.drop([\"AdoptionSpeed\"] + to_drop , axis=1)\n",
    "X_test = test.drop(to_drop, axis=1)\n",
    "\n",
    "Y = train['AdoptionSpeed']\n",
    "\n",
    "assert X.shape[0] == Y.shape[0]"
   ]
  },
  {
   "cell_type": "code",
   "execution_count": 10,
   "metadata": {},
   "outputs": [],
   "source": [
    "scaled = pd.DataFrame()"
   ]
  },
  {
   "cell_type": "code",
   "execution_count": 11,
   "metadata": {},
   "outputs": [],
   "source": [
    "for col in X:\n",
    "    df = X[col]\n",
    "    scaled[col] = (df - df.mean()) / (df.max() - df.min())"
   ]
  },
  {
   "cell_type": "code",
   "execution_count": 15,
   "metadata": {},
   "outputs": [
    {
     "name": "stdout",
     "output_type": "stream",
     "text": [
      "Tue Mar 12 16:12:43 2019 [scaled.__init__] initialized succesfully\n"
     ]
    },
    {
     "data": {
      "text/plain": [
       "0.1034057174859299"
      ]
     },
     "execution_count": 15,
     "metadata": {},
     "output_type": "execute_result"
    }
   ],
   "source": [
    "model = PredictiveModel(\"scaled\", 25)\n",
    "model.validation(scaled, Y, method=2, verbose=False)"
   ]
  },
  {
   "cell_type": "code",
   "execution_count": 22,
   "metadata": {},
   "outputs": [],
   "source": [
    "scaled['Type'] = scaled['Type']*100"
   ]
  },
  {
   "cell_type": "code",
   "execution_count": 23,
   "metadata": {},
   "outputs": [
    {
     "name": "stdout",
     "output_type": "stream",
     "text": [
      "Tue Mar 12 16:15:21 2019 [scaled.__init__] initialized succesfully\n"
     ]
    },
    {
     "data": {
      "text/plain": [
       "0.10357403929734987"
      ]
     },
     "execution_count": 23,
     "metadata": {},
     "output_type": "execute_result"
    }
   ],
   "source": [
    "model = PredictiveModel(\"scaled\", 25)\n",
    "model.validation(scaled, Y, method=2, verbose=False)"
   ]
  },
  {
   "cell_type": "code",
   "execution_count": 37,
   "metadata": {},
   "outputs": [],
   "source": [
    "# cats dogs\n",
    "dogs = train[train['Type'] == 1].drop('Type',axis=1)\n",
    "cats = train[train['Type'] == 2].drop('Type',axis=1)"
   ]
  },
  {
   "cell_type": "code",
   "execution_count": 55,
   "metadata": {},
   "outputs": [],
   "source": [
    "to_drop = [\"Unnamed: 0\", \"dataset_type\", \"Name\", \"RescuerID\", \"Description\",\"PetID\"]\n",
    "\n",
    "X = cats.drop([\"AdoptionSpeed\"] + to_drop , axis=1)\n",
    "Y = cats['AdoptionSpeed']\n",
    "X = X.reset_index().drop('index',axis=1)\n",
    "Y = Y.reset_index().drop('index',axis=1)['AdoptionSpeed']\n",
    "\n",
    "assert X.shape[0] == Y.shape[0]"
   ]
  },
  {
   "cell_type": "code",
   "execution_count": 56,
   "metadata": {},
   "outputs": [
    {
     "name": "stdout",
     "output_type": "stream",
     "text": [
      "Tue Mar 12 16:24:29 2019 [dogs.__init__] initialized succesfully\n"
     ]
    },
    {
     "data": {
      "text/plain": [
       "0.09096981002714544"
      ]
     },
     "execution_count": 56,
     "metadata": {},
     "output_type": "execute_result"
    }
   ],
   "source": [
    "model = PredictiveModel(\"dogs\", 100)\n",
    "model.validation(X, Y, method=2, verbose=False)"
   ]
  },
  {
   "cell_type": "code",
   "execution_count": 38,
   "metadata": {},
   "outputs": [],
   "source": [
    "to_drop = [\"Unnamed: 0\", \"dataset_type\", \"Name\", \"RescuerID\", \"Description\",\"PetID\"]\n",
    "\n",
    "X = dogs.drop([\"AdoptionSpeed\"] + to_drop , axis=1)\n",
    "Y = dogs['AdoptionSpeed']\n",
    "X = X.reset_index().drop('index',axis=1)\n",
    "Y = Y.reset_index().drop('index',axis=1)['AdoptionSpeed']\n",
    "\n",
    "assert X.shape[0] == Y.shape[0]"
   ]
  },
  {
   "cell_type": "markdown",
   "metadata": {},
   "source": [
    "<h1>HIGHEST UP TO NOW"
   ]
  },
  {
   "cell_type": "code",
   "execution_count": 54,
   "metadata": {},
   "outputs": [
    {
     "name": "stdout",
     "output_type": "stream",
     "text": [
      "Tue Mar 12 16:23:56 2019 [dogs.__init__] initialized succesfully\n"
     ]
    },
    {
     "data": {
      "text/plain": [
       "0.1613138501198026"
      ]
     },
     "execution_count": 54,
     "metadata": {},
     "output_type": "execute_result"
    }
   ],
   "source": [
    "model = PredictiveModel(\"dogs\", 100)\n",
    "model.validation(X, Y, method=2, verbose=False)"
   ]
  },
  {
   "cell_type": "code",
   "execution_count": 52,
   "metadata": {},
   "outputs": [],
   "source": [
    "scaled = pd.DataFrame()\n",
    "for col in X:\n",
    "    df = X[col]\n",
    "    scaled[col] = (df - df.mean()) / (df.max() - df.min())"
   ]
  },
  {
   "cell_type": "code",
   "execution_count": 53,
   "metadata": {},
   "outputs": [
    {
     "name": "stdout",
     "output_type": "stream",
     "text": [
      "Tue Mar 12 16:22:25 2019 [dogs.__init__] initialized succesfully\n"
     ]
    },
    {
     "data": {
      "text/plain": [
       "0.09974435774284549"
      ]
     },
     "execution_count": 53,
     "metadata": {},
     "output_type": "execute_result"
    }
   ],
   "source": [
    "model = PredictiveModel(\"dogs\", 100)\n",
    "model.validation(scaled, Y, method=2, verbose=False)"
   ]
  },
  {
   "cell_type": "code",
   "execution_count": null,
   "metadata": {},
   "outputs": [],
   "source": []
  }
 ],
 "metadata": {
  "kernelspec": {
   "display_name": "Python 3",
   "language": "python",
   "name": "python3"
  },
  "language_info": {
   "codemirror_mode": {
    "name": "ipython",
    "version": 3
   },
   "file_extension": ".py",
   "mimetype": "text/x-python",
   "name": "python",
   "nbconvert_exporter": "python",
   "pygments_lexer": "ipython3",
   "version": "3.6.5"
  }
 },
 "nbformat": 4,
 "nbformat_minor": 2
}
