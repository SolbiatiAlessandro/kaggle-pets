{
 "cells": [
  {
   "cell_type": "markdown",
   "metadata": {},
   "source": [
    "<h1>catboost baseline</h1>"
   ]
  },
  {
   "cell_type": "markdown",
   "metadata": {},
   "source": [
    "<h1>DATA LOADING"
   ]
  },
  {
   "cell_type": "code",
   "execution_count": 1,
   "metadata": {},
   "outputs": [],
   "source": [
    "import pandas as pd\n",
    "import numpy as np"
   ]
  },
  {
   "cell_type": "code",
   "execution_count": 2,
   "metadata": {},
   "outputs": [],
   "source": [
    "import os\n",
    "os.listdir('../../../data')\n",
    "assert 'out_breed.csv' in os.listdir('../../../data') # this assert breaks if the data is configured uncorrectly"
   ]
  },
  {
   "cell_type": "code",
   "execution_count": 3,
   "metadata": {},
   "outputs": [],
   "source": [
    "breeds = pd.read_csv('../../../data/out_breed.csv')\n",
    "colors = pd.read_csv('../../../data/out_color.csv')\n",
    "states = pd.read_csv('../../../data/out_state.csv')\n",
    "train  = pd.read_csv('../../../data/out_train.csv')\n",
    "test   = pd.read_csv('../../../data/out_test.csv')\n",
    "sub    = pd.read_csv('../../../data/out_submission.csv')"
   ]
  },
  {
   "cell_type": "markdown",
   "metadata": {},
   "source": [
    "<h1>MODEL</h1>"
   ]
  },
  {
   "cell_type": "code",
   "execution_count": 5,
   "metadata": {},
   "outputs": [],
   "source": [
    "from xgboostModelRegressor import PredictiveModel"
   ]
  },
  {
   "cell_type": "markdown",
   "metadata": {},
   "source": [
    "<h1>EXAMPLE USAGE</h1>"
   ]
  },
  {
   "cell_type": "code",
   "execution_count": 6,
   "metadata": {},
   "outputs": [],
   "source": [
    "string_cols = [\"Unnamed: 0\", \"dataset_type\", \"Name\", \"RescuerID\", \"Description\", \"PetID\"]\n",
    "categorical_col = [\"Type\",\"Gender\",\"Vaccinated\",\"Dewormed\",\"Sterilized\",\"Breed1\",\"Breed2\",\"Color1\",\"Color2\",\"Color3\",\"State\"]\n",
    "numerical_col = [col for col in train.columns if col not in string_cols and col not in categorical_col and col != \"AdoptionSpeed\"]\n",
    "mapping_sizes = [2, 2, 3, 3, 3, 307, 307, 7, 7, 7, 15]\n",
    "cat_features=[i for i in range(len(numerical_col), len(numerical_col)+len(categorical_col))]"
   ]
  },
  {
   "cell_type": "code",
   "execution_count": 19,
   "metadata": {},
   "outputs": [],
   "source": [
    "X = train.drop(string_cols,axis=1)\n",
    "X_test = test.drop(string_cols,axis=1)\n",
    "Y = train['AdoptionSpeed']"
   ]
  },
  {
   "cell_type": "code",
   "execution_count": 20,
   "metadata": {},
   "outputs": [],
   "source": [
    "X = pd.concat([X[numerical_col], X[categorical_col]], axis=1)\n",
    "X_test = pd.concat([X_test[numerical_col], X_test[categorical_col]], axis=1)"
   ]
  },
  {
   "cell_type": "code",
   "execution_count": 21,
   "metadata": {},
   "outputs": [
    {
     "name": "stdout",
     "output_type": "stream",
     "text": [
      "Sun Apr  7 18:26:33 2019 [example_usage_model.__init__] initialized succesfully\n",
      "[0]\ttrain-rmse:2.31634\tvalid-rmse:2.29725\n",
      "Multiple eval metrics have been passed: 'valid-rmse' will be used for early stopping.\n",
      "\n",
      "Will train until valid-rmse hasn't improved in 500 rounds.\n",
      "[9]\ttrain-rmse:2.1289\tvalid-rmse:2.11285\n"
     ]
    }
   ],
   "source": [
    "model = PredictiveModel(\"example_usage_model\")\n",
    "model.train(X, Y,cat_features, short=True)\n",
    "predictions = model.predict(X_test)\n",
    "assert len(predictions)"
   ]
  },
  {
   "cell_type": "code",
   "execution_count": 22,
   "metadata": {},
   "outputs": [
    {
     "data": {
      "text/plain": [
       "array([0.72499454, 0.78510284, 0.78781784, ..., 0.643633  , 0.68129086,\n",
       "       0.76905036], dtype=float32)"
      ]
     },
     "execution_count": 22,
     "metadata": {},
     "output_type": "execute_result"
    }
   ],
   "source": [
    "predictions"
   ]
  },
  {
   "cell_type": "markdown",
   "metadata": {},
   "source": [
    "<h1>VALIDATION"
   ]
  },
  {
   "cell_type": "code",
   "execution_count": 23,
   "metadata": {},
   "outputs": [],
   "source": [
    "string_cols = [\"Unnamed: 0\", \"dataset_type\", \"Name\", \"RescuerID\", \"Description\", \"PetID\"]\n",
    "categorical_col = [\"Type\",\"Gender\",\"Vaccinated\",\"Dewormed\",\"Sterilized\",\"Breed1\",\"Breed2\",\"Color1\",\"Color2\",\"Color3\",\"State\"]\n",
    "numerical_col = [col for col in train.columns if col not in string_cols and col not in categorical_col and col != \"AdoptionSpeed\"]\n",
    "mapping_sizes = [2, 2, 3, 3, 3, 307, 307, 7, 7, 7, 15]\n",
    "cat_features=[i for i in range(len(numerical_col), len(numerical_col)+len(categorical_col))]"
   ]
  },
  {
   "cell_type": "code",
   "execution_count": 24,
   "metadata": {},
   "outputs": [],
   "source": [
    "X = train.drop(string_cols,axis=1)\n",
    "X_test = test.drop(string_cols,axis=1)\n",
    "Y = train['AdoptionSpeed']"
   ]
  },
  {
   "cell_type": "code",
   "execution_count": 25,
   "metadata": {},
   "outputs": [],
   "source": [
    "X = pd.concat([X[numerical_col], X[categorical_col]], axis=1)\n",
    "X_test = pd.concat([X_test[numerical_col], X_test[categorical_col]], axis=1)"
   ]
  },
  {
   "cell_type": "code",
   "execution_count": 26,
   "metadata": {},
   "outputs": [
    {
     "name": "stdout",
     "output_type": "stream",
     "text": [
      "Sun Apr  7 18:26:43 2019 [validation_model_xgboost_baseline.__init__] initialized succesfully\n"
     ]
    }
   ],
   "source": [
    "model = PredictiveModel(\"validation_model_xgboost_baseline\")"
   ]
  },
  {
   "cell_type": "code",
   "execution_count": 28,
   "metadata": {},
   "outputs": [
    {
     "name": "stdout",
     "output_type": "stream",
     "text": [
      "Sun Apr  7 18:27:13 2019 [validation_model_xgboost_baseline.validation] start validation method 1\n",
      "[0]\ttrain-rmse:2.31119\tvalid-rmse:2.31984\n",
      "Multiple eval metrics have been passed: 'valid-rmse' will be used for early stopping.\n",
      "\n",
      "Will train until valid-rmse hasn't improved in 500 rounds.\n"
     ]
    },
    {
     "name": "stderr",
     "output_type": "stream",
     "text": [
      "/Users/alex/Desktop/Coding/AI/kaggle-pets/venv/lib/python3.6/site-packages/xgboost/core.py:587: FutureWarning: Series.base is deprecated and will be removed in a future version\n",
      "  if getattr(data, 'base', None) is not None and \\\n",
      "/Users/alex/Desktop/Coding/AI/kaggle-pets/venv/lib/python3.6/site-packages/xgboost/core.py:588: FutureWarning: Series.base is deprecated and will be removed in a future version\n",
      "  data.base is not None and isinstance(data, np.ndarray) \\\n"
     ]
    },
    {
     "name": "stdout",
     "output_type": "stream",
     "text": [
      "[499]\ttrain-rmse:0.942872\tvalid-rmse:1.07579\n",
      "[0]\ttrain-rmse:2.311\tvalid-rmse:2.31987\n",
      "Multiple eval metrics have been passed: 'valid-rmse' will be used for early stopping.\n",
      "\n",
      "Will train until valid-rmse hasn't improved in 500 rounds.\n",
      "[499]\ttrain-rmse:0.937017\tvalid-rmse:1.07848\n",
      "[0]\ttrain-rmse:2.31109\tvalid-rmse:2.31969\n",
      "Multiple eval metrics have been passed: 'valid-rmse' will be used for early stopping.\n",
      "\n",
      "Will train until valid-rmse hasn't improved in 500 rounds.\n",
      "[499]\ttrain-rmse:0.941983\tvalid-rmse:1.08299\n",
      "[0]\ttrain-rmse:2.31108\tvalid-rmse:2.31951\n",
      "Multiple eval metrics have been passed: 'valid-rmse' will be used for early stopping.\n",
      "\n",
      "Will train until valid-rmse hasn't improved in 500 rounds.\n",
      "[499]\ttrain-rmse:0.951357\tvalid-rmse:1.08425\n",
      "[0]\ttrain-rmse:2.31834\tvalid-rmse:2.28884\n",
      "Multiple eval metrics have been passed: 'valid-rmse' will be used for early stopping.\n",
      "\n",
      "Will train until valid-rmse hasn't improved in 500 rounds.\n",
      "[499]\ttrain-rmse:0.947438\tvalid-rmse:1.076\n",
      "Sun Apr  7 18:27:30 2019 [validation_model_xgboost_baseline.validation] single score = 0.16049950279583658 \n",
      "[0]\ttrain-rmse:2.31109\tvalid-rmse:2.31975\n",
      "Multiple eval metrics have been passed: 'valid-rmse' will be used for early stopping.\n",
      "\n",
      "Will train until valid-rmse hasn't improved in 500 rounds.\n"
     ]
    },
    {
     "name": "stderr",
     "output_type": "stream",
     "text": [
      "/Users/alex/Desktop/Coding/AI/kaggle-pets/venv/lib/python3.6/site-packages/xgboost/core.py:587: FutureWarning: Series.base is deprecated and will be removed in a future version\n",
      "  if getattr(data, 'base', None) is not None and \\\n",
      "/Users/alex/Desktop/Coding/AI/kaggle-pets/venv/lib/python3.6/site-packages/xgboost/core.py:588: FutureWarning: Series.base is deprecated and will be removed in a future version\n",
      "  data.base is not None and isinstance(data, np.ndarray) \\\n"
     ]
    },
    {
     "name": "stdout",
     "output_type": "stream",
     "text": [
      "[499]\ttrain-rmse:0.940279\tvalid-rmse:1.07716\n",
      "[0]\ttrain-rmse:2.31102\tvalid-rmse:2.31982\n",
      "Multiple eval metrics have been passed: 'valid-rmse' will be used for early stopping.\n",
      "\n",
      "Will train until valid-rmse hasn't improved in 500 rounds.\n",
      "[499]\ttrain-rmse:0.934659\tvalid-rmse:1.07258\n",
      "[0]\ttrain-rmse:2.31098\tvalid-rmse:2.31962\n",
      "Multiple eval metrics have been passed: 'valid-rmse' will be used for early stopping.\n",
      "\n",
      "Will train until valid-rmse hasn't improved in 500 rounds.\n",
      "[499]\ttrain-rmse:0.93988\tvalid-rmse:1.07487\n",
      "[0]\ttrain-rmse:2.31101\tvalid-rmse:2.31945\n",
      "Multiple eval metrics have been passed: 'valid-rmse' will be used for early stopping.\n",
      "\n",
      "Will train until valid-rmse hasn't improved in 500 rounds.\n",
      "[499]\ttrain-rmse:0.943555\tvalid-rmse:1.07883\n",
      "[0]\ttrain-rmse:2.31824\tvalid-rmse:2.28858\n",
      "Multiple eval metrics have been passed: 'valid-rmse' will be used for early stopping.\n",
      "\n",
      "Will train until valid-rmse hasn't improved in 500 rounds.\n",
      "[499]\ttrain-rmse:0.941326\tvalid-rmse:1.0719\n",
      "Sun Apr  7 18:27:48 2019 [validation_model_xgboost_baseline.validation] single score = 0.15268843607121307 \n",
      "[0]\ttrain-rmse:2.31091\tvalid-rmse:2.31959\n",
      "Multiple eval metrics have been passed: 'valid-rmse' will be used for early stopping.\n",
      "\n",
      "Will train until valid-rmse hasn't improved in 500 rounds.\n"
     ]
    },
    {
     "name": "stderr",
     "output_type": "stream",
     "text": [
      "/Users/alex/Desktop/Coding/AI/kaggle-pets/venv/lib/python3.6/site-packages/xgboost/core.py:587: FutureWarning: Series.base is deprecated and will be removed in a future version\n",
      "  if getattr(data, 'base', None) is not None and \\\n",
      "/Users/alex/Desktop/Coding/AI/kaggle-pets/venv/lib/python3.6/site-packages/xgboost/core.py:588: FutureWarning: Series.base is deprecated and will be removed in a future version\n",
      "  data.base is not None and isinstance(data, np.ndarray) \\\n"
     ]
    },
    {
     "name": "stdout",
     "output_type": "stream",
     "text": [
      "[499]\ttrain-rmse:0.937131\tvalid-rmse:1.08075\n",
      "[0]\ttrain-rmse:2.31082\tvalid-rmse:2.31957\n",
      "Multiple eval metrics have been passed: 'valid-rmse' will be used for early stopping.\n",
      "\n",
      "Will train until valid-rmse hasn't improved in 500 rounds.\n",
      "[499]\ttrain-rmse:0.937079\tvalid-rmse:1.07456\n",
      "[0]\ttrain-rmse:2.31115\tvalid-rmse:2.31948\n",
      "Multiple eval metrics have been passed: 'valid-rmse' will be used for early stopping.\n",
      "\n",
      "Will train until valid-rmse hasn't improved in 500 rounds.\n",
      "[499]\ttrain-rmse:0.934289\tvalid-rmse:1.07881\n",
      "[0]\ttrain-rmse:2.31097\tvalid-rmse:2.31934\n",
      "Multiple eval metrics have been passed: 'valid-rmse' will be used for early stopping.\n",
      "\n",
      "Will train until valid-rmse hasn't improved in 500 rounds.\n",
      "[499]\ttrain-rmse:0.939916\tvalid-rmse:1.07654\n",
      "[0]\ttrain-rmse:2.31854\tvalid-rmse:2.28859\n",
      "Multiple eval metrics have been passed: 'valid-rmse' will be used for early stopping.\n",
      "\n",
      "Will train until valid-rmse hasn't improved in 500 rounds.\n",
      "[499]\ttrain-rmse:0.93681\tvalid-rmse:1.06898\n",
      "Sun Apr  7 18:28:05 2019 [validation_model_xgboost_baseline.validation] single score = 0.15565005603758308 \n",
      "[0]\ttrain-rmse:2.31088\tvalid-rmse:2.31959\n",
      "Multiple eval metrics have been passed: 'valid-rmse' will be used for early stopping.\n",
      "\n",
      "Will train until valid-rmse hasn't improved in 500 rounds.\n"
     ]
    },
    {
     "name": "stderr",
     "output_type": "stream",
     "text": [
      "/Users/alex/Desktop/Coding/AI/kaggle-pets/venv/lib/python3.6/site-packages/xgboost/core.py:587: FutureWarning: Series.base is deprecated and will be removed in a future version\n",
      "  if getattr(data, 'base', None) is not None and \\\n",
      "/Users/alex/Desktop/Coding/AI/kaggle-pets/venv/lib/python3.6/site-packages/xgboost/core.py:588: FutureWarning: Series.base is deprecated and will be removed in a future version\n",
      "  data.base is not None and isinstance(data, np.ndarray) \\\n"
     ]
    },
    {
     "name": "stdout",
     "output_type": "stream",
     "text": [
      "[499]\ttrain-rmse:0.948494\tvalid-rmse:1.08369\n",
      "[0]\ttrain-rmse:2.31082\tvalid-rmse:2.31945\n",
      "Multiple eval metrics have been passed: 'valid-rmse' will be used for early stopping.\n",
      "\n",
      "Will train until valid-rmse hasn't improved in 500 rounds.\n",
      "[499]\ttrain-rmse:0.945767\tvalid-rmse:1.0752\n",
      "[0]\ttrain-rmse:2.31099\tvalid-rmse:2.31931\n",
      "Multiple eval metrics have been passed: 'valid-rmse' will be used for early stopping.\n",
      "\n",
      "Will train until valid-rmse hasn't improved in 500 rounds.\n",
      "[499]\ttrain-rmse:0.938104\tvalid-rmse:1.07696\n",
      "[0]\ttrain-rmse:2.311\tvalid-rmse:2.31961\n",
      "Multiple eval metrics have been passed: 'valid-rmse' will be used for early stopping.\n",
      "\n",
      "Will train until valid-rmse hasn't improved in 500 rounds.\n",
      "[499]\ttrain-rmse:0.945408\tvalid-rmse:1.07909\n",
      "[0]\ttrain-rmse:2.32161\tvalid-rmse:2.2759\n",
      "Multiple eval metrics have been passed: 'valid-rmse' will be used for early stopping.\n",
      "\n",
      "Will train until valid-rmse hasn't improved in 500 rounds.\n",
      "[499]\ttrain-rmse:0.945783\tvalid-rmse:1.05625\n",
      "Sun Apr  7 18:28:28 2019 [validation_model_xgboost_baseline.validation] single score = 0.1641459676907221 \n",
      "[0]\ttrain-rmse:2.32854\tvalid-rmse:2.24827\n",
      "Multiple eval metrics have been passed: 'valid-rmse' will be used for early stopping.\n",
      "\n",
      "Will train until valid-rmse hasn't improved in 500 rounds.\n"
     ]
    },
    {
     "name": "stderr",
     "output_type": "stream",
     "text": [
      "/Users/alex/Desktop/Coding/AI/kaggle-pets/venv/lib/python3.6/site-packages/xgboost/core.py:587: FutureWarning: Series.base is deprecated and will be removed in a future version\n",
      "  if getattr(data, 'base', None) is not None and \\\n",
      "/Users/alex/Desktop/Coding/AI/kaggle-pets/venv/lib/python3.6/site-packages/xgboost/core.py:588: FutureWarning: Series.base is deprecated and will be removed in a future version\n",
      "  data.base is not None and isinstance(data, np.ndarray) \\\n"
     ]
    },
    {
     "name": "stdout",
     "output_type": "stream",
     "text": [
      "[499]\ttrain-rmse:0.950828\tvalid-rmse:1.06482\n",
      "[0]\ttrain-rmse:2.32843\tvalid-rmse:2.24797\n",
      "Multiple eval metrics have been passed: 'valid-rmse' will be used for early stopping.\n",
      "\n",
      "Will train until valid-rmse hasn't improved in 500 rounds.\n",
      "[499]\ttrain-rmse:0.947275\tvalid-rmse:1.06356\n",
      "[0]\ttrain-rmse:2.32842\tvalid-rmse:2.24839\n",
      "Multiple eval metrics have been passed: 'valid-rmse' will be used for early stopping.\n",
      "\n",
      "Will train until valid-rmse hasn't improved in 500 rounds.\n",
      "[499]\ttrain-rmse:0.940419\tvalid-rmse:1.05889\n",
      "[0]\ttrain-rmse:2.32827\tvalid-rmse:2.24811\n",
      "Multiple eval metrics have been passed: 'valid-rmse' will be used for early stopping.\n",
      "\n",
      "Will train until valid-rmse hasn't improved in 500 rounds.\n",
      "[499]\ttrain-rmse:0.946007\tvalid-rmse:1.06044\n",
      "[0]\ttrain-rmse:2.3215\tvalid-rmse:2.27641\n",
      "Multiple eval metrics have been passed: 'valid-rmse' will be used for early stopping.\n",
      "\n",
      "Will train until valid-rmse hasn't improved in 500 rounds.\n",
      "[499]\ttrain-rmse:0.947765\tvalid-rmse:1.06053\n",
      "Sun Apr  7 18:28:50 2019 [validation_model_xgboost_baseline.validation] single score = 0.1496556641598259 \n",
      "Sun Apr  7 18:28:50 2019 [validation_model_xgboost_baseline.validation] validation score = 0.15652792535103616 \n",
      "Sun Apr  7 18:28:50 2019 [validation_model_xgboost_baseline.validation] finished validation method 1\n"
     ]
    },
    {
     "data": {
      "text/plain": [
       "0.15652792535103616"
      ]
     },
     "execution_count": 28,
     "metadata": {},
     "output_type": "execute_result"
    }
   ],
   "source": [
    "model.validation(X, Y, cat_features, verbose=True, short=False)\n",
    "#1min 0.15"
   ]
  },
  {
   "cell_type": "code",
   "execution_count": 29,
   "metadata": {},
   "outputs": [
    {
     "ename": "AttributeError",
     "evalue": "'Booster' object has no attribute 'feature_names_'",
     "output_type": "error",
     "traceback": [
      "\u001b[0;31m---------------------------------------------------------------------------\u001b[0m",
      "\u001b[0;31mAttributeError\u001b[0m                            Traceback (most recent call last)",
      "\u001b[0;32m<ipython-input-29-1de00031de87>\u001b[0m in \u001b[0;36m<module>\u001b[0;34m\u001b[0m\n\u001b[1;32m      1\u001b[0m \u001b[0mget_ipython\u001b[0m\u001b[0;34m(\u001b[0m\u001b[0;34m)\u001b[0m\u001b[0;34m.\u001b[0m\u001b[0mrun_line_magic\u001b[0m\u001b[0;34m(\u001b[0m\u001b[0;34m'matplotlib'\u001b[0m\u001b[0;34m,\u001b[0m \u001b[0;34m'inline'\u001b[0m\u001b[0;34m)\u001b[0m\u001b[0;34m\u001b[0m\u001b[0m\n\u001b[0;32m----> 2\u001b[0;31m \u001b[0mmodel\u001b[0m\u001b[0;34m.\u001b[0m\u001b[0mvisualize\u001b[0m\u001b[0;34m(\u001b[0m\u001b[0;34m)\u001b[0m\u001b[0;34m\u001b[0m\u001b[0m\n\u001b[0m",
      "\u001b[0;32m~/Desktop/Coding/AI/kaggle-pets/models/TREES/XGBOOST/xgboostModelRegressor.py\u001b[0m in \u001b[0;36mvisualize\u001b[0;34m(self, verbose)\u001b[0m\n\u001b[1;32m    304\u001b[0m \u001b[0;34m\u001b[0m\u001b[0m\n\u001b[1;32m    305\u001b[0m         \u001b[0;32mfrom\u001b[0m \u001b[0mmatplotlib\u001b[0m \u001b[0;32mimport\u001b[0m \u001b[0mpyplot\u001b[0m \u001b[0;32mas\u001b[0m \u001b[0mplt\u001b[0m\u001b[0;34m\u001b[0m\u001b[0m\n\u001b[0;32m--> 306\u001b[0;31m         \u001b[0mplt\u001b[0m\u001b[0;34m.\u001b[0m\u001b[0mbarh\u001b[0m\u001b[0;34m(\u001b[0m\u001b[0mself\u001b[0m\u001b[0;34m.\u001b[0m\u001b[0mmodel\u001b[0m\u001b[0;34m.\u001b[0m\u001b[0mfeature_names_\u001b[0m\u001b[0;34m,\u001b[0m \u001b[0mself\u001b[0m\u001b[0;34m.\u001b[0m\u001b[0mmodel\u001b[0m\u001b[0;34m.\u001b[0m\u001b[0mfeature_importances_\u001b[0m\u001b[0;34m)\u001b[0m\u001b[0;34m\u001b[0m\u001b[0m\n\u001b[0m\u001b[1;32m    307\u001b[0m \u001b[0;34m\u001b[0m\u001b[0m\n\u001b[1;32m    308\u001b[0m         \u001b[0;32mif\u001b[0m \u001b[0mverbose\u001b[0m\u001b[0;34m:\u001b[0m \u001b[0mprint\u001b[0m\u001b[0;34m(\u001b[0m\u001b[0;34m\"{} [{}.visualzed] visualized succesfully\"\u001b[0m\u001b[0;34m.\u001b[0m\u001b[0mformat\u001b[0m\u001b[0;34m(\u001b[0m\u001b[0mctime\u001b[0m\u001b[0;34m(\u001b[0m\u001b[0;34m)\u001b[0m\u001b[0;34m,\u001b[0m \u001b[0mself\u001b[0m\u001b[0;34m.\u001b[0m\u001b[0mname\u001b[0m\u001b[0;34m)\u001b[0m\u001b[0;34m)\u001b[0m\u001b[0;34m\u001b[0m\u001b[0m\n",
      "\u001b[0;31mAttributeError\u001b[0m: 'Booster' object has no attribute 'feature_names_'"
     ]
    }
   ],
   "source": [
    "%matplotlib inline\n",
    "model.visualize()"
   ]
  }
 ],
 "metadata": {
  "kernelspec": {
   "display_name": "Python 3",
   "language": "python",
   "name": "python3"
  },
  "language_info": {
   "codemirror_mode": {
    "name": "ipython",
    "version": 3
   },
   "file_extension": ".py",
   "mimetype": "text/x-python",
   "name": "python",
   "nbconvert_exporter": "python",
   "pygments_lexer": "ipython3",
   "version": "3.6.5"
  }
 },
 "nbformat": 4,
 "nbformat_minor": 2
}
