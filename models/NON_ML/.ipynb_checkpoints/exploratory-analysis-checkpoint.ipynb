{
 "cells": [
  {
   "cell_type": "markdown",
   "metadata": {},
   "source": [
    "<h1>kNN model on kaggle-pet competition</h1>"
   ]
  },
  {
   "cell_type": "markdown",
   "metadata": {},
   "source": [
    "we are following Stanford CS231n, and trying to apply their assignements to this competition."
   ]
  },
  {
   "cell_type": "markdown",
   "metadata": {},
   "source": [
    "CS231N: http://cs231n.github.io/assignments2018/assignment1/\n",
    "<p>sci-kit knn: https://scikit-learn.org/stable/modules/neighbors.html"
   ]
  },
  {
   "cell_type": "markdown",
   "metadata": {},
   "source": [
    "Main differences between assignment and this notebook:\n",
    "    - we will be using sci-kit implementation of knn and not written by us\n",
    "    "
   ]
  },
  {
   "cell_type": "markdown",
   "metadata": {},
   "source": [
    "<h1>DATA LOADING"
   ]
  },
  {
   "cell_type": "code",
   "execution_count": 1,
   "metadata": {},
   "outputs": [],
   "source": [
    "import pandas as pd\n",
    "import numpy as np"
   ]
  },
  {
   "cell_type": "code",
   "execution_count": 2,
   "metadata": {},
   "outputs": [],
   "source": [
    "import os\n",
    "os.listdir('../../data')\n",
    "assert 'out_breed.csv' in os.listdir('../../data') # this assert breaks if the data is configured uncorrectly"
   ]
  },
  {
   "cell_type": "code",
   "execution_count": 3,
   "metadata": {},
   "outputs": [],
   "source": [
    "breeds = pd.read_csv('../../data/out_breed.csv')\n",
    "colors = pd.read_csv('../../data/out_color.csv')\n",
    "states = pd.read_csv('../../data/out_state.csv')\n",
    "train  = pd.read_csv('../../data/out_train.csv')\n",
    "test   = pd.read_csv('../../data/out_test.csv')\n",
    "sub    = pd.read_csv('../../data/out_submission.csv')"
   ]
  },
  {
   "cell_type": "markdown",
   "metadata": {},
   "source": [
    "<h1>MODEL</h1>"
   ]
  },
  {
   "cell_type": "code",
   "execution_count": 4,
   "metadata": {},
   "outputs": [],
   "source": [
    "from knnModel import PredictiveModel"
   ]
  },
  {
   "cell_type": "markdown",
   "metadata": {},
   "source": [
    "<h1>EXAMPLE USAGE</h1>"
   ]
  },
  {
   "cell_type": "code",
   "execution_count": 7,
   "metadata": {},
   "outputs": [],
   "source": [
    "\"\"\"\n",
    "this is a really primitive data cleaning to make KNN works: we drop the followings\n",
    "- AdoptionSpeed, is target\n",
    "- Unnamed:0, dataset_type, is useless\n",
    "- Name, RescuerId, Description, PhotoAmt, VideoAmt, PetID: this are all strings valued not able to be processed by KNN\n",
    "\"\"\"\n",
    "non_numerical_cols = [\"Unnamed: 0\", \"dataset_type\", \"Name\", \"RescuerID\", \"Description\", \"PhotoAmt\",\"VideoAmt\",\"PetID\"]\n",
    "X = train.drop([\"AdoptionSpeed\"] + non_numerical_cols, axis=1)\n",
    "X_test = test.drop(non_numerical_cols, axis=1)\n",
    "\n",
    "\"\"\"\n",
    "Y is our target value, Adoption Speed can be a value [1,2,3,4]\n",
    "\"\"\"\n",
    "Y = train['AdoptionSpeed']\n",
    "\n",
    "assert X.shape[0] == Y.shape[0]"
   ]
  },
  {
   "cell_type": "code",
   "execution_count": 6,
   "metadata": {},
   "outputs": [
    {
     "name": "stdout",
     "output_type": "stream",
     "text": [
      "Sat Mar  2 00:32:10 2019 [example_usage_model.__init__] initialized succesfully\n",
      "Sat Mar  2 00:32:10 2019 [example_usage_model.train] start training\n",
      "Sat Mar  2 00:32:10 2019 [example_usage_model.train] trained succefully\n",
      "Sat Mar  2 00:32:10 2019 [example_usage_model.predict] start predictions\n",
      "Sat Mar  2 00:32:11 2019 [example_usage_model.predict] predicted succesfully\n"
     ]
    }
   ],
   "source": [
    "model = PredictiveModel(\"example_usage_model\")\n",
    "model.train(X, Y)\n",
    "predictions = model.predict(X_test)\n",
    "assert len(predictions)"
   ]
  },
  {
   "cell_type": "markdown",
   "metadata": {},
   "source": [
    "<h1>VALIDATION"
   ]
  },
  {
   "cell_type": "code",
   "execution_count": 36,
   "metadata": {},
   "outputs": [],
   "source": [
    "dogs = train[train.Type == 1]\n",
    "cats = train[train.Type == 2]"
   ]
  },
  {
   "cell_type": "code",
   "execution_count": 37,
   "metadata": {},
   "outputs": [],
   "source": [
    "X = dogs.drop([\"AdoptionSpeed\", \"Unnamed: 0\", \"dataset_type\", \"Name\", \"RescuerID\", \"Description\", \"PhotoAmt\",\"VideoAmt\",\"PetID\"], axis=1)\n",
    "\"\"\"\n",
    "Y is our target value, Adoption Speed can be a value [1,2,3,4]\n",
    "\"\"\"\n",
    "Y = dogs['AdoptionSpeed']\n",
    "\n",
    "assert X.shape[0] == Y.shape[0]"
   ]
  },
  {
   "cell_type": "code",
   "execution_count": 38,
   "metadata": {},
   "outputs": [],
   "source": [
    "\"\"\"\n",
    "Data Fields\n",
    "PetID - Unique hash ID of pet profile\n",
    "AdoptionSpeed - Categorical speed of adoption. Lower is faster. This is the value to predict. See below section for more info.\n",
    "Type - Type of animal (1 = Dog, 2 = Cat)\n",
    "Name - Name of pet (Empty if not named)\n",
    "Age - Age of pet when listed, in months\n",
    "Breed1 - Primary breed of pet (Refer to BreedLabels dictionary)\n",
    "Breed2 - Secondary breed of pet, if pet is of mixed breed (Refer to BreedLabels dictionary)\n",
    "Gender - Gender of pet (1 = Male, 2 = Female, 3 = Mixed, if profile represents group of pets)\n",
    "Color1 - Color 1 of pet (Refer to ColorLabels dictionary)\n",
    "Color2 - Color 2 of pet (Refer to ColorLabels dictionary)\n",
    "Color3 - Color 3 of pet (Refer to ColorLabels dictionary)\n",
    "MaturitySize - Size at maturity (1 = Small, 2 = Medium, 3 = Large, 4 = Extra Large, 0 = Not Specified)\n",
    "FurLength - Fur length (1 = Short, 2 = Medium, 3 = Long, 0 = Not Specified)\n",
    "Vaccinated - Pet has been vaccinated (1 = Yes, 2 = No, 3 = Not Sure)\n",
    "Dewormed - Pet has been dewormed (1 = Yes, 2 = No, 3 = Not Sure)\n",
    "Sterilized - Pet has been spayed / neutered (1 = Yes, 2 = No, 3 = Not Sure)\n",
    "Health - Health Condition (1 = Healthy, 2 = Minor Injury, 3 = Serious Injury, 0 = Not Specified)\n",
    "Quantity - Number of pets represented in profile\n",
    "Fee - Adoption fee (0 = Free)\n",
    "State - State location in Malaysia (Refer to StateLabels dictionary)\n",
    "RescuerID - Unique hash ID of rescuer\n",
    "VideoAmt - Total uploaded videos for this pet\n",
    "PhotoAmt - Total uploaded photos for this pet\n",
    "Description - Profile write-up for this pet. The primary language used is English, with some in Malay or Chinese.\n",
    "\"\"\"\n",
    "pass"
   ]
  },
  {
   "cell_type": "code",
   "execution_count": 39,
   "metadata": {},
   "outputs": [],
   "source": [
    "categorical_col = [\"Type\",\"Gender\",\"Vaccinated\",\"Dewormed\",\"Sterilized\",\"Breed1\",\"Breed2\",\"Color1\",\"Color2\",\"Color3\",\"State\"]"
   ]
  },
  {
   "cell_type": "code",
   "execution_count": 40,
   "metadata": {},
   "outputs": [
    {
     "data": {
      "text/plain": [
       "Index(['Age', 'MaturitySize', 'FurLength', 'Health', 'Quantity', 'Fee'], dtype='object')"
      ]
     },
     "execution_count": 40,
     "metadata": {},
     "output_type": "execute_result"
    }
   ],
   "source": [
    "X.drop(categorical_col, axis=1).columns"
   ]
  },
  {
   "cell_type": "code",
   "execution_count": 41,
   "metadata": {},
   "outputs": [],
   "source": [
    "X = X.drop(categorical_col, axis=1)"
   ]
  },
  {
   "cell_type": "code",
   "execution_count": 42,
   "metadata": {},
   "outputs": [
    {
     "name": "stdout",
     "output_type": "stream",
     "text": [
      "Sat Mar  2 00:27:29 2019 [validation_model_no_categorical_type.__init__] initialized succesfully\n"
     ]
    }
   ],
   "source": [
    "model = PredictiveModel(\"validation_model_no_categorical_type\")"
   ]
  },
  {
   "cell_type": "code",
   "execution_count": 44,
   "metadata": {},
   "outputs": [
    {
     "name": "stdout",
     "output_type": "stream",
     "text": [
      "Sat Mar  2 00:27:44 2019 [validation_model_no_categorical_type.validation] start validation method 1\n",
      "Sat Mar  2 00:27:44 2019 [validation_model_no_categorical_type.train] start training\n"
     ]
    },
    {
     "name": "stderr",
     "output_type": "stream",
     "text": [
      "/Users/alex/Desktop/Coding/AI/kaggle-pets/models/KNN/knnModel.py:58: FutureWarning: \n",
      "Passing list-likes to .loc or [] with any missing label will raise\n",
      "KeyError in the future, you can use .reindex() as an alternative.\n",
      "\n",
      "See the documentation here:\n",
      "https://pandas.pydata.org/pandas-docs/stable/indexing.html#deprecate-loc-reindex-listlike\n",
      "  train_X, train_Y = X.loc[train_index], Y.loc[train_index]\n",
      "/Users/alex/Desktop/Coding/AI/kaggle-pets/models/KNN/knnModel.py:59: FutureWarning: \n",
      "Passing list-likes to .loc or [] with any missing label will raise\n",
      "KeyError in the future, you can use .reindex() as an alternative.\n",
      "\n",
      "See the documentation here:\n",
      "https://pandas.pydata.org/pandas-docs/stable/indexing.html#deprecate-loc-reindex-listlike\n",
      "  validation_X, validation_Y = X.loc[test_index], Y.loc[test_index]\n"
     ]
    },
    {
     "ename": "ValueError",
     "evalue": "Input contains NaN, infinity or a value too large for dtype('float64').",
     "output_type": "error",
     "traceback": [
      "\u001b[0;31m---------------------------------------------------------------------------\u001b[0m",
      "\u001b[0;31mValueError\u001b[0m                                Traceback (most recent call last)",
      "\u001b[0;32m<ipython-input-44-4590ea2fe397>\u001b[0m in \u001b[0;36m<module>\u001b[0;34m\u001b[0m\n\u001b[0;32m----> 1\u001b[0;31m \u001b[0mmodel\u001b[0m\u001b[0;34m.\u001b[0m\u001b[0mvalidation\u001b[0m\u001b[0;34m(\u001b[0m\u001b[0mX\u001b[0m\u001b[0;34m,\u001b[0m \u001b[0mY\u001b[0m\u001b[0;34m,\u001b[0m \u001b[0mmethod\u001b[0m\u001b[0;34m=\u001b[0m\u001b[0;36m1\u001b[0m\u001b[0;34m)\u001b[0m\u001b[0;34m\u001b[0m\u001b[0m\n\u001b[0m",
      "\u001b[0;32m~/Desktop/Coding/AI/kaggle-pets/models/KNN/knnModel.py\u001b[0m in \u001b[0;36mvalidation\u001b[0;34m(self, X, Y, method)\u001b[0m\n\u001b[1;32m     62\u001b[0m             \u001b[0;32massert\u001b[0m \u001b[0mvalidation_X\u001b[0m\u001b[0;34m.\u001b[0m\u001b[0mshape\u001b[0m\u001b[0;34m[\u001b[0m\u001b[0;36m0\u001b[0m\u001b[0;34m]\u001b[0m \u001b[0;34m==\u001b[0m \u001b[0mvalidation_Y\u001b[0m\u001b[0;34m.\u001b[0m\u001b[0mshape\u001b[0m\u001b[0;34m[\u001b[0m\u001b[0;36m0\u001b[0m\u001b[0;34m]\u001b[0m\u001b[0;34m\u001b[0m\u001b[0m\n\u001b[1;32m     63\u001b[0m \u001b[0;34m\u001b[0m\u001b[0m\n\u001b[0;32m---> 64\u001b[0;31m             \u001b[0mself\u001b[0m\u001b[0;34m.\u001b[0m\u001b[0mtrain\u001b[0m\u001b[0;34m(\u001b[0m\u001b[0mtrain_X\u001b[0m\u001b[0;34m,\u001b[0m \u001b[0mtrain_Y\u001b[0m\u001b[0;34m)\u001b[0m\u001b[0;34m\u001b[0m\u001b[0m\n\u001b[0m\u001b[1;32m     65\u001b[0m             \u001b[0mpredictions\u001b[0m \u001b[0;34m=\u001b[0m \u001b[0mself\u001b[0m\u001b[0;34m.\u001b[0m\u001b[0mpredict\u001b[0m\u001b[0;34m(\u001b[0m\u001b[0mvalidation_X\u001b[0m\u001b[0;34m)\u001b[0m\u001b[0;34m\u001b[0m\u001b[0m\n\u001b[1;32m     66\u001b[0m             \u001b[0mscore\u001b[0m \u001b[0;34m=\u001b[0m \u001b[0mself\u001b[0m\u001b[0;34m.\u001b[0m\u001b[0mevaluate\u001b[0m\u001b[0;34m(\u001b[0m\u001b[0mvalidation_Y\u001b[0m\u001b[0;34m)\u001b[0m\u001b[0;34m\u001b[0m\u001b[0m\n",
      "\u001b[0;32m~/Desktop/Coding/AI/kaggle-pets/models/KNN/knnModel.py\u001b[0m in \u001b[0;36mtrain\u001b[0;34m(self, X, Y)\u001b[0m\n\u001b[1;32m     87\u001b[0m         \u001b[0mprint\u001b[0m\u001b[0;34m(\u001b[0m\u001b[0;34m\"{} [{}.train] start training\"\u001b[0m\u001b[0;34m.\u001b[0m\u001b[0mformat\u001b[0m\u001b[0;34m(\u001b[0m\u001b[0mctime\u001b[0m\u001b[0;34m(\u001b[0m\u001b[0;34m)\u001b[0m\u001b[0;34m,\u001b[0m \u001b[0mself\u001b[0m\u001b[0;34m.\u001b[0m\u001b[0mname\u001b[0m\u001b[0;34m)\u001b[0m\u001b[0;34m)\u001b[0m\u001b[0;34m\u001b[0m\u001b[0m\n\u001b[1;32m     88\u001b[0m \u001b[0;34m\u001b[0m\u001b[0m\n\u001b[0;32m---> 89\u001b[0;31m         \u001b[0mself\u001b[0m\u001b[0;34m.\u001b[0m\u001b[0mmodel\u001b[0m\u001b[0;34m.\u001b[0m\u001b[0mfit\u001b[0m\u001b[0;34m(\u001b[0m\u001b[0mX\u001b[0m\u001b[0;34m,\u001b[0m \u001b[0mY\u001b[0m\u001b[0;34m)\u001b[0m\u001b[0;34m\u001b[0m\u001b[0m\n\u001b[0m\u001b[1;32m     90\u001b[0m \u001b[0;34m\u001b[0m\u001b[0m\n\u001b[1;32m     91\u001b[0m         \u001b[0mprint\u001b[0m\u001b[0;34m(\u001b[0m\u001b[0;34m\"{} [{}.train] trained succefully\"\u001b[0m\u001b[0;34m.\u001b[0m\u001b[0mformat\u001b[0m\u001b[0;34m(\u001b[0m\u001b[0mctime\u001b[0m\u001b[0;34m(\u001b[0m\u001b[0;34m)\u001b[0m\u001b[0;34m,\u001b[0m \u001b[0mself\u001b[0m\u001b[0;34m.\u001b[0m\u001b[0mname\u001b[0m\u001b[0;34m)\u001b[0m\u001b[0;34m)\u001b[0m\u001b[0;34m\u001b[0m\u001b[0m\n",
      "\u001b[0;32m~/Desktop/Coding/AI/kaggle-pets/venv/lib/python3.6/site-packages/sklearn/neighbors/base.py\u001b[0m in \u001b[0;36mfit\u001b[0;34m(self, X, y)\u001b[0m\n\u001b[1;32m    889\u001b[0m         \"\"\"\n\u001b[1;32m    890\u001b[0m         \u001b[0;32mif\u001b[0m \u001b[0;32mnot\u001b[0m \u001b[0misinstance\u001b[0m\u001b[0;34m(\u001b[0m\u001b[0mX\u001b[0m\u001b[0;34m,\u001b[0m \u001b[0;34m(\u001b[0m\u001b[0mKDTree\u001b[0m\u001b[0;34m,\u001b[0m \u001b[0mBallTree\u001b[0m\u001b[0;34m)\u001b[0m\u001b[0;34m)\u001b[0m\u001b[0;34m:\u001b[0m\u001b[0;34m\u001b[0m\u001b[0m\n\u001b[0;32m--> 891\u001b[0;31m             \u001b[0mX\u001b[0m\u001b[0;34m,\u001b[0m \u001b[0my\u001b[0m \u001b[0;34m=\u001b[0m \u001b[0mcheck_X_y\u001b[0m\u001b[0;34m(\u001b[0m\u001b[0mX\u001b[0m\u001b[0;34m,\u001b[0m \u001b[0my\u001b[0m\u001b[0;34m,\u001b[0m \u001b[0;34m\"csr\"\u001b[0m\u001b[0;34m,\u001b[0m \u001b[0mmulti_output\u001b[0m\u001b[0;34m=\u001b[0m\u001b[0;32mTrue\u001b[0m\u001b[0;34m)\u001b[0m\u001b[0;34m\u001b[0m\u001b[0m\n\u001b[0m\u001b[1;32m    892\u001b[0m \u001b[0;34m\u001b[0m\u001b[0m\n\u001b[1;32m    893\u001b[0m         \u001b[0;32mif\u001b[0m \u001b[0my\u001b[0m\u001b[0;34m.\u001b[0m\u001b[0mndim\u001b[0m \u001b[0;34m==\u001b[0m \u001b[0;36m1\u001b[0m \u001b[0;32mor\u001b[0m \u001b[0my\u001b[0m\u001b[0;34m.\u001b[0m\u001b[0mndim\u001b[0m \u001b[0;34m==\u001b[0m \u001b[0;36m2\u001b[0m \u001b[0;32mand\u001b[0m \u001b[0my\u001b[0m\u001b[0;34m.\u001b[0m\u001b[0mshape\u001b[0m\u001b[0;34m[\u001b[0m\u001b[0;36m1\u001b[0m\u001b[0;34m]\u001b[0m \u001b[0;34m==\u001b[0m \u001b[0;36m1\u001b[0m\u001b[0;34m:\u001b[0m\u001b[0;34m\u001b[0m\u001b[0m\n",
      "\u001b[0;32m~/Desktop/Coding/AI/kaggle-pets/venv/lib/python3.6/site-packages/sklearn/utils/validation.py\u001b[0m in \u001b[0;36mcheck_X_y\u001b[0;34m(X, y, accept_sparse, accept_large_sparse, dtype, order, copy, force_all_finite, ensure_2d, allow_nd, multi_output, ensure_min_samples, ensure_min_features, y_numeric, warn_on_dtype, estimator)\u001b[0m\n\u001b[1;32m    754\u001b[0m                     \u001b[0mensure_min_features\u001b[0m\u001b[0;34m=\u001b[0m\u001b[0mensure_min_features\u001b[0m\u001b[0;34m,\u001b[0m\u001b[0;34m\u001b[0m\u001b[0m\n\u001b[1;32m    755\u001b[0m                     \u001b[0mwarn_on_dtype\u001b[0m\u001b[0;34m=\u001b[0m\u001b[0mwarn_on_dtype\u001b[0m\u001b[0;34m,\u001b[0m\u001b[0;34m\u001b[0m\u001b[0m\n\u001b[0;32m--> 756\u001b[0;31m                     estimator=estimator)\n\u001b[0m\u001b[1;32m    757\u001b[0m     \u001b[0;32mif\u001b[0m \u001b[0mmulti_output\u001b[0m\u001b[0;34m:\u001b[0m\u001b[0;34m\u001b[0m\u001b[0m\n\u001b[1;32m    758\u001b[0m         y = check_array(y, 'csr', force_all_finite=True, ensure_2d=False,\n",
      "\u001b[0;32m~/Desktop/Coding/AI/kaggle-pets/venv/lib/python3.6/site-packages/sklearn/utils/validation.py\u001b[0m in \u001b[0;36mcheck_array\u001b[0;34m(array, accept_sparse, accept_large_sparse, dtype, order, copy, force_all_finite, ensure_2d, allow_nd, ensure_min_samples, ensure_min_features, warn_on_dtype, estimator)\u001b[0m\n\u001b[1;32m    571\u001b[0m         \u001b[0;32mif\u001b[0m \u001b[0mforce_all_finite\u001b[0m\u001b[0;34m:\u001b[0m\u001b[0;34m\u001b[0m\u001b[0m\n\u001b[1;32m    572\u001b[0m             _assert_all_finite(array,\n\u001b[0;32m--> 573\u001b[0;31m                                allow_nan=force_all_finite == 'allow-nan')\n\u001b[0m\u001b[1;32m    574\u001b[0m \u001b[0;34m\u001b[0m\u001b[0m\n\u001b[1;32m    575\u001b[0m     \u001b[0mshape_repr\u001b[0m \u001b[0;34m=\u001b[0m \u001b[0m_shape_repr\u001b[0m\u001b[0;34m(\u001b[0m\u001b[0marray\u001b[0m\u001b[0;34m.\u001b[0m\u001b[0mshape\u001b[0m\u001b[0;34m)\u001b[0m\u001b[0;34m\u001b[0m\u001b[0m\n",
      "\u001b[0;32m~/Desktop/Coding/AI/kaggle-pets/venv/lib/python3.6/site-packages/sklearn/utils/validation.py\u001b[0m in \u001b[0;36m_assert_all_finite\u001b[0;34m(X, allow_nan)\u001b[0m\n\u001b[1;32m     54\u001b[0m                 not allow_nan and not np.isfinite(X).all()):\n\u001b[1;32m     55\u001b[0m             \u001b[0mtype_err\u001b[0m \u001b[0;34m=\u001b[0m \u001b[0;34m'infinity'\u001b[0m \u001b[0;32mif\u001b[0m \u001b[0mallow_nan\u001b[0m \u001b[0;32melse\u001b[0m \u001b[0;34m'NaN, infinity'\u001b[0m\u001b[0;34m\u001b[0m\u001b[0m\n\u001b[0;32m---> 56\u001b[0;31m             \u001b[0;32mraise\u001b[0m \u001b[0mValueError\u001b[0m\u001b[0;34m(\u001b[0m\u001b[0mmsg_err\u001b[0m\u001b[0;34m.\u001b[0m\u001b[0mformat\u001b[0m\u001b[0;34m(\u001b[0m\u001b[0mtype_err\u001b[0m\u001b[0;34m,\u001b[0m \u001b[0mX\u001b[0m\u001b[0;34m.\u001b[0m\u001b[0mdtype\u001b[0m\u001b[0;34m)\u001b[0m\u001b[0;34m)\u001b[0m\u001b[0;34m\u001b[0m\u001b[0m\n\u001b[0m\u001b[1;32m     57\u001b[0m \u001b[0;34m\u001b[0m\u001b[0m\n\u001b[1;32m     58\u001b[0m \u001b[0;34m\u001b[0m\u001b[0m\n",
      "\u001b[0;31mValueError\u001b[0m: Input contains NaN, infinity or a value too large for dtype('float64')."
     ]
    }
   ],
   "source": [
    "model.validation(X, Y, method=1)"
   ]
  },
  {
   "cell_type": "code",
   "execution_count": 20,
   "metadata": {},
   "outputs": [
    {
     "name": "stdout",
     "output_type": "stream",
     "text": [
      "Sat Mar  2 00:21:36 2019 [validation_model_no_categorical.validation] start validation method 2\n",
      "Sat Mar  2 00:21:36 2019 [validation_model_no_categorical.train] start training\n",
      "Sat Mar  2 00:21:36 2019 [validation_model_no_categorical.train] trained succefully\n",
      "Sat Mar  2 00:21:36 2019 [validation_model_no_categorical.predict] start predictions\n",
      "Sat Mar  2 00:21:36 2019 [validation_model_no_categorical.predict] predicted succesfully\n",
      "Sat Mar  2 00:21:36 2019 [validation_model_no_categorical.evaluate] start evaluation\n",
      "Sat Mar  2 00:21:36 2019 [validation_model_no_categorical.evaluate] evaluated succesfully\n",
      "Sat Mar  2 00:21:36 2019 [validation_model_no_categorical.validation] single score = 0.09647179512484982 \n",
      "Sat Mar  2 00:21:36 2019 [validation_model_no_categorical.train] start training\n",
      "Sat Mar  2 00:21:36 2019 [validation_model_no_categorical.train] trained succefully\n",
      "Sat Mar  2 00:21:36 2019 [validation_model_no_categorical.predict] start predictions\n",
      "Sat Mar  2 00:21:36 2019 [validation_model_no_categorical.predict] predicted succesfully\n",
      "Sat Mar  2 00:21:36 2019 [validation_model_no_categorical.evaluate] start evaluation\n",
      "Sat Mar  2 00:21:36 2019 [validation_model_no_categorical.evaluate] evaluated succesfully\n",
      "Sat Mar  2 00:21:36 2019 [validation_model_no_categorical.validation] single score = 0.08830540958929356 \n",
      "Sat Mar  2 00:21:36 2019 [validation_model_no_categorical.train] start training\n",
      "Sat Mar  2 00:21:36 2019 [validation_model_no_categorical.train] trained succefully\n",
      "Sat Mar  2 00:21:36 2019 [validation_model_no_categorical.predict] start predictions\n",
      "Sat Mar  2 00:21:36 2019 [validation_model_no_categorical.predict] predicted succesfully\n",
      "Sat Mar  2 00:21:36 2019 [validation_model_no_categorical.evaluate] start evaluation\n",
      "Sat Mar  2 00:21:36 2019 [validation_model_no_categorical.evaluate] evaluated succesfully\n",
      "Sat Mar  2 00:21:36 2019 [validation_model_no_categorical.validation] single score = 0.10059968125585905 \n",
      "Sat Mar  2 00:21:36 2019 [validation_model_no_categorical.train] start training\n",
      "Sat Mar  2 00:21:36 2019 [validation_model_no_categorical.train] trained succefully\n",
      "Sat Mar  2 00:21:36 2019 [validation_model_no_categorical.predict] start predictions\n",
      "Sat Mar  2 00:21:37 2019 [validation_model_no_categorical.predict] predicted succesfully\n",
      "Sat Mar  2 00:21:37 2019 [validation_model_no_categorical.evaluate] start evaluation\n",
      "Sat Mar  2 00:21:37 2019 [validation_model_no_categorical.evaluate] evaluated succesfully\n",
      "Sat Mar  2 00:21:37 2019 [validation_model_no_categorical.validation] single score = 0.10407630941154589 \n",
      "Sat Mar  2 00:21:37 2019 [validation_model_no_categorical.train] start training\n",
      "Sat Mar  2 00:21:37 2019 [validation_model_no_categorical.train] trained succefully\n",
      "Sat Mar  2 00:21:37 2019 [validation_model_no_categorical.predict] start predictions\n",
      "Sat Mar  2 00:21:37 2019 [validation_model_no_categorical.predict] predicted succesfully\n",
      "Sat Mar  2 00:21:37 2019 [validation_model_no_categorical.evaluate] start evaluation\n",
      "Sat Mar  2 00:21:37 2019 [validation_model_no_categorical.evaluate] evaluated succesfully\n",
      "Sat Mar  2 00:21:37 2019 [validation_model_no_categorical.validation] single score = 0.09861614952252606 \n",
      "Sat Mar  2 00:21:37 2019 [validation_model_no_categorical.validation] validation score = 0.09761386898081488 \n",
      "Sat Mar  2 00:21:37 2019 [validation_model_no_categorical.validation] finished validation method 2\n"
     ]
    },
    {
     "data": {
      "text/plain": [
       "0.09761386898081488"
      ]
     },
     "execution_count": 20,
     "metadata": {},
     "output_type": "execute_result"
    }
   ],
   "source": [
    "model.validation(X, Y, method=2)"
   ]
  },
  {
   "cell_type": "code",
   "execution_count": null,
   "metadata": {},
   "outputs": [],
   "source": []
  }
 ],
 "metadata": {
  "kernelspec": {
   "display_name": "Python 3",
   "language": "python",
   "name": "python3"
  },
  "language_info": {
   "codemirror_mode": {
    "name": "ipython",
    "version": 3
   },
   "file_extension": ".py",
   "mimetype": "text/x-python",
   "name": "python",
   "nbconvert_exporter": "python",
   "pygments_lexer": "ipython3",
   "version": "3.6.5"
  }
 },
 "nbformat": 4,
 "nbformat_minor": 2
}
