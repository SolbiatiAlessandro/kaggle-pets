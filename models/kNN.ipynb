{
 "cells": [
  {
   "cell_type": "markdown",
   "metadata": {},
   "source": [
    "<h1>kNN model on kaggle-pet competition</h1>"
   ]
  },
  {
   "cell_type": "markdown",
   "metadata": {},
   "source": [
    "we are following Stanford CS231n, and trying to apply their assignements to this competition."
   ]
  },
  {
   "cell_type": "markdown",
   "metadata": {},
   "source": [
    "CS231N: http://cs231n.github.io/assignments2018/assignment1/\n",
    "<p>sci-kit knn: https://scikit-learn.org/stable/modules/neighbors.html"
   ]
  },
  {
   "cell_type": "markdown",
   "metadata": {},
   "source": [
    "Main differences between assignment and this notebook:\n",
    "    - we will be using Knn for regression task, and not for classification\n",
    "    - we will be using sci-kit implementation of knn and not written by us\n",
    "    "
   ]
  },
  {
   "cell_type": "code",
   "execution_count": 48,
   "metadata": {},
   "outputs": [],
   "source": [
    "import pandas as pd\n",
    "import numpy as np"
   ]
  },
  {
   "cell_type": "code",
   "execution_count": 148,
   "metadata": {},
   "outputs": [],
   "source": [
    "from time import ctime\n",
    "from sklearn import neighbors\n",
    "from sklearn import metrics"
   ]
  },
  {
   "cell_type": "code",
   "execution_count": 40,
   "metadata": {},
   "outputs": [],
   "source": [
    "import os\n",
    "os.listdir('../data')\n",
    "assert 'out_breed.csv' in os.listdir('../data') # this assert breaks if the data is configured uncorrectly"
   ]
  },
  {
   "cell_type": "code",
   "execution_count": 105,
   "metadata": {},
   "outputs": [],
   "source": [
    "breeds = pd.read_csv('../data/out_breed.csv')\n",
    "colors = pd.read_csv('../data/out_color.csv')\n",
    "states = pd.read_csv('../data/out_state.csv')\n",
    "train  = pd.read_csv('../data/out_train.csv')\n",
    "test   = pd.read_csv('../data/out_test.csv')\n",
    "sub    = pd.read_csv('../data/out_submission.csv')"
   ]
  },
  {
   "cell_type": "code",
   "execution_count": 106,
   "metadata": {},
   "outputs": [
    {
     "data": {
      "text/plain": [
       "Index(['Unnamed: 0', 'Type', 'Name', 'Age', 'Breed1', 'Breed2', 'Gender',\n",
       "       'Color1', 'Color2', 'Color3', 'MaturitySize', 'FurLength', 'Vaccinated',\n",
       "       'Dewormed', 'Sterilized', 'Health', 'Quantity', 'Fee', 'State',\n",
       "       'RescuerID', 'VideoAmt', 'Description', 'PetID', 'PhotoAmt',\n",
       "       'AdoptionSpeed', 'dataset_type'],\n",
       "      dtype='object')"
      ]
     },
     "execution_count": 106,
     "metadata": {},
     "output_type": "execute_result"
    }
   ],
   "source": [
    "train.columns"
   ]
  },
  {
   "cell_type": "code",
   "execution_count": 164,
   "metadata": {},
   "outputs": [],
   "source": [
    "class PredictiveModel(object):\n",
    "    \"\"\"\n",
    "    base class for the prediction task of Adoption Prediction competition\n",
    "    \n",
    "    KNN-classifier\n",
    "    \"\"\"\n",
    "    \n",
    "    def __init__(self, name, neighbors_number=15):\n",
    "        self.name = name\n",
    "        self.model = None\n",
    "        self.predictions = None\n",
    "        self.neighbors_number = neighbors_number\n",
    "        print(\"{} [{}.__init__] initialized succesfully\".format(ctime(), self.name))\n",
    "        \n",
    "    def train(self, X, Y):\n",
    "        \"\"\"\n",
    "        train method, feature generation is inside here, data cleaning outside\n",
    "        \n",
    "        Args:\n",
    "            X: pandas.DataFrame, shape = (, 24)\n",
    "            Y: pandas.Series\n",
    "        \"\"\"\n",
    "        print(\"{} [{}.train] start training\".format(ctime(), self.name))\n",
    "        \n",
    "        KNNclassifier = neighbors.KNeighborsClassifier(self.neighbors_number)\n",
    "        KNNclassifier.fit(X, Y)\n",
    "        self.model = KNNclassifier\n",
    "        \n",
    "        print(\"{} [{}.train] trained succefully\".format(ctime(), self.name))\n",
    "\n",
    "        \n",
    "    def predict(self, X):\n",
    "        \"\"\"\n",
    "        predict method, feature generation is inside here, data cleaning outside\n",
    "        \n",
    "        Args:\n",
    "            X: pandas.DataFrame, shape = (, 24)\n",
    "        Returns:\n",
    "            Y: pandas.Series\n",
    "            \n",
    "        Raise:\n",
    "            .not trained\n",
    "        \"\"\"\n",
    "        print(\"{} [{}.train] start predictions\".format(ctime(), self.name))\n",
    "        if not self.model:\n",
    "            raise Exception(\"{} [{}.predict] ERROR model is not trained, you need to call {}.train first\".format(ctime(), self.name, self.name))\n",
    "            \n",
    "        predictions = self.model.predict(X)\n",
    "        self.predictions = predictions\n",
    "        \n",
    "        print(\"{} [{}.train] predicted succesfully\".format(ctime(), self.name))\n",
    "        return predictions\n",
    "    \n",
    "    def evaluate(self, labels):\n",
    "        \"\"\"\n",
    "        evaluate predictions accuracy using competition metric \"Quadratic Weighted Kappa\"\n",
    "        more here https://scikit-learn.org/stable/modules/generated/sklearn.metrics.cohen_kappa_score.html\n",
    "        \n",
    "        Args:\n",
    "            labels: truth-values, pandas.Series\n",
    "        \n",
    "        returns: float\n",
    "        \n",
    "        NOTE [Interpreting the Quadratic Weighted Kappa Metric]:\n",
    "        (https://www.kaggle.com/aroraaman/quadratic-kappa-metric-explained-in-5-simple-steps)\n",
    "        \n",
    "        A weighted Kappa is a metric which is used to calculate the amount of similarity between predictions and actuals. A perfect score of  1.0 is granted when both the predictions and actuals are the same. \n",
    "        Whereas, the least possible score is -1 which is given when the predictions are furthest away from actuals. In our case, consider all actuals were 0's and all predictions were 4's. This would lead to a QWKP score of -1.\n",
    "        The aim is to get as close to 1 as possible. Generally a score of 0.6+ is considered to be a really good score.\n",
    "        \"\"\"\n",
    "        print(\"{} [{}.train] start evaluation\".format(ctime(), self.name))\n",
    "        if not self.predictions:\n",
    "            raise Exception(\"{} [{}.predict] ERROR model didn't predict, you need to call {}.predict first\".format(ctime(), self.name, self.name))\n",
    "            \n",
    "        labels_array = np.array(labels)\n",
    "        if not labels_array.shape == self.predictions.shape:\n",
    "            raise Exception(\"{} [{}.predict] ERROR the shape of truth value (labels) and self.predictions is different, you are giving the wrong number of labels\".format(ctime(), self.name, self.name))      \n",
    "            \n",
    "        score = metrics.cohen_kappa_score(labels_array, self.predictions)\n",
    "        \n",
    "        print(\"{} [{}.train] predicted succesfully\".format(ctime(), self.name))\n",
    "        return score"
   ]
  },
  {
   "cell_type": "code",
   "execution_count": 165,
   "metadata": {},
   "outputs": [],
   "source": [
    "\"\"\"\n",
    "Y is our target value, Adoption Speed can be a value [1,2,3,4]\n",
    "\"\"\"\n",
    "Y = train['AdoptionSpeed']"
   ]
  },
  {
   "cell_type": "code",
   "execution_count": 166,
   "metadata": {},
   "outputs": [],
   "source": [
    "\"\"\"\n",
    "this is a really primitive data cleaning to make KNN works: we drop the followings\n",
    "- AdoptionSpeed, is target\n",
    "- Unnamed:0, dataset_type, is useless\n",
    "- Name, RescuerId, Description, PhotoAmt, VideoAmt, PetID: this are all strings valued not able to be processed by KNN\n",
    "\"\"\"\n",
    "X = train.drop([\"AdoptionSpeed\", \"Unnamed: 0\", \"dataset_type\", \"Name\", \"RescuerID\", \"Description\", \"PhotoAmt\",\"VideoAmt\",\"PetID\"], axis=1)"
   ]
  },
  {
   "cell_type": "code",
   "execution_count": 167,
   "metadata": {},
   "outputs": [],
   "source": [
    "assert X.shape[0] == Y.shape[0]"
   ]
  },
  {
   "cell_type": "code",
   "execution_count": 168,
   "metadata": {},
   "outputs": [],
   "source": [
    "train_X, train_Y = X[:train_size], Y[:train_size]"
   ]
  },
  {
   "cell_type": "code",
   "execution_count": 169,
   "metadata": {},
   "outputs": [],
   "source": [
    "train_size = int(len(X)*0.8)"
   ]
  },
  {
   "cell_type": "code",
   "execution_count": 170,
   "metadata": {},
   "outputs": [],
   "source": [
    "test_X, test_Y = X[train_size:], Y[train_size:]"
   ]
  },
  {
   "cell_type": "code",
   "execution_count": 171,
   "metadata": {},
   "outputs": [],
   "source": [
    "assert train_X.shape[0] == train_Y.shape[0]\n",
    "assert test_X.shape[0] == test_Y.shape[0]"
   ]
  },
  {
   "cell_type": "code",
   "execution_count": 172,
   "metadata": {},
   "outputs": [
    {
     "name": "stdout",
     "output_type": "stream",
     "text": [
      "Wed Feb 27 20:20:38 2019 [test.__init__] initialized succesfully\n"
     ]
    }
   ],
   "source": [
    "model = PredictiveModel(\"test\")"
   ]
  },
  {
   "cell_type": "code",
   "execution_count": 173,
   "metadata": {},
   "outputs": [
    {
     "name": "stdout",
     "output_type": "stream",
     "text": [
      "Wed Feb 27 20:20:38 2019 [test.train] start training\n",
      "Wed Feb 27 20:20:38 2019 [test.train] trained succefully\n"
     ]
    }
   ],
   "source": [
    "model.train(train_X, train_Y)"
   ]
  },
  {
   "cell_type": "code",
   "execution_count": 174,
   "metadata": {},
   "outputs": [
    {
     "name": "stdout",
     "output_type": "stream",
     "text": [
      "Wed Feb 27 20:20:39 2019 [test.train] start predictions\n",
      "Wed Feb 27 20:20:39 2019 [test.train] predicted succesfully\n"
     ]
    }
   ],
   "source": [
    "predictions = model.predict(test_X)"
   ]
  },
  {
   "cell_type": "code",
   "execution_count": 177,
   "metadata": {},
   "outputs": [
    {
     "name": "stdout",
     "output_type": "stream",
     "text": [
      "Wed Feb 27 20:22:26 2019 [test.train] start evaluation\n"
     ]
    },
    {
     "ename": "ValueError",
     "evalue": "The truth value of an array with more than one element is ambiguous. Use a.any() or a.all()",
     "output_type": "error",
     "traceback": [
      "\u001b[0;31m---------------------------------------------------------------------------\u001b[0m",
      "\u001b[0;31mValueError\u001b[0m                                Traceback (most recent call last)",
      "\u001b[0;32m<ipython-input-177-3544ae03f0ab>\u001b[0m in \u001b[0;36m<module>\u001b[0;34m\u001b[0m\n\u001b[0;32m----> 1\u001b[0;31m \u001b[0mmodel\u001b[0m\u001b[0;34m.\u001b[0m\u001b[0mevaluate\u001b[0m\u001b[0;34m(\u001b[0m\u001b[0mtest_Y\u001b[0m\u001b[0;34m)\u001b[0m\u001b[0;34m\u001b[0m\u001b[0m\n\u001b[0m",
      "\u001b[0;32m<ipython-input-164-197d7525d212>\u001b[0m in \u001b[0;36mevaluate\u001b[0;34m(self, labels)\u001b[0m\n\u001b[1;32m     63\u001b[0m         \"\"\"\n\u001b[1;32m     64\u001b[0m         \u001b[0mprint\u001b[0m\u001b[0;34m(\u001b[0m\u001b[0;34m\"{} [{}.train] start evaluation\"\u001b[0m\u001b[0;34m.\u001b[0m\u001b[0mformat\u001b[0m\u001b[0;34m(\u001b[0m\u001b[0mctime\u001b[0m\u001b[0;34m(\u001b[0m\u001b[0;34m)\u001b[0m\u001b[0;34m,\u001b[0m \u001b[0mself\u001b[0m\u001b[0;34m.\u001b[0m\u001b[0mname\u001b[0m\u001b[0;34m)\u001b[0m\u001b[0;34m)\u001b[0m\u001b[0;34m\u001b[0m\u001b[0m\n\u001b[0;32m---> 65\u001b[0;31m         \u001b[0;32mif\u001b[0m \u001b[0;32mnot\u001b[0m \u001b[0mself\u001b[0m\u001b[0;34m.\u001b[0m\u001b[0mpredictions\u001b[0m\u001b[0;34m:\u001b[0m\u001b[0;34m\u001b[0m\u001b[0m\n\u001b[0m\u001b[1;32m     66\u001b[0m             \u001b[0;32mraise\u001b[0m \u001b[0mException\u001b[0m\u001b[0;34m(\u001b[0m\u001b[0;34m\"{} [{}.predict] ERROR model didn't predict, you need to call {}.predict first\"\u001b[0m\u001b[0;34m.\u001b[0m\u001b[0mformat\u001b[0m\u001b[0;34m(\u001b[0m\u001b[0mctime\u001b[0m\u001b[0;34m(\u001b[0m\u001b[0;34m)\u001b[0m\u001b[0;34m,\u001b[0m \u001b[0mself\u001b[0m\u001b[0;34m.\u001b[0m\u001b[0mname\u001b[0m\u001b[0;34m,\u001b[0m \u001b[0mself\u001b[0m\u001b[0;34m.\u001b[0m\u001b[0mname\u001b[0m\u001b[0;34m)\u001b[0m\u001b[0;34m)\u001b[0m\u001b[0;34m\u001b[0m\u001b[0m\n\u001b[1;32m     67\u001b[0m \u001b[0;34m\u001b[0m\u001b[0m\n",
      "\u001b[0;31mValueError\u001b[0m: The truth value of an array with more than one element is ambiguous. Use a.any() or a.all()"
     ]
    }
   ],
   "source": [
    "model.evaluate(test_Y)"
   ]
  },
  {
   "cell_type": "code",
   "execution_count": null,
   "metadata": {},
   "outputs": [],
   "source": []
  }
 ],
 "metadata": {
  "kernelspec": {
   "display_name": "Python 3",
   "language": "python",
   "name": "python3"
  },
  "language_info": {
   "codemirror_mode": {
    "name": "ipython",
    "version": 3
   },
   "file_extension": ".py",
   "mimetype": "text/x-python",
   "name": "python",
   "nbconvert_exporter": "python",
   "pygments_lexer": "ipython3",
   "version": "3.6.5"
  }
 },
 "nbformat": 4,
 "nbformat_minor": 2
}
