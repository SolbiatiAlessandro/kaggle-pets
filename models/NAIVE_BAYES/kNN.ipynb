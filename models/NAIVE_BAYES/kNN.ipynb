{
 "cells": [
  {
   "cell_type": "markdown",
   "metadata": {},
   "source": [
    "<h1>kNN model on kaggle-pet competition</h1>"
   ]
  },
  {
   "cell_type": "markdown",
   "metadata": {},
   "source": [
    "we are following Stanford CS231n, and trying to apply their assignements to this competition."
   ]
  },
  {
   "cell_type": "markdown",
   "metadata": {},
   "source": [
    "CS231N: http://cs231n.github.io/assignments2018/assignment1/\n",
    "<p>sci-kit knn: https://scikit-learn.org/stable/modules/neighbors.html"
   ]
  },
  {
   "cell_type": "markdown",
   "metadata": {},
   "source": [
    "Main differences between assignment and this notebook:\n",
    "    - we will be using sci-kit implementation of knn and not written by us\n",
    "    "
   ]
  },
  {
   "cell_type": "markdown",
   "metadata": {},
   "source": [
    "<h1>DATA LOADING"
   ]
  },
  {
   "cell_type": "code",
   "execution_count": 1,
   "metadata": {},
   "outputs": [],
   "source": [
    "import pandas as pd\n",
    "import numpy as np"
   ]
  },
  {
   "cell_type": "code",
   "execution_count": 2,
   "metadata": {},
   "outputs": [],
   "source": [
    "import os\n",
    "os.listdir('../../data')\n",
    "assert 'out_breed.csv' in os.listdir('../../data') # this assert breaks if the data is configured uncorrectly"
   ]
  },
  {
   "cell_type": "code",
   "execution_count": 3,
   "metadata": {},
   "outputs": [],
   "source": [
    "breeds = pd.read_csv('../../data/out_breed.csv')\n",
    "colors = pd.read_csv('../../data/out_color.csv')\n",
    "states = pd.read_csv('../../data/out_state.csv')\n",
    "train  = pd.read_csv('../../data/out_train.csv')\n",
    "test   = pd.read_csv('../../data/out_test.csv')\n",
    "sub    = pd.read_csv('../../data/out_submission.csv')"
   ]
  },
  {
   "cell_type": "markdown",
   "metadata": {},
   "source": [
    "<h1>MODEL</h1>"
   ]
  },
  {
   "cell_type": "code",
   "execution_count": 4,
   "metadata": {},
   "outputs": [],
   "source": [
    "from knnModel import PredictiveModel"
   ]
  },
  {
   "cell_type": "markdown",
   "metadata": {},
   "source": [
    "<h1>EXAMPLE USAGE</h1>"
   ]
  },
  {
   "cell_type": "code",
   "execution_count": 5,
   "metadata": {},
   "outputs": [],
   "source": [
    "\"\"\"\n",
    "this is a really primitive data cleaning to make KNN works: we drop the followings\n",
    "- AdoptionSpeed, is target\n",
    "- Unnamed:0, dataset_type, is useless\n",
    "- Name, RescuerId, Description, PhotoAmt, VideoAmt, PetID: this are all strings valued not able to be processed by KNN\n",
    "\"\"\"\n",
    "X = train.drop([\"AdoptionSpeed\", \"Unnamed: 0\", \"dataset_type\", \"Name\", \"RescuerID\", \"Description\", \"PhotoAmt\",\"VideoAmt\",\"PetID\"], axis=1)\n",
    "X_test = test.drop([\"Unnamed: 0\", \"dataset_type\", \"Name\", \"RescuerID\", \"Description\", \"PhotoAmt\",\"VideoAmt\",\"PetID\"], axis=1)\n",
    "\n",
    "\"\"\"\n",
    "Y is our target value, Adoption Speed can be a value [1,2,3,4]\n",
    "\"\"\"\n",
    "Y = train['AdoptionSpeed']\n",
    "\n",
    "assert X.shape[0] == Y.shape[0]"
   ]
  },
  {
   "cell_type": "code",
   "execution_count": 6,
   "metadata": {},
   "outputs": [
    {
     "name": "stdout",
     "output_type": "stream",
     "text": [
      "Sat Mar  2 00:32:10 2019 [example_usage_model.__init__] initialized succesfully\n",
      "Sat Mar  2 00:32:10 2019 [example_usage_model.train] start training\n",
      "Sat Mar  2 00:32:10 2019 [example_usage_model.train] trained succefully\n",
      "Sat Mar  2 00:32:10 2019 [example_usage_model.predict] start predictions\n",
      "Sat Mar  2 00:32:11 2019 [example_usage_model.predict] predicted succesfully\n"
     ]
    }
   ],
   "source": [
    "model = PredictiveModel(\"example_usage_model\")\n",
    "model.train(X, Y)\n",
    "predictions = model.predict(X_test)\n",
    "assert len(predictions)"
   ]
  },
  {
   "cell_type": "markdown",
   "metadata": {},
   "source": [
    "<h1>VALIDATION"
   ]
  },
  {
   "cell_type": "code",
   "execution_count": 7,
   "metadata": {},
   "outputs": [],
   "source": [
    "\"\"\"\n",
    "this is a really primitive data cleaning to make KNN works: we drop the followings\n",
    "- AdoptionSpeed, is target\n",
    "- Unnamed:0, dataset_type, is useless\n",
    "- Name, RescuerId, Description, PhotoAmt, VideoAmt, PetID: this are all strings valued not able to be processed by KNN\n",
    "\"\"\"\n",
    "X = train.drop([\"AdoptionSpeed\", \"Unnamed: 0\", \"dataset_type\", \"Name\", \"RescuerID\", \"Description\", \"PhotoAmt\",\"VideoAmt\",\"PetID\"], axis=1)\n",
    "X_test = test.drop([\"Unnamed: 0\", \"dataset_type\", \"Name\", \"RescuerID\", \"Description\", \"PhotoAmt\",\"VideoAmt\",\"PetID\"], axis=1)\n",
    "\n",
    "\"\"\"\n",
    "Y is our target value, Adoption Speed can be a value [1,2,3,4]\n",
    "\"\"\"\n",
    "Y = train['AdoptionSpeed']\n",
    "\n",
    "assert X.shape[0] == Y.shape[0]"
   ]
  },
  {
   "cell_type": "code",
   "execution_count": 8,
   "metadata": {},
   "outputs": [
    {
     "name": "stdout",
     "output_type": "stream",
     "text": [
      "Sat Mar  2 00:32:11 2019 [validation_model_Oana.__init__] initialized succesfully\n"
     ]
    }
   ],
   "source": [
    "model = PredictiveModel(\"validation_model_Oana\")"
   ]
  },
  {
   "cell_type": "code",
   "execution_count": 9,
   "metadata": {},
   "outputs": [
    {
     "name": "stdout",
     "output_type": "stream",
     "text": [
      "Sat Mar  2 00:32:11 2019 [validation_model_Oana.validation] start validation method 1\n",
      "Sat Mar  2 00:32:11 2019 [validation_model_Oana.train] start training\n",
      "Sat Mar  2 00:32:11 2019 [validation_model_Oana.train] trained succefully\n",
      "Sat Mar  2 00:32:11 2019 [validation_model_Oana.predict] start predictions\n",
      "Sat Mar  2 00:32:12 2019 [validation_model_Oana.predict] predicted succesfully\n",
      "Sat Mar  2 00:32:12 2019 [validation_model_Oana.evaluate] start evaluation\n",
      "Sat Mar  2 00:32:12 2019 [validation_model_Oana.evaluate] evaluated succesfully\n",
      "Sat Mar  2 00:32:12 2019 [validation_model_Oana.validation] single score = 0.14250968093848493 \n",
      "Sat Mar  2 00:32:12 2019 [validation_model_Oana.train] start training\n",
      "Sat Mar  2 00:32:12 2019 [validation_model_Oana.train] trained succefully\n",
      "Sat Mar  2 00:32:12 2019 [validation_model_Oana.predict] start predictions\n",
      "Sat Mar  2 00:32:13 2019 [validation_model_Oana.predict] predicted succesfully\n",
      "Sat Mar  2 00:32:13 2019 [validation_model_Oana.evaluate] start evaluation\n",
      "Sat Mar  2 00:32:13 2019 [validation_model_Oana.evaluate] evaluated succesfully\n",
      "Sat Mar  2 00:32:13 2019 [validation_model_Oana.validation] single score = 0.13850282721244045 \n",
      "Sat Mar  2 00:32:13 2019 [validation_model_Oana.train] start training\n",
      "Sat Mar  2 00:32:13 2019 [validation_model_Oana.train] trained succefully\n",
      "Sat Mar  2 00:32:13 2019 [validation_model_Oana.predict] start predictions\n",
      "Sat Mar  2 00:32:14 2019 [validation_model_Oana.predict] predicted succesfully\n",
      "Sat Mar  2 00:32:14 2019 [validation_model_Oana.evaluate] start evaluation\n",
      "Sat Mar  2 00:32:14 2019 [validation_model_Oana.evaluate] evaluated succesfully\n",
      "Sat Mar  2 00:32:14 2019 [validation_model_Oana.validation] single score = 0.13283180292455954 \n",
      "Sat Mar  2 00:32:14 2019 [validation_model_Oana.train] start training\n",
      "Sat Mar  2 00:32:15 2019 [validation_model_Oana.train] trained succefully\n",
      "Sat Mar  2 00:32:15 2019 [validation_model_Oana.predict] start predictions\n",
      "Sat Mar  2 00:32:15 2019 [validation_model_Oana.predict] predicted succesfully\n",
      "Sat Mar  2 00:32:15 2019 [validation_model_Oana.evaluate] start evaluation\n",
      "Sat Mar  2 00:32:15 2019 [validation_model_Oana.evaluate] evaluated succesfully\n",
      "Sat Mar  2 00:32:15 2019 [validation_model_Oana.validation] single score = 0.12275557992837582 \n",
      "Sat Mar  2 00:32:15 2019 [validation_model_Oana.train] start training\n",
      "Sat Mar  2 00:32:16 2019 [validation_model_Oana.train] trained succefully\n",
      "Sat Mar  2 00:32:16 2019 [validation_model_Oana.predict] start predictions\n",
      "Sat Mar  2 00:32:16 2019 [validation_model_Oana.predict] predicted succesfully\n",
      "Sat Mar  2 00:32:16 2019 [validation_model_Oana.evaluate] start evaluation\n",
      "Sat Mar  2 00:32:16 2019 [validation_model_Oana.evaluate] evaluated succesfully\n",
      "Sat Mar  2 00:32:16 2019 [validation_model_Oana.validation] single score = 0.1229228435643227 \n",
      "Sat Mar  2 00:32:16 2019 [validation_model_Oana.validation] validation score = 0.13190454691363668 \n",
      "Sat Mar  2 00:32:16 2019 [validation_model_Oana.validation] finished validation method 1\n"
     ]
    },
    {
     "data": {
      "text/plain": [
       "0.13190454691363668"
      ]
     },
     "execution_count": 9,
     "metadata": {},
     "output_type": "execute_result"
    }
   ],
   "source": [
    "model.validation(X, Y, method=1)"
   ]
  },
  {
   "cell_type": "code",
   "execution_count": 10,
   "metadata": {},
   "outputs": [
    {
     "name": "stdout",
     "output_type": "stream",
     "text": [
      "Sat Mar  2 00:32:16 2019 [validation_model_Oana.validation] start validation method 2\n",
      "Sat Mar  2 00:32:16 2019 [validation_model_Oana.train] start training\n",
      "Sat Mar  2 00:32:17 2019 [validation_model_Oana.train] trained succefully\n",
      "Sat Mar  2 00:32:17 2019 [validation_model_Oana.predict] start predictions\n",
      "Sat Mar  2 00:32:17 2019 [validation_model_Oana.predict] predicted succesfully\n",
      "Sat Mar  2 00:32:17 2019 [validation_model_Oana.evaluate] start evaluation\n",
      "Sat Mar  2 00:32:17 2019 [validation_model_Oana.evaluate] evaluated succesfully\n",
      "Sat Mar  2 00:32:17 2019 [validation_model_Oana.validation] single score = 0.14050667085975033 \n",
      "Sat Mar  2 00:32:17 2019 [validation_model_Oana.train] start training\n",
      "Sat Mar  2 00:32:17 2019 [validation_model_Oana.train] trained succefully\n",
      "Sat Mar  2 00:32:17 2019 [validation_model_Oana.predict] start predictions\n",
      "Sat Mar  2 00:32:18 2019 [validation_model_Oana.predict] predicted succesfully\n",
      "Sat Mar  2 00:32:18 2019 [validation_model_Oana.evaluate] start evaluation\n",
      "Sat Mar  2 00:32:18 2019 [validation_model_Oana.evaluate] evaluated succesfully\n",
      "Sat Mar  2 00:32:18 2019 [validation_model_Oana.validation] single score = 0.12524577798128522 \n",
      "Sat Mar  2 00:32:18 2019 [validation_model_Oana.train] start training\n",
      "Sat Mar  2 00:32:18 2019 [validation_model_Oana.train] trained succefully\n",
      "Sat Mar  2 00:32:18 2019 [validation_model_Oana.predict] start predictions\n",
      "Sat Mar  2 00:32:19 2019 [validation_model_Oana.predict] predicted succesfully\n",
      "Sat Mar  2 00:32:19 2019 [validation_model_Oana.evaluate] start evaluation\n",
      "Sat Mar  2 00:32:19 2019 [validation_model_Oana.evaluate] evaluated succesfully\n",
      "Sat Mar  2 00:32:19 2019 [validation_model_Oana.validation] single score = 0.13429805395617367 \n",
      "Sat Mar  2 00:32:19 2019 [validation_model_Oana.train] start training\n",
      "Sat Mar  2 00:32:20 2019 [validation_model_Oana.train] trained succefully\n",
      "Sat Mar  2 00:32:20 2019 [validation_model_Oana.predict] start predictions\n",
      "Sat Mar  2 00:32:20 2019 [validation_model_Oana.predict] predicted succesfully\n",
      "Sat Mar  2 00:32:20 2019 [validation_model_Oana.evaluate] start evaluation\n",
      "Sat Mar  2 00:32:20 2019 [validation_model_Oana.evaluate] evaluated succesfully\n",
      "Sat Mar  2 00:32:20 2019 [validation_model_Oana.validation] single score = 0.12994629016577297 \n",
      "Sat Mar  2 00:32:20 2019 [validation_model_Oana.train] start training\n",
      "Sat Mar  2 00:32:20 2019 [validation_model_Oana.train] trained succefully\n",
      "Sat Mar  2 00:32:20 2019 [validation_model_Oana.predict] start predictions\n",
      "Sat Mar  2 00:32:21 2019 [validation_model_Oana.predict] predicted succesfully\n",
      "Sat Mar  2 00:32:21 2019 [validation_model_Oana.evaluate] start evaluation\n",
      "Sat Mar  2 00:32:21 2019 [validation_model_Oana.evaluate] evaluated succesfully\n",
      "Sat Mar  2 00:32:21 2019 [validation_model_Oana.validation] single score = 0.12423904546242992 \n",
      "Sat Mar  2 00:32:21 2019 [validation_model_Oana.validation] validation score = 0.13084716768508242 \n",
      "Sat Mar  2 00:32:21 2019 [validation_model_Oana.validation] finished validation method 2\n"
     ]
    },
    {
     "data": {
      "text/plain": [
       "0.13084716768508242"
      ]
     },
     "execution_count": 10,
     "metadata": {},
     "output_type": "execute_result"
    }
   ],
   "source": [
    "model.validation(X, Y, method=2)"
   ]
  },
  {
   "cell_type": "code",
   "execution_count": null,
   "metadata": {},
   "outputs": [],
   "source": []
  }
 ],
 "metadata": {
  "kernelspec": {
   "display_name": "Python 3",
   "language": "python",
   "name": "python3"
  },
  "language_info": {
   "codemirror_mode": {
    "name": "ipython",
    "version": 3
   },
   "file_extension": ".py",
   "mimetype": "text/x-python",
   "name": "python",
   "nbconvert_exporter": "python",
   "pygments_lexer": "ipython3",
   "version": "3.7.0"
  }
 },
 "nbformat": 4,
 "nbformat_minor": 2
}
