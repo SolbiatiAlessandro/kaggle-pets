{
 "cells": [
  {
   "cell_type": "markdown",
   "metadata": {},
   "source": [
    "<h1>NB model on kaggle-pet competition</h1>"
   ]
  },
  {
   "cell_type": "markdown",
   "metadata": {},
   "source": [
    "<h1>DATA LOADING"
   ]
  },
  {
   "cell_type": "code",
   "execution_count": 1,
   "metadata": {},
   "outputs": [],
   "source": [
    "import pandas as pd\n",
    "import numpy as np"
   ]
  },
  {
   "cell_type": "code",
   "execution_count": 2,
   "metadata": {},
   "outputs": [],
   "source": [
    "import os\n",
    "os.listdir('../../data')\n",
    "assert 'out_breed.csv' in os.listdir('../../data') # this assert breaks if the data is configured uncorrectly"
   ]
  },
  {
   "cell_type": "code",
   "execution_count": 3,
   "metadata": {},
   "outputs": [],
   "source": [
    "breeds = pd.read_csv('../../data/out_breed.csv')\n",
    "colors = pd.read_csv('../../data/out_color.csv')\n",
    "states = pd.read_csv('../../data/out_state.csv')\n",
    "train  = pd.read_csv('../../data/out_train.csv')\n",
    "test   = pd.read_csv('../../data/out_test.csv')\n",
    "sub    = pd.read_csv('../../data/out_submission.csv')"
   ]
  },
  {
   "cell_type": "markdown",
   "metadata": {},
   "source": [
    "<h1>MODEL</h1>"
   ]
  },
  {
   "cell_type": "code",
   "execution_count": 12,
   "metadata": {},
   "outputs": [],
   "source": [
    "from gaussianNaiveBayes import PredictiveModel as gaussianPredictiveModel\n",
    "from multinomialNaiveBayes import PredictiveModel as multinomialPredictiveModel"
   ]
  },
  {
   "cell_type": "markdown",
   "metadata": {},
   "source": [
    "<h1>EXAMPLE USAGE</h1>"
   ]
  },
  {
   "cell_type": "code",
   "execution_count": 5,
   "metadata": {},
   "outputs": [],
   "source": [
    "string_cols = [\"Unnamed: 0\", \"dataset_type\", \"Name\", \"RescuerID\", \"Description\", \"PhotoAmt\",\"VideoAmt\",\"PetID\"]\n",
    "categorical_col = [\"Type\",\"Gender\",\"Vaccinated\",\"Dewormed\",\"Sterilized\",\"Breed1\",\"Breed2\",\"Color1\",\"Color2\",\"Color3\",\"State\"]\n",
    "numerical_col = [col for col in train.columns if col not in string_cols and col not in categorical_col and col != \"AdoptionSpeed\"]\n",
    "\n",
    "numerical_X = train[numerical_col]\n",
    "numerical_X_test = train[numerical_col]\n",
    "\n",
    "X = train.drop([\"AdoptionSpeed\", \"Unnamed: 0\", \"dataset_type\", \"Name\", \"RescuerID\", \"Description\", \"PhotoAmt\",\"VideoAmt\",\"PetID\"], axis=1)\n",
    "X_test = test.drop([\"Unnamed: 0\", \"dataset_type\", \"Name\", \"RescuerID\", \"Description\", \"PhotoAmt\",\"VideoAmt\",\"PetID\"], axis=1)\n",
    "\n",
    "\"\"\"\n",
    "Y is our target value, Adoption Speed can be a value [1,2,3,4]\n",
    "\"\"\"\n",
    "Y = train['AdoptionSpeed']\n",
    "\n",
    "assert X.shape[0] == Y.shape[0]"
   ]
  },
  {
   "cell_type": "code",
   "execution_count": 7,
   "metadata": {},
   "outputs": [
    {
     "name": "stdout",
     "output_type": "stream",
     "text": [
      "Wed Mar  6 03:19:20 2019 [gNB.__init__] initialized succesfully\n",
      "Wed Mar  6 03:19:20 2019 [gNB.train] start training\n",
      "Wed Mar  6 03:19:20 2019 [gNB.train] WARNING: Index(['Age', 'MaturitySize', 'FurLength', 'Health', 'Quantity', 'Fee'], dtype='object') must be Gaussian\n",
      "Wed Mar  6 03:19:20 2019 [gNB.train] trained succefully\n"
     ]
    }
   ],
   "source": [
    "model = gaussianPredictiveModel(\"gNB\")\n",
    "model.train(numerical_X, Y, verbose=True)\n",
    "predictions = model.predict(numerical_X_test)\n",
    "assert len(predictions)"
   ]
  },
  {
   "cell_type": "markdown",
   "metadata": {},
   "source": [
    "<h1>VALIDATION"
   ]
  },
  {
   "cell_type": "code",
   "execution_count": 18,
   "metadata": {},
   "outputs": [],
   "source": [
    "string_cols = [\"Unnamed: 0\", \"dataset_type\", \"Name\", \"RescuerID\", \"Description\", \"PhotoAmt\",\"VideoAmt\",\"PetID\"]\n",
    "categorical_col = [\"Type\",\"Gender\",\"Vaccinated\",\"Dewormed\",\"Sterilized\",\"Breed1\",\"Breed2\",\"Color1\",\"Color2\",\"Color3\",\"State\"]\n",
    "numerical_col = [col for col in train.columns if col not in string_cols and col not in categorical_col and col != \"AdoptionSpeed\"]\n",
    "\n",
    "numerical_X = train[numerical_col]\n",
    "numerical_X_test = train[numerical_col]\n",
    "\n",
    "X = train.drop([\"AdoptionSpeed\", \"Unnamed: 0\", \"dataset_type\", \"Name\", \"RescuerID\", \"Description\", \"PhotoAmt\",\"VideoAmt\",\"PetID\"], axis=1)\n",
    "X_test = test.drop([\"Unnamed: 0\", \"dataset_type\", \"Name\", \"RescuerID\", \"Description\", \"PhotoAmt\",\"VideoAmt\",\"PetID\"], axis=1)\n",
    "\n",
    "\"\"\"\n",
    "Y is our target value, Adoption Speed can be a value [1,2,3,4]\n",
    "\"\"\"\n",
    "Y = train['AdoptionSpeed']\n",
    "\n",
    "assert X.shape[0] == Y.shape[0]"
   ]
  },
  {
   "cell_type": "markdown",
   "metadata": {},
   "source": [
    "gaussianPredictiveModel validation"
   ]
  },
  {
   "cell_type": "code",
   "execution_count": 19,
   "metadata": {},
   "outputs": [
    {
     "name": "stdout",
     "output_type": "stream",
     "text": [
      "Wed Mar  6 04:05:52 2019 [gNB_validation_model.__init__] initialized succesfully\n"
     ]
    }
   ],
   "source": [
    "model = gaussianPredictiveModel(\"gNB_validation_model\")"
   ]
  },
  {
   "cell_type": "code",
   "execution_count": 20,
   "metadata": {},
   "outputs": [
    {
     "data": {
      "text/plain": [
       "0.049338037187933906"
      ]
     },
     "execution_count": 20,
     "metadata": {},
     "output_type": "execute_result"
    }
   ],
   "source": [
    "model.validation(numerical_X, Y, method=1)"
   ]
  },
  {
   "cell_type": "code",
   "execution_count": 21,
   "metadata": {},
   "outputs": [
    {
     "data": {
      "text/plain": [
       "0.051837035594567246"
      ]
     },
     "execution_count": 21,
     "metadata": {},
     "output_type": "execute_result"
    }
   ],
   "source": [
    "model.validation(numerical_X, Y, method=2)"
   ]
  },
  {
   "cell_type": "code",
   "execution_count": 22,
   "metadata": {},
   "outputs": [],
   "source": [
    "categorical_X=X['Breed1']\n",
    "mapping_size=len(breeds)"
   ]
  },
  {
   "cell_type": "markdown",
   "metadata": {},
   "source": [
    "multinomialPredictiveModel validation"
   ]
  },
  {
   "cell_type": "code",
   "execution_count": 23,
   "metadata": {},
   "outputs": [
    {
     "name": "stdout",
     "output_type": "stream",
     "text": [
      "Wed Mar  6 04:05:57 2019 [mNB_validation_model.__init__] initialized succesfully\n"
     ]
    }
   ],
   "source": [
    "model = multinomialPredictiveModel(\"mNB_validation_model\")"
   ]
  },
  {
   "cell_type": "code",
   "execution_count": 24,
   "metadata": {},
   "outputs": [
    {
     "data": {
      "text/plain": [
       "0.06521202798183798"
      ]
     },
     "execution_count": 24,
     "metadata": {},
     "output_type": "execute_result"
    }
   ],
   "source": [
    "model.validation(categorical_X, Y, mapping_size, method=1)"
   ]
  },
  {
   "cell_type": "code",
   "execution_count": 25,
   "metadata": {},
   "outputs": [
    {
     "data": {
      "text/plain": [
       "0.06471905800918545"
      ]
     },
     "execution_count": 25,
     "metadata": {},
     "output_type": "execute_result"
    }
   ],
   "source": [
    "model.validation(categorical_X, Y, mapping_size, method=2)"
   ]
  },
  {
   "cell_type": "code",
   "execution_count": null,
   "metadata": {},
   "outputs": [],
   "source": []
  }
 ],
 "metadata": {
  "kernelspec": {
   "display_name": "Python 3",
   "language": "python",
   "name": "python3"
  },
  "language_info": {
   "codemirror_mode": {
    "name": "ipython",
    "version": 3
   },
   "file_extension": ".py",
   "mimetype": "text/x-python",
   "name": "python",
   "nbconvert_exporter": "python",
   "pygments_lexer": "ipython3",
   "version": "3.6.5"
  }
 },
 "nbformat": 4,
 "nbformat_minor": 2
}
