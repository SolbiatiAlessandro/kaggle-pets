{
 "cells": [
  {
   "cell_type": "markdown",
   "metadata": {},
   "source": [
    "<h1>NB model on kaggle-pet competition</h1>"
   ]
  },
  {
   "cell_type": "markdown",
   "metadata": {},
   "source": [
    "<h1>DATA LOADING"
   ]
  },
  {
   "cell_type": "code",
   "execution_count": 1,
   "metadata": {},
   "outputs": [],
   "source": [
    "import pandas as pd\n",
    "import numpy as np"
   ]
  },
  {
   "cell_type": "code",
   "execution_count": 2,
   "metadata": {},
   "outputs": [],
   "source": [
    "import os\n",
    "os.listdir('../../data')\n",
    "assert 'out_breed.csv' in os.listdir('../../data') # this assert breaks if the data is configured uncorrectly"
   ]
  },
  {
   "cell_type": "code",
   "execution_count": 3,
   "metadata": {},
   "outputs": [],
   "source": [
    "breeds = pd.read_csv('../../data/out_breed.csv')\n",
    "colors = pd.read_csv('../../data/out_color.csv')\n",
    "states = pd.read_csv('../../data/out_state.csv')\n",
    "train  = pd.read_csv('../../data/out_train.csv')\n",
    "test   = pd.read_csv('../../data/out_test.csv')\n",
    "sub    = pd.read_csv('../../data/out_submission.csv')"
   ]
  },
  {
   "cell_type": "markdown",
   "metadata": {},
   "source": [
    "<h1>MODEL</h1>"
   ]
  },
  {
   "cell_type": "code",
   "execution_count": 4,
   "metadata": {},
   "outputs": [],
   "source": [
    "from gaussianNaiveBayes import PredictiveModel as gaussianPredictiveModel\n",
    "from multinomialNaiveBayes import PredictiveModel as multinomialPredictiveModel"
   ]
  },
  {
   "cell_type": "markdown",
   "metadata": {},
   "source": [
    "<h1>EXAMPLE USAGE</h1>"
   ]
  },
  {
   "cell_type": "code",
   "execution_count": 5,
   "metadata": {},
   "outputs": [],
   "source": [
    "string_cols = [\"Unnamed: 0\", \"dataset_type\", \"Name\", \"RescuerID\", \"Description\", \"PhotoAmt\",\"VideoAmt\",\"PetID\"]\n",
    "categorical_col = [\"Type\",\"Gender\",\"Vaccinated\",\"Dewormed\",\"Sterilized\",\"Breed1\",\"Breed2\",\"Color1\",\"Color2\",\"Color3\",\"State\"]\n",
    "numerical_col = [col for col in train.columns if col not in string_cols and col not in categorical_col and col != \"AdoptionSpeed\"]\n",
    "\n",
    "numerical_X = train[numerical_col]\n",
    "numerical_X_test = train[numerical_col]\n",
    "\n",
    "X = train.drop([\"AdoptionSpeed\", \"Unnamed: 0\", \"dataset_type\", \"Name\", \"RescuerID\", \"Description\", \"PhotoAmt\",\"VideoAmt\",\"PetID\"], axis=1)\n",
    "X_test = test.drop([\"Unnamed: 0\", \"dataset_type\", \"Name\", \"RescuerID\", \"Description\", \"PhotoAmt\",\"VideoAmt\",\"PetID\"], axis=1)\n",
    "\n",
    "\"\"\"\n",
    "Y is our target value, Adoption Speed can be a value [1,2,3,4]\n",
    "\"\"\"\n",
    "Y = train['AdoptionSpeed']\n",
    "\n",
    "assert X.shape[0] == Y.shape[0]"
   ]
  },
  {
   "cell_type": "code",
   "execution_count": 6,
   "metadata": {},
   "outputs": [
    {
     "name": "stdout",
     "output_type": "stream",
     "text": [
      "Wed Mar  6 04:25:03 2019 [gNB.__init__] initialized succesfully\n",
      "Wed Mar  6 04:25:03 2019 [gNB.train] start training\n",
      "Wed Mar  6 04:25:03 2019 [gNB.train] WARNING: Index(['Age', 'MaturitySize', 'FurLength', 'Health', 'Quantity', 'Fee'], dtype='object') must be Gaussian\n",
      "Wed Mar  6 04:25:03 2019 [gNB.train] trained succefully\n"
     ]
    }
   ],
   "source": [
    "model = gaussianPredictiveModel(\"gNB\")\n",
    "model.train(numerical_X, Y, verbose=True)\n",
    "predictions = model.predict(numerical_X_test)\n",
    "assert len(predictions)"
   ]
  },
  {
   "cell_type": "markdown",
   "metadata": {},
   "source": [
    "<h1>VALIDATION"
   ]
  },
  {
   "cell_type": "code",
   "execution_count": 27,
   "metadata": {},
   "outputs": [],
   "source": [
    "string_cols = [\"Unnamed: 0\", \"dataset_type\", \"Name\", \"RescuerID\", \"Description\", \"PhotoAmt\",\"VideoAmt\",\"PetID\"]\n",
    "categorical_col = [\"Type\",\"Gender\",\"Vaccinated\",\"Dewormed\",\"Sterilized\",\"Breed1\",\"Breed2\",\"Color1\",\"Color2\",\"Color3\",\"State\"]\n",
    "numerical_col = [col for col in train.columns if col not in string_cols and col not in categorical_col and col != \"AdoptionSpeed\"]\n",
    "\n",
    "numerical_X = train[numerical_col]\n",
    "numerical_X_test = train[numerical_col]\n",
    "\n",
    "X = train.drop([\"AdoptionSpeed\", \"Unnamed: 0\", \"dataset_type\", \"Name\", \"RescuerID\", \"Description\", \"PhotoAmt\",\"VideoAmt\",\"PetID\"], axis=1)\n",
    "X_test = test.drop([\"Unnamed: 0\", \"dataset_type\", \"Name\", \"RescuerID\", \"Description\", \"PhotoAmt\",\"VideoAmt\",\"PetID\"], axis=1)\n",
    "\n",
    "\"\"\"\n",
    "Y is our target value, Adoption Speed can be a value [1,2,3,4]\n",
    "\"\"\"\n",
    "Y = train['AdoptionSpeed']\n",
    "\n",
    "assert X.shape[0] == Y.shape[0]"
   ]
  },
  {
   "cell_type": "markdown",
   "metadata": {},
   "source": [
    "gaussianPredictiveModel validation"
   ]
  },
  {
   "cell_type": "code",
   "execution_count": 8,
   "metadata": {},
   "outputs": [
    {
     "name": "stdout",
     "output_type": "stream",
     "text": [
      "Wed Mar  6 04:25:08 2019 [gNB_validation_model.__init__] initialized succesfully\n"
     ]
    }
   ],
   "source": [
    "model = gaussianPredictiveModel(\"gNB_validation_model\")"
   ]
  },
  {
   "cell_type": "code",
   "execution_count": 9,
   "metadata": {},
   "outputs": [
    {
     "data": {
      "text/plain": [
       "0.049338037187933906"
      ]
     },
     "execution_count": 9,
     "metadata": {},
     "output_type": "execute_result"
    }
   ],
   "source": [
    "model.validation(numerical_X, Y, method=1)"
   ]
  },
  {
   "cell_type": "code",
   "execution_count": 10,
   "metadata": {},
   "outputs": [
    {
     "data": {
      "text/plain": [
       "0.051837035594567246"
      ]
     },
     "execution_count": 10,
     "metadata": {},
     "output_type": "execute_result"
    }
   ],
   "source": [
    "model.validation(numerical_X, Y, method=2)"
   ]
  },
  {
   "cell_type": "code",
   "execution_count": 11,
   "metadata": {},
   "outputs": [],
   "source": [
    "categorical_X=X['Breed1']\n",
    "mapping_size=len(breeds)"
   ]
  },
  {
   "cell_type": "markdown",
   "metadata": {},
   "source": [
    "multinomialPredictiveModel validation"
   ]
  },
  {
   "cell_type": "code",
   "execution_count": 12,
   "metadata": {},
   "outputs": [
    {
     "name": "stdout",
     "output_type": "stream",
     "text": [
      "Wed Mar  6 04:25:11 2019 [mNB_validation_model.__init__] initialized succesfully\n"
     ]
    }
   ],
   "source": [
    "model = multinomialPredictiveModel(\"mNB_validation_model\")"
   ]
  },
  {
   "cell_type": "code",
   "execution_count": 13,
   "metadata": {},
   "outputs": [
    {
     "data": {
      "text/plain": [
       "0.06521202798183798"
      ]
     },
     "execution_count": 13,
     "metadata": {},
     "output_type": "execute_result"
    }
   ],
   "source": [
    "model.validation(categorical_X, Y, mapping_size, method=1)"
   ]
  },
  {
   "cell_type": "code",
   "execution_count": 14,
   "metadata": {},
   "outputs": [
    {
     "data": {
      "text/plain": [
       "0.06471905800918545"
      ]
     },
     "execution_count": 14,
     "metadata": {},
     "output_type": "execute_result"
    }
   ],
   "source": [
    "model.validation(categorical_X, Y, mapping_size, method=2)"
   ]
  },
  {
   "cell_type": "markdown",
   "metadata": {},
   "source": [
    "<h1>Categorical Features Validation using NB"
   ]
  },
  {
   "cell_type": "code",
   "execution_count": 15,
   "metadata": {},
   "outputs": [],
   "source": [
    "features_importance = {} "
   ]
  },
  {
   "cell_type": "code",
   "execution_count": 16,
   "metadata": {},
   "outputs": [
    {
     "name": "stdout",
     "output_type": "stream",
     "text": [
      "Wed Mar  6 04:25:14 2019 [mNB_validation_model.__init__] initialized succesfully\n",
      "Breed1 0.06521202798183798\n"
     ]
    }
   ],
   "source": [
    "feature, feature_size = \"Breed1\", len(breeds)\n",
    "model = multinomialPredictiveModel(\"mNB_validation_model\")\n",
    "score = model.validation(X[feature], Y, feature_size, method=1)\n",
    "features_importance[feature] = score\n",
    "print(feature, score)"
   ]
  },
  {
   "cell_type": "code",
   "execution_count": 17,
   "metadata": {},
   "outputs": [
    {
     "name": "stdout",
     "output_type": "stream",
     "text": [
      "Wed Mar  6 04:25:16 2019 [mNB_validation_model.__init__] initialized succesfully\n",
      "Breed2 0.016322994465050054\n"
     ]
    }
   ],
   "source": [
    "feature, feature_size = \"Breed2\", len(breeds)\n",
    "model = multinomialPredictiveModel(\"mNB_validation_model\")\n",
    "score = model.validation(X[feature], Y, feature_size, method=1)\n",
    "features_importance[feature] = score\n",
    "print(feature, score)"
   ]
  },
  {
   "cell_type": "code",
   "execution_count": 18,
   "metadata": {},
   "outputs": [
    {
     "name": "stdout",
     "output_type": "stream",
     "text": [
      "Wed Mar  6 04:25:18 2019 [mNB_validation_model.__init__] initialized succesfully\n",
      "Color1 0.012134527811713447\n"
     ]
    }
   ],
   "source": [
    "feature, feature_size = \"Color1\", len(colors)\n",
    "model = multinomialPredictiveModel(\"mNB_validation_model\")\n",
    "score = model.validation(X[feature], Y, feature_size, method=1)\n",
    "features_importance[feature] = score\n",
    "print(feature, score)"
   ]
  },
  {
   "cell_type": "code",
   "execution_count": 19,
   "metadata": {},
   "outputs": [
    {
     "name": "stdout",
     "output_type": "stream",
     "text": [
      "Color2 0.002906781966766081\n"
     ]
    }
   ],
   "source": [
    "feature, feature_size = \"Color2\", len(colors)\n",
    "score = model.validation(X[feature], Y, feature_size, method=1)\n",
    "features_importance[feature] = score\n",
    "print(feature, score)"
   ]
  },
  {
   "cell_type": "code",
   "execution_count": 20,
   "metadata": {},
   "outputs": [
    {
     "name": "stdout",
     "output_type": "stream",
     "text": [
      "Color3 0.002696587684870533\n"
     ]
    }
   ],
   "source": [
    "feature, feature_size = \"Color3\", len(colors)\n",
    "score = model.validation(X[feature], Y, feature_size, method=1)\n",
    "features_importance[feature] = score\n",
    "print(feature, score)"
   ]
  },
  {
   "cell_type": "markdown",
   "metadata": {},
   "source": [
    "states values need to be remapped [x, y, z] -> [1,2,3]"
   ]
  },
  {
   "cell_type": "code",
   "execution_count": 28,
   "metadata": {},
   "outputs": [
    {
     "data": {
      "text/plain": [
       "0    13\n",
       "1     3\n",
       "2    13\n",
       "3     3\n",
       "4    13\n",
       "Name: State_reset, dtype: int64"
      ]
     },
     "execution_count": 28,
     "metadata": {},
     "output_type": "execute_result"
    }
   ],
   "source": [
    "states_reset_map = {value: key for key, value in dict(states['StateID']).items()}\n",
    "X[\"State_reset\"] = X[\"State\"].map(states_reset_map)\n",
    "X[\"State_reset\"].head()"
   ]
  },
  {
   "cell_type": "code",
   "execution_count": 29,
   "metadata": {},
   "outputs": [
    {
     "name": "stdout",
     "output_type": "stream",
     "text": [
      "State_reset 0.028705371025809435\n"
     ]
    }
   ],
   "source": [
    "feature, feature_size = \"State_reset\", len(states)\n",
    "score = model.validation(X[feature], Y, feature_size, method=1)\n",
    "features_importance[feature] = score\n",
    "print(feature, score)"
   ]
  },
  {
   "cell_type": "code",
   "execution_count": 32,
   "metadata": {},
   "outputs": [
    {
     "name": "stdout",
     "output_type": "stream",
     "text": [
      "Type 0.017738962688735094\n"
     ]
    }
   ],
   "source": [
    "feature, feature_size = \"Type\", 3\n",
    "score = model.validation(X[feature], Y, feature_size, method=1)\n",
    "features_importance[feature] = score\n",
    "print(feature, score)"
   ]
  },
  {
   "cell_type": "code",
   "execution_count": 33,
   "metadata": {},
   "outputs": [
    {
     "data": {
      "text/plain": [
       "{'Breed1': 0.06521202798183798,\n",
       " 'Breed2': 0.016322994465050054,\n",
       " 'Color1': 0.012134527811713447,\n",
       " 'Color2': 0.002906781966766081,\n",
       " 'Color3': 0.002696587684870533,\n",
       " 'State_reset': 0.028705371025809435,\n",
       " 'Type': 0.017738962688735094}"
      ]
     },
     "execution_count": 33,
     "metadata": {},
     "output_type": "execute_result"
    }
   ],
   "source": [
    "features_importance"
   ]
  },
  {
   "cell_type": "code",
   "execution_count": 38,
   "metadata": {},
   "outputs": [
    {
     "data": {
      "text/plain": [
       "Text(0.5, 1.0, 'Categorical Features Importance based on Naive Bayes validation')"
      ]
     },
     "execution_count": 38,
     "metadata": {},
     "output_type": "execute_result"
    },
    {
     "data": {
      "image/png": "[encoded data removed]",
      "text/plain": [
       "<Figure size 432x288 with 1 Axes>"
      ]
     },
     "metadata": {
      "needs_background": "light"
     },
     "output_type": "display_data"
    }
   ],
   "source": [
    "from matplotlib import pyplot as plt\n",
    "plt.bar(features_importance.keys(),features_importance.values())\n",
    "plt.title('Categorical Features Importance based on Naive Bayes validation')"
   ]
  }
 ],
 "metadata": {
  "kernelspec": {
   "display_name": "Python 3",
   "language": "python",
   "name": "python3"
  },
  "language_info": {
   "codemirror_mode": {
    "name": "ipython",
    "version": 3
   },
   "file_extension": ".py",
   "mimetype": "text/x-python",
   "name": "python",
   "nbconvert_exporter": "python",
   "pygments_lexer": "ipython3",
   "version": "3.6.5"
  }
 },
 "nbformat": 4,
 "nbformat_minor": 2
}
