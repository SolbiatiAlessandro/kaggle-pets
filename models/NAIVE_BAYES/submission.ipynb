{
 "cells": [
  {
   "cell_type": "markdown",
   "metadata": {},
   "source": [
    "<h1>NB model on kaggle-pet competition</h1>"
   ]
  },
  {
   "cell_type": "markdown",
   "metadata": {},
   "source": [
    "<h1>DATA LOADING"
   ]
  },
  {
   "cell_type": "code",
   "execution_count": 1,
   "metadata": {},
   "outputs": [],
   "source": [
    "import pandas as pd\n",
    "import numpy as np"
   ]
  },
  {
   "cell_type": "code",
   "execution_count": 2,
   "metadata": {},
   "outputs": [],
   "source": [
    "import os\n",
    "os.listdir('../../data')\n",
    "assert 'out_breed.csv' in os.listdir('../../data') # this assert breaks if the data is configured uncorrectly"
   ]
  },
  {
   "cell_type": "code",
   "execution_count": 3,
   "metadata": {},
   "outputs": [],
   "source": [
    "breeds = pd.read_csv('../../data/out_breed.csv')\n",
    "colors = pd.read_csv('../../data/out_color.csv')\n",
    "states = pd.read_csv('../../data/out_state.csv')\n",
    "train  = pd.read_csv('../../data/out_train.csv')\n",
    "test   = pd.read_csv('../../data/out_test.csv')\n",
    "sub    = pd.read_csv('../../data/out_submission.csv')"
   ]
  },
  {
   "cell_type": "markdown",
   "metadata": {},
   "source": [
    "<h1>MODEL</h1>"
   ]
  },
  {
   "cell_type": "markdown",
   "metadata": {},
   "source": [
    "<h1>Ensemble</h1>"
   ]
  },
  {
   "cell_type": "code",
   "execution_count": 4,
   "metadata": {},
   "outputs": [],
   "source": [
    "string_cols = [\"Unnamed: 0\", \"dataset_type\", \"Name\", \"RescuerID\", \"Description\", \"PhotoAmt\",\"VideoAmt\",\"PetID\"]\n",
    "categorical_col = [\"Type\",\"Gender\",\"Vaccinated\",\"Dewormed\",\"Sterilized\",\"Breed1\",\"Breed2\",\"Color1\",\"Color2\",\"Color3\",\"State\"]\n",
    "numerical_col = [col for col in train.columns if col not in string_cols and col not in categorical_col and col != \"AdoptionSpeed\"]\n",
    "mapping_sizes = [2, 2, 3, 3, 3, 307, 307, 7, 7, 7, 15]"
   ]
  },
  {
   "cell_type": "code",
   "execution_count": 7,
   "metadata": {},
   "outputs": [],
   "source": [
    "X = pd.concat([train[numerical_col], train[categorical_col]], axis=1)\n",
    "Y = train['AdoptionSpeed']"
   ]
  },
  {
   "cell_type": "code",
   "execution_count": 15,
   "metadata": {},
   "outputs": [],
   "source": [
    "from ensembleNaiveBayes import PredictiveModel"
   ]
  },
  {
   "cell_type": "code",
   "execution_count": 16,
   "metadata": {},
   "outputs": [
    {
     "name": "stdout",
     "output_type": "stream",
     "text": [
      "Thu Mar 21 14:57:59 2019 [validation ensemble.__init__] initialized succesfully\n"
     ]
    }
   ],
   "source": [
    "model = PredictiveModel(\"validation ensemble\")"
   ]
  },
  {
   "cell_type": "code",
   "execution_count": 17,
   "metadata": {},
   "outputs": [
    {
     "name": "stdout",
     "output_type": "stream",
     "text": [
      "Thu Mar 21 14:58:00 2019 [base-gaussianNB.__init__] initialized succesfully\n",
      "Thu Mar 21 14:58:00 2019 [base-multinomialNB-Type.__init__] initialized succesfully\n",
      "Thu Mar 21 14:58:00 2019 [base-multinomialNB-Gender.__init__] initialized succesfully\n",
      "Thu Mar 21 14:58:00 2019 [base-multinomialNB-Vaccinated.__init__] initialized succesfully\n",
      "Thu Mar 21 14:58:00 2019 [base-multinomialNB-Dewormed.__init__] initialized succesfully\n",
      "Thu Mar 21 14:58:00 2019 [base-multinomialNB-Sterilized.__init__] initialized succesfully\n",
      "Thu Mar 21 14:58:00 2019 [base-multinomialNB-Breed1.__init__] initialized succesfully\n",
      "Thu Mar 21 14:58:00 2019 [base-multinomialNB-Breed2.__init__] initialized succesfully\n",
      "Thu Mar 21 14:58:00 2019 [base-multinomialNB-Color1.__init__] initialized succesfully\n",
      "Thu Mar 21 14:58:00 2019 [base-multinomialNB-Color2.__init__] initialized succesfully\n",
      "Thu Mar 21 14:58:00 2019 [base-multinomialNB-Color3.__init__] initialized succesfully\n",
      "Thu Mar 21 14:58:00 2019 [base-multinomialNB-State.__init__] initialized succesfully\n",
      "Thu Mar 21 14:58:00 2019 [base-gaussianNB.__init__] initialized succesfully\n",
      "Thu Mar 21 14:58:00 2019 [base-multinomialNB-Type.__init__] initialized succesfully\n",
      "Thu Mar 21 14:58:00 2019 [base-multinomialNB-Gender.__init__] initialized succesfully\n",
      "Thu Mar 21 14:58:00 2019 [base-multinomialNB-Vaccinated.__init__] initialized succesfully\n",
      "Thu Mar 21 14:58:00 2019 [base-multinomialNB-Dewormed.__init__] initialized succesfully\n",
      "Thu Mar 21 14:58:00 2019 [base-multinomialNB-Sterilized.__init__] initialized succesfully\n",
      "Thu Mar 21 14:58:00 2019 [base-multinomialNB-Breed1.__init__] initialized succesfully\n",
      "Thu Mar 21 14:58:00 2019 [base-multinomialNB-Breed2.__init__] initialized succesfully\n",
      "Thu Mar 21 14:58:00 2019 [base-multinomialNB-Color1.__init__] initialized succesfully\n",
      "Thu Mar 21 14:58:00 2019 [base-multinomialNB-Color2.__init__] initialized succesfully\n",
      "Thu Mar 21 14:58:00 2019 [base-multinomialNB-Color3.__init__] initialized succesfully\n",
      "Thu Mar 21 14:58:00 2019 [base-multinomialNB-State.__init__] initialized succesfully\n",
      "Thu Mar 21 14:58:01 2019 [base-gaussianNB.__init__] initialized succesfully\n",
      "Thu Mar 21 14:58:01 2019 [base-multinomialNB-Type.__init__] initialized succesfully\n",
      "Thu Mar 21 14:58:01 2019 [base-multinomialNB-Gender.__init__] initialized succesfully\n",
      "Thu Mar 21 14:58:01 2019 [base-multinomialNB-Vaccinated.__init__] initialized succesfully\n",
      "Thu Mar 21 14:58:01 2019 [base-multinomialNB-Dewormed.__init__] initialized succesfully\n",
      "Thu Mar 21 14:58:01 2019 [base-multinomialNB-Sterilized.__init__] initialized succesfully\n",
      "Thu Mar 21 14:58:01 2019 [base-multinomialNB-Breed1.__init__] initialized succesfully\n",
      "Thu Mar 21 14:58:01 2019 [base-multinomialNB-Breed2.__init__] initialized succesfully\n",
      "Thu Mar 21 14:58:01 2019 [base-multinomialNB-Color1.__init__] initialized succesfully\n",
      "Thu Mar 21 14:58:01 2019 [base-multinomialNB-Color2.__init__] initialized succesfully\n",
      "Thu Mar 21 14:58:01 2019 [base-multinomialNB-Color3.__init__] initialized succesfully\n",
      "Thu Mar 21 14:58:01 2019 [base-multinomialNB-State.__init__] initialized succesfully\n",
      "Thu Mar 21 14:58:01 2019 [base-gaussianNB.__init__] initialized succesfully\n",
      "Thu Mar 21 14:58:01 2019 [base-multinomialNB-Type.__init__] initialized succesfully\n",
      "Thu Mar 21 14:58:01 2019 [base-multinomialNB-Gender.__init__] initialized succesfully\n",
      "Thu Mar 21 14:58:01 2019 [base-multinomialNB-Vaccinated.__init__] initialized succesfully\n",
      "Thu Mar 21 14:58:01 2019 [base-multinomialNB-Dewormed.__init__] initialized succesfully\n",
      "Thu Mar 21 14:58:01 2019 [base-multinomialNB-Sterilized.__init__] initialized succesfully\n",
      "Thu Mar 21 14:58:01 2019 [base-multinomialNB-Breed1.__init__] initialized succesfully\n",
      "Thu Mar 21 14:58:01 2019 [base-multinomialNB-Breed2.__init__] initialized succesfully\n",
      "Thu Mar 21 14:58:01 2019 [base-multinomialNB-Color1.__init__] initialized succesfully\n",
      "Thu Mar 21 14:58:01 2019 [base-multinomialNB-Color2.__init__] initialized succesfully\n",
      "Thu Mar 21 14:58:01 2019 [base-multinomialNB-Color3.__init__] initialized succesfully\n",
      "Thu Mar 21 14:58:01 2019 [base-multinomialNB-State.__init__] initialized succesfully\n",
      "Thu Mar 21 14:58:02 2019 [base-gaussianNB.__init__] initialized succesfully\n",
      "Thu Mar 21 14:58:02 2019 [base-multinomialNB-Type.__init__] initialized succesfully\n",
      "Thu Mar 21 14:58:02 2019 [base-multinomialNB-Gender.__init__] initialized succesfully\n",
      "Thu Mar 21 14:58:02 2019 [base-multinomialNB-Vaccinated.__init__] initialized succesfully\n",
      "Thu Mar 21 14:58:02 2019 [base-multinomialNB-Dewormed.__init__] initialized succesfully\n",
      "Thu Mar 21 14:58:02 2019 [base-multinomialNB-Sterilized.__init__] initialized succesfully\n",
      "Thu Mar 21 14:58:02 2019 [base-multinomialNB-Breed1.__init__] initialized succesfully\n",
      "Thu Mar 21 14:58:02 2019 [base-multinomialNB-Breed2.__init__] initialized succesfully\n",
      "Thu Mar 21 14:58:02 2019 [base-multinomialNB-Color1.__init__] initialized succesfully\n",
      "Thu Mar 21 14:58:02 2019 [base-multinomialNB-Color2.__init__] initialized succesfully\n",
      "Thu Mar 21 14:58:02 2019 [base-multinomialNB-Color3.__init__] initialized succesfully\n",
      "Thu Mar 21 14:58:02 2019 [base-multinomialNB-State.__init__] initialized succesfully\n"
     ]
    },
    {
     "data": {
      "text/plain": [
       "0.08775696653531366"
      ]
     },
     "execution_count": 17,
     "metadata": {},
     "output_type": "execute_result"
    }
   ],
   "source": [
    "model.validation(X, Y, mapping_sizes)"
   ]
  },
  {
   "cell_type": "code",
   "execution_count": 11,
   "metadata": {},
   "outputs": [
    {
     "name": "stdout",
     "output_type": "stream",
     "text": [
      "Thu Mar 21 14:56:00 2019 [base-gaussianNB.__init__] initialized succesfully\n",
      "Thu Mar 21 14:56:00 2019 [base-multinomialNB-Type.__init__] initialized succesfully\n",
      "Thu Mar 21 14:56:00 2019 [base-multinomialNB-Gender.__init__] initialized succesfully\n",
      "Thu Mar 21 14:56:00 2019 [base-multinomialNB-Vaccinated.__init__] initialized succesfully\n",
      "Thu Mar 21 14:56:00 2019 [base-multinomialNB-Dewormed.__init__] initialized succesfully\n",
      "Thu Mar 21 14:56:00 2019 [base-multinomialNB-Sterilized.__init__] initialized succesfully\n",
      "Thu Mar 21 14:56:00 2019 [base-multinomialNB-Breed1.__init__] initialized succesfully\n",
      "Thu Mar 21 14:56:00 2019 [base-multinomialNB-Breed2.__init__] initialized succesfully\n",
      "Thu Mar 21 14:56:00 2019 [base-multinomialNB-Color1.__init__] initialized succesfully\n",
      "Thu Mar 21 14:56:00 2019 [base-multinomialNB-Color2.__init__] initialized succesfully\n",
      "Thu Mar 21 14:56:00 2019 [base-multinomialNB-Color3.__init__] initialized succesfully\n",
      "Thu Mar 21 14:56:00 2019 [base-multinomialNB-State.__init__] initialized succesfully\n",
      "Thu Mar 21 14:56:00 2019 [base-gaussianNB.__init__] initialized succesfully\n",
      "Thu Mar 21 14:56:00 2019 [base-multinomialNB-Type.__init__] initialized succesfully\n",
      "Thu Mar 21 14:56:00 2019 [base-multinomialNB-Gender.__init__] initialized succesfully\n",
      "Thu Mar 21 14:56:00 2019 [base-multinomialNB-Vaccinated.__init__] initialized succesfully\n",
      "Thu Mar 21 14:56:00 2019 [base-multinomialNB-Dewormed.__init__] initialized succesfully\n",
      "Thu Mar 21 14:56:00 2019 [base-multinomialNB-Sterilized.__init__] initialized succesfully\n",
      "Thu Mar 21 14:56:00 2019 [base-multinomialNB-Breed1.__init__] initialized succesfully\n",
      "Thu Mar 21 14:56:00 2019 [base-multinomialNB-Breed2.__init__] initialized succesfully\n",
      "Thu Mar 21 14:56:01 2019 [base-multinomialNB-Color1.__init__] initialized succesfully\n",
      "Thu Mar 21 14:56:01 2019 [base-multinomialNB-Color2.__init__] initialized succesfully\n",
      "Thu Mar 21 14:56:01 2019 [base-multinomialNB-Color3.__init__] initialized succesfully\n",
      "Thu Mar 21 14:56:01 2019 [base-multinomialNB-State.__init__] initialized succesfully\n",
      "Thu Mar 21 14:56:01 2019 [base-gaussianNB.__init__] initialized succesfully\n",
      "Thu Mar 21 14:56:01 2019 [base-multinomialNB-Type.__init__] initialized succesfully\n",
      "Thu Mar 21 14:56:01 2019 [base-multinomialNB-Gender.__init__] initialized succesfully\n",
      "Thu Mar 21 14:56:01 2019 [base-multinomialNB-Vaccinated.__init__] initialized succesfully\n",
      "Thu Mar 21 14:56:01 2019 [base-multinomialNB-Dewormed.__init__] initialized succesfully\n",
      "Thu Mar 21 14:56:01 2019 [base-multinomialNB-Sterilized.__init__] initialized succesfully\n",
      "Thu Mar 21 14:56:01 2019 [base-multinomialNB-Breed1.__init__] initialized succesfully\n",
      "Thu Mar 21 14:56:01 2019 [base-multinomialNB-Breed2.__init__] initialized succesfully\n",
      "Thu Mar 21 14:56:01 2019 [base-multinomialNB-Color1.__init__] initialized succesfully\n",
      "Thu Mar 21 14:56:01 2019 [base-multinomialNB-Color2.__init__] initialized succesfully\n",
      "Thu Mar 21 14:56:01 2019 [base-multinomialNB-Color3.__init__] initialized succesfully\n",
      "Thu Mar 21 14:56:01 2019 [base-multinomialNB-State.__init__] initialized succesfully\n",
      "Thu Mar 21 14:56:01 2019 [base-gaussianNB.__init__] initialized succesfully\n",
      "Thu Mar 21 14:56:01 2019 [base-multinomialNB-Type.__init__] initialized succesfully\n",
      "Thu Mar 21 14:56:01 2019 [base-multinomialNB-Gender.__init__] initialized succesfully\n",
      "Thu Mar 21 14:56:01 2019 [base-multinomialNB-Vaccinated.__init__] initialized succesfully\n",
      "Thu Mar 21 14:56:01 2019 [base-multinomialNB-Dewormed.__init__] initialized succesfully\n",
      "Thu Mar 21 14:56:01 2019 [base-multinomialNB-Sterilized.__init__] initialized succesfully\n",
      "Thu Mar 21 14:56:01 2019 [base-multinomialNB-Breed1.__init__] initialized succesfully\n",
      "Thu Mar 21 14:56:01 2019 [base-multinomialNB-Breed2.__init__] initialized succesfully\n",
      "Thu Mar 21 14:56:01 2019 [base-multinomialNB-Color1.__init__] initialized succesfully\n",
      "Thu Mar 21 14:56:01 2019 [base-multinomialNB-Color2.__init__] initialized succesfully\n",
      "Thu Mar 21 14:56:01 2019 [base-multinomialNB-Color3.__init__] initialized succesfully\n",
      "Thu Mar 21 14:56:01 2019 [base-multinomialNB-State.__init__] initialized succesfully\n",
      "Thu Mar 21 14:56:02 2019 [base-gaussianNB.__init__] initialized succesfully\n",
      "Thu Mar 21 14:56:02 2019 [base-multinomialNB-Type.__init__] initialized succesfully\n",
      "Thu Mar 21 14:56:02 2019 [base-multinomialNB-Gender.__init__] initialized succesfully\n",
      "Thu Mar 21 14:56:02 2019 [base-multinomialNB-Vaccinated.__init__] initialized succesfully\n",
      "Thu Mar 21 14:56:02 2019 [base-multinomialNB-Dewormed.__init__] initialized succesfully\n",
      "Thu Mar 21 14:56:02 2019 [base-multinomialNB-Sterilized.__init__] initialized succesfully\n",
      "Thu Mar 21 14:56:02 2019 [base-multinomialNB-Breed1.__init__] initialized succesfully\n",
      "Thu Mar 21 14:56:02 2019 [base-multinomialNB-Breed2.__init__] initialized succesfully\n",
      "Thu Mar 21 14:56:02 2019 [base-multinomialNB-Color1.__init__] initialized succesfully\n",
      "Thu Mar 21 14:56:02 2019 [base-multinomialNB-Color2.__init__] initialized succesfully\n",
      "Thu Mar 21 14:56:02 2019 [base-multinomialNB-Color3.__init__] initialized succesfully\n",
      "Thu Mar 21 14:56:02 2019 [base-multinomialNB-State.__init__] initialized succesfully\n"
     ]
    },
    {
     "data": {
      "text/plain": [
       "0.08716005074234104"
      ]
     },
     "execution_count": 11,
     "metadata": {},
     "output_type": "execute_result"
    }
   ],
   "source": [
    "model.validation(X, Y, mapping_sizes, method=2)"
   ]
  },
  {
   "cell_type": "markdown",
   "metadata": {},
   "source": [
    "<h1>Submission score</h1>"
   ]
  },
  {
   "cell_type": "code",
   "execution_count": 18,
   "metadata": {},
   "outputs": [
    {
     "data": {
      "text/plain": [
       "0.172"
      ]
     },
     "execution_count": 18,
     "metadata": {},
     "output_type": "execute_result"
    }
   ],
   "source": [
    "0.172"
   ]
  },
  {
   "cell_type": "code",
   "execution_count": null,
   "metadata": {},
   "outputs": [],
   "source": []
  }
 ],
 "metadata": {
  "kernelspec": {
   "display_name": "Python 3",
   "language": "python",
   "name": "python3"
  },
  "language_info": {
   "codemirror_mode": {
    "name": "ipython",
    "version": 3
   },
   "file_extension": ".py",
   "mimetype": "text/x-python",
   "name": "python",
   "nbconvert_exporter": "python",
   "pygments_lexer": "ipython3",
   "version": "3.6.5"
  }
 },
 "nbformat": 4,
 "nbformat_minor": 2
}
