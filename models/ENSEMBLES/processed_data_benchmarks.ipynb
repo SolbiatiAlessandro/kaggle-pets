{
 "cells": [
  {
   "cell_type": "code",
   "execution_count": 2,
   "metadata": {},
   "outputs": [
    {
     "data": {
      "text/plain": [
       "['out_breed.csv',\n",
       " 'out_color.csv',\n",
       " 'out_state.csv',\n",
       " 'out_submission.csv',\n",
       " 'out_test.csv',\n",
       " 'out_train.csv',\n",
       " 'processed.pkl',\n",
       " 'README.md']"
      ]
     },
     "execution_count": 2,
     "metadata": {},
     "output_type": "execute_result"
    }
   ],
   "source": [
    "import os\n",
    "os.listdir(\"../../data\")"
   ]
  },
  {
   "cell_type": "code",
   "execution_count": 4,
   "metadata": {},
   "outputs": [],
   "source": [
    "import pickle as pkl\n",
    "d=pkl.load(open(\"../../data/processed.pkl\",\"rb\"))"
   ]
  },
  {
   "cell_type": "code",
   "execution_count": 6,
   "metadata": {},
   "outputs": [],
   "source": [
    "import sys\n",
    "sys.path.append(\"../KNN\")"
   ]
  },
  {
   "cell_type": "code",
   "execution_count": 7,
   "metadata": {},
   "outputs": [],
   "source": [
    "from knnDogs20 import PredictiveModel as DogPredictiveModel"
   ]
  },
  {
   "cell_type": "code",
   "execution_count": 10,
   "metadata": {},
   "outputs": [
    {
     "name": "stdout",
     "output_type": "stream",
     "text": [
      "Thu Mar 28 14:02:02 2019 [preprocessed.__init__] initialized succesfully\n"
     ]
    }
   ],
   "source": [
    "knn=DogPredictiveModel('preprocessed')"
   ]
  },
  {
   "cell_type": "code",
   "execution_count": 13,
   "metadata": {},
   "outputs": [],
   "source": [
    "cat_features = [0,2,3,4,5,6,7,10,11,12,13,16]\n",
    "X=d['X_train'].drop(['AdoptionSpeed'],axis=1)\n",
    "Y=d['X_train']['AdoptionSpeed']"
   ]
  },
  {
   "cell_type": "code",
   "execution_count": 14,
   "metadata": {},
   "outputs": [
    {
     "name": "stdout",
     "output_type": "stream",
     "text": [
      "Thu Mar 28 14:02:39 2019 [preprocessed.validation] start validation method 1\n",
      "Thu Mar 28 14:02:42 2019 [preprocessed.validation] single score = 0.16305089458225208 \n",
      "Thu Mar 28 14:02:44 2019 [preprocessed.validation] single score = 0.17321950589766655 \n",
      "Thu Mar 28 14:02:47 2019 [preprocessed.validation] single score = 0.18185072513527256 \n",
      "Thu Mar 28 14:02:50 2019 [preprocessed.validation] single score = 0.15936599790545158 \n",
      "Thu Mar 28 14:02:52 2019 [preprocessed.validation] single score = 0.1519415897113786 \n",
      "Thu Mar 28 14:02:52 2019 [preprocessed.validation] validation score = 0.16588574264640427 \n",
      "Thu Mar 28 14:02:52 2019 [preprocessed.validation] finished validation method 1\n"
     ]
    },
    {
     "data": {
      "text/plain": [
       "0.16588574264640427"
      ]
     },
     "execution_count": 14,
     "metadata": {},
     "output_type": "execute_result"
    }
   ],
   "source": [
    "knn.validation(X,Y,verbose=True)"
   ]
  },
  {
   "cell_type": "code",
   "execution_count": null,
   "metadata": {},
   "outputs": [],
   "source": []
  }
 ],
 "metadata": {
  "kernelspec": {
   "display_name": "Python 3",
   "language": "python",
   "name": "python3"
  },
  "language_info": {
   "codemirror_mode": {
    "name": "ipython",
    "version": 3
   },
   "file_extension": ".py",
   "mimetype": "text/x-python",
   "name": "python",
   "nbconvert_exporter": "python",
   "pygments_lexer": "ipython3",
   "version": "3.6.5"
  }
 },
 "nbformat": 4,
 "nbformat_minor": 2
}
