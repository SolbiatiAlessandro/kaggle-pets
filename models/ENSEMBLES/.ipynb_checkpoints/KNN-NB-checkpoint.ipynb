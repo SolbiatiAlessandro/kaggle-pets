{
 "cells": [
  {
   "cell_type": "markdown",
   "metadata": {},
   "source": [
    "<h1>DATA LOADING"
   ]
  },
  {
   "cell_type": "code",
   "execution_count": 1,
   "metadata": {},
   "outputs": [],
   "source": [
    "import pandas as pd\n",
    "import numpy as np"
   ]
  },
  {
   "cell_type": "code",
   "execution_count": 2,
   "metadata": {},
   "outputs": [],
   "source": [
    "import os\n",
    "os.listdir('../../data')\n",
    "assert 'out_breed.csv' in os.listdir('../../data') # this assert breaks if the data is configured uncorrectly"
   ]
  },
  {
   "cell_type": "code",
   "execution_count": 3,
   "metadata": {},
   "outputs": [],
   "source": [
    "breeds = pd.read_csv('../../data/out_breed.csv')\n",
    "colors = pd.read_csv('../../data/out_color.csv')\n",
    "states = pd.read_csv('../../data/out_state.csv')\n",
    "train  = pd.read_csv('../../data/out_train.csv')\n",
    "test   = pd.read_csv('../../data/out_test.csv')\n",
    "sub    = pd.read_csv('../../data/out_submission.csv')"
   ]
  },
  {
   "cell_type": "code",
   "execution_count": 4,
   "metadata": {},
   "outputs": [],
   "source": [
    "# cats dogs\n",
    "dogs = train[train['Type'] == 1].drop('Type',axis=1)\n",
    "cats = train[train['Type'] == 2].drop('Type',axis=1)"
   ]
  },
  {
   "cell_type": "code",
   "execution_count": 5,
   "metadata": {},
   "outputs": [],
   "source": [
    "import sys\n",
    "sys.path.append('../')"
   ]
  },
  {
   "cell_type": "markdown",
   "metadata": {},
   "source": [
    "<h1>NB MODEL</h1>"
   ]
  },
  {
   "cell_type": "code",
   "execution_count": 6,
   "metadata": {},
   "outputs": [],
   "source": [
    "from NAIVE_BAYES.ensembleNaiveBayes import PredictiveModel as naiveBayesEnsemblePredictiveModel"
   ]
  },
  {
   "cell_type": "code",
   "execution_count": 9,
   "metadata": {},
   "outputs": [],
   "source": [
    "string_cols = [\"Unnamed: 0\", \"dataset_type\", \"Name\", \"RescuerID\", \"Description\", \"PetID\"]\n",
    "categorical_col = [\"Gender\",\"Vaccinated\",\"Dewormed\",\"Sterilized\",\"Breed1\",\"Breed2\",\"Color1\",\"Color2\",\"Color3\",\"State\"]\n",
    "numerical_col = [col for col in cats.columns if col not in string_cols and col not in categorical_col and col != \"AdoptionSpeed\"]\n",
    "mapping_sizes = [2, 3, 3, 3, 307, 307, 7, 7, 7, 15]\n",
    "    \n",
    "def nb_prepare_data(population):\n",
    "    \"\"\"\n",
    "    this prepare data to be fed inside a NB\n",
    "    Args: subset of (rows) of train\n",
    "    Return: X,Y\n",
    "    \"\"\"\n",
    "    Y = population[\"AdoptionSpeed\"]\n",
    "    X = population.drop(string_cols, axis=1)\n",
    "    if 'Type' in X.columns: X = X.drop('Type', axis=1)\n",
    "    X = pd.concat([X[numerical_col], X[categorical_col]], axis=1)\n",
    "    assert len(Y) == len(X)\n",
    "    X = X.reset_index().drop('index',axis=1)\n",
    "    Y = Y.reset_index().drop('index',axis=1)['AdoptionSpeed']\n",
    "    return X,Y\n",
    "\n",
    "def nb_run(population):\n",
    "    \"\"\"\n",
    "    this validate NB on given population\n",
    "    Args: subset of (rows) of train\n",
    "    Return: score\n",
    "    \"\"\"\n",
    "    X, Y = nb_prepare_data(population)\n",
    "    model = naiveBayesEnsemblePredictiveModel(\"nb_ensemble\")\n",
    "    return model.validation(X, Y, mapping_sizes,method=2,verbose=False)"
   ]
  },
  {
   "cell_type": "code",
   "execution_count": 10,
   "metadata": {},
   "outputs": [
    {
     "name": "stdout",
     "output_type": "stream",
     "text": [
      "Tue Mar 12 17:40:53 2019 [population ensemble.__init__] initialized succesfully\n",
      "Tue Mar 12 17:40:53 2019 [base-gaussianNB.__init__] initialized succesfully\n",
      "Tue Mar 12 17:40:53 2019 [base-multinomialNB-Gender.__init__] initialized succesfully\n",
      "Tue Mar 12 17:40:53 2019 [base-multinomialNB-Vaccinated.__init__] initialized succesfully\n",
      "Tue Mar 12 17:40:53 2019 [base-multinomialNB-Dewormed.__init__] initialized succesfully\n",
      "Tue Mar 12 17:40:53 2019 [base-multinomialNB-Sterilized.__init__] initialized succesfully\n",
      "Tue Mar 12 17:40:53 2019 [base-multinomialNB-Breed1.__init__] initialized succesfully\n",
      "Tue Mar 12 17:40:54 2019 [base-multinomialNB-Breed2.__init__] initialized succesfully\n",
      "Tue Mar 12 17:40:54 2019 [base-multinomialNB-Color1.__init__] initialized succesfully\n",
      "Tue Mar 12 17:40:54 2019 [base-multinomialNB-Color2.__init__] initialized succesfully\n",
      "Tue Mar 12 17:40:54 2019 [base-multinomialNB-Color3.__init__] initialized succesfully\n",
      "Tue Mar 12 17:40:54 2019 [base-multinomialNB-State.__init__] initialized succesfully\n",
      "Tue Mar 12 17:40:54 2019 [base-gaussianNB.__init__] initialized succesfully\n",
      "Tue Mar 12 17:40:54 2019 [base-multinomialNB-Gender.__init__] initialized succesfully\n",
      "Tue Mar 12 17:40:54 2019 [base-multinomialNB-Vaccinated.__init__] initialized succesfully\n",
      "Tue Mar 12 17:40:54 2019 [base-multinomialNB-Dewormed.__init__] initialized succesfully\n",
      "Tue Mar 12 17:40:54 2019 [base-multinomialNB-Sterilized.__init__] initialized succesfully\n",
      "Tue Mar 12 17:40:54 2019 [base-multinomialNB-Breed1.__init__] initialized succesfully\n",
      "Tue Mar 12 17:40:54 2019 [base-multinomialNB-Breed2.__init__] initialized succesfully\n",
      "Tue Mar 12 17:40:54 2019 [base-multinomialNB-Color1.__init__] initialized succesfully\n",
      "Tue Mar 12 17:40:54 2019 [base-multinomialNB-Color2.__init__] initialized succesfully\n",
      "Tue Mar 12 17:40:54 2019 [base-multinomialNB-Color3.__init__] initialized succesfully\n",
      "Tue Mar 12 17:40:54 2019 [base-multinomialNB-State.__init__] initialized succesfully\n",
      "Tue Mar 12 17:40:54 2019 [base-gaussianNB.__init__] initialized succesfully\n",
      "Tue Mar 12 17:40:54 2019 [base-multinomialNB-Gender.__init__] initialized succesfully\n",
      "Tue Mar 12 17:40:54 2019 [base-multinomialNB-Vaccinated.__init__] initialized succesfully\n",
      "Tue Mar 12 17:40:54 2019 [base-multinomialNB-Dewormed.__init__] initialized succesfully\n",
      "Tue Mar 12 17:40:54 2019 [base-multinomialNB-Sterilized.__init__] initialized succesfully\n",
      "Tue Mar 12 17:40:54 2019 [base-multinomialNB-Breed1.__init__] initialized succesfully\n",
      "Tue Mar 12 17:40:54 2019 [base-multinomialNB-Breed2.__init__] initialized succesfully\n",
      "Tue Mar 12 17:40:54 2019 [base-multinomialNB-Color1.__init__] initialized succesfully\n",
      "Tue Mar 12 17:40:54 2019 [base-multinomialNB-Color2.__init__] initialized succesfully\n",
      "Tue Mar 12 17:40:54 2019 [base-multinomialNB-Color3.__init__] initialized succesfully\n",
      "Tue Mar 12 17:40:54 2019 [base-multinomialNB-State.__init__] initialized succesfully\n",
      "Tue Mar 12 17:40:54 2019 [base-gaussianNB.__init__] initialized succesfully\n",
      "Tue Mar 12 17:40:54 2019 [base-multinomialNB-Gender.__init__] initialized succesfully\n",
      "Tue Mar 12 17:40:54 2019 [base-multinomialNB-Vaccinated.__init__] initialized succesfully\n",
      "Tue Mar 12 17:40:54 2019 [base-multinomialNB-Dewormed.__init__] initialized succesfully\n",
      "Tue Mar 12 17:40:54 2019 [base-multinomialNB-Sterilized.__init__] initialized succesfully\n",
      "Tue Mar 12 17:40:54 2019 [base-multinomialNB-Breed1.__init__] initialized succesfully\n",
      "Tue Mar 12 17:40:54 2019 [base-multinomialNB-Breed2.__init__] initialized succesfully\n",
      "Tue Mar 12 17:40:54 2019 [base-multinomialNB-Color1.__init__] initialized succesfully\n",
      "Tue Mar 12 17:40:54 2019 [base-multinomialNB-Color2.__init__] initialized succesfully\n",
      "Tue Mar 12 17:40:54 2019 [base-multinomialNB-Color3.__init__] initialized succesfully\n",
      "Tue Mar 12 17:40:54 2019 [base-multinomialNB-State.__init__] initialized succesfully\n",
      "Tue Mar 12 17:40:54 2019 [base-gaussianNB.__init__] initialized succesfully\n",
      "Tue Mar 12 17:40:54 2019 [base-multinomialNB-Gender.__init__] initialized succesfully\n",
      "Tue Mar 12 17:40:54 2019 [base-multinomialNB-Vaccinated.__init__] initialized succesfully\n",
      "Tue Mar 12 17:40:54 2019 [base-multinomialNB-Dewormed.__init__] initialized succesfully\n",
      "Tue Mar 12 17:40:54 2019 [base-multinomialNB-Sterilized.__init__] initialized succesfully\n",
      "Tue Mar 12 17:40:54 2019 [base-multinomialNB-Breed1.__init__] initialized succesfully\n",
      "Tue Mar 12 17:40:54 2019 [base-multinomialNB-Breed2.__init__] initialized succesfully\n",
      "Tue Mar 12 17:40:54 2019 [base-multinomialNB-Color1.__init__] initialized succesfully\n",
      "Tue Mar 12 17:40:54 2019 [base-multinomialNB-Color2.__init__] initialized succesfully\n",
      "Tue Mar 12 17:40:54 2019 [base-multinomialNB-Color3.__init__] initialized succesfully\n",
      "Tue Mar 12 17:40:54 2019 [base-multinomialNB-State.__init__] initialized succesfully\n",
      "Tue Mar 12 17:40:54 2019 [population ensemble.__init__] initialized succesfully\n",
      "Tue Mar 12 17:40:54 2019 [base-gaussianNB.__init__] initialized succesfully\n",
      "Tue Mar 12 17:40:54 2019 [base-multinomialNB-Gender.__init__] initialized succesfully\n",
      "Tue Mar 12 17:40:54 2019 [base-multinomialNB-Vaccinated.__init__] initialized succesfully\n",
      "Tue Mar 12 17:40:54 2019 [base-multinomialNB-Dewormed.__init__] initialized succesfully\n",
      "Tue Mar 12 17:40:54 2019 [base-multinomialNB-Sterilized.__init__] initialized succesfully\n",
      "Tue Mar 12 17:40:54 2019 [base-multinomialNB-Breed1.__init__] initialized succesfully\n",
      "Tue Mar 12 17:40:55 2019 [base-multinomialNB-Breed2.__init__] initialized succesfully\n",
      "Tue Mar 12 17:40:55 2019 [base-multinomialNB-Color1.__init__] initialized succesfully\n",
      "Tue Mar 12 17:40:55 2019 [base-multinomialNB-Color2.__init__] initialized succesfully\n",
      "Tue Mar 12 17:40:55 2019 [base-multinomialNB-Color3.__init__] initialized succesfully\n",
      "Tue Mar 12 17:40:55 2019 [base-multinomialNB-State.__init__] initialized succesfully\n",
      "Tue Mar 12 17:40:55 2019 [base-gaussianNB.__init__] initialized succesfully\n",
      "Tue Mar 12 17:40:55 2019 [base-multinomialNB-Gender.__init__] initialized succesfully\n",
      "Tue Mar 12 17:40:55 2019 [base-multinomialNB-Vaccinated.__init__] initialized succesfully\n",
      "Tue Mar 12 17:40:55 2019 [base-multinomialNB-Dewormed.__init__] initialized succesfully\n",
      "Tue Mar 12 17:40:55 2019 [base-multinomialNB-Sterilized.__init__] initialized succesfully\n",
      "Tue Mar 12 17:40:55 2019 [base-multinomialNB-Breed1.__init__] initialized succesfully\n",
      "Tue Mar 12 17:40:55 2019 [base-multinomialNB-Breed2.__init__] initialized succesfully\n",
      "Tue Mar 12 17:40:55 2019 [base-multinomialNB-Color1.__init__] initialized succesfully\n",
      "Tue Mar 12 17:40:55 2019 [base-multinomialNB-Color2.__init__] initialized succesfully\n",
      "Tue Mar 12 17:40:55 2019 [base-multinomialNB-Color3.__init__] initialized succesfully\n",
      "Tue Mar 12 17:40:55 2019 [base-multinomialNB-State.__init__] initialized succesfully\n",
      "Tue Mar 12 17:40:55 2019 [base-gaussianNB.__init__] initialized succesfully\n",
      "Tue Mar 12 17:40:55 2019 [base-multinomialNB-Gender.__init__] initialized succesfully\n",
      "Tue Mar 12 17:40:55 2019 [base-multinomialNB-Vaccinated.__init__] initialized succesfully\n",
      "Tue Mar 12 17:40:55 2019 [base-multinomialNB-Dewormed.__init__] initialized succesfully\n",
      "Tue Mar 12 17:40:55 2019 [base-multinomialNB-Sterilized.__init__] initialized succesfully\n",
      "Tue Mar 12 17:40:55 2019 [base-multinomialNB-Breed1.__init__] initialized succesfully\n",
      "Tue Mar 12 17:40:55 2019 [base-multinomialNB-Breed2.__init__] initialized succesfully\n",
      "Tue Mar 12 17:40:55 2019 [base-multinomialNB-Color1.__init__] initialized succesfully\n",
      "Tue Mar 12 17:40:55 2019 [base-multinomialNB-Color2.__init__] initialized succesfully\n",
      "Tue Mar 12 17:40:55 2019 [base-multinomialNB-Color3.__init__] initialized succesfully\n",
      "Tue Mar 12 17:40:55 2019 [base-multinomialNB-State.__init__] initialized succesfully\n",
      "Tue Mar 12 17:40:55 2019 [base-gaussianNB.__init__] initialized succesfully\n",
      "Tue Mar 12 17:40:55 2019 [base-multinomialNB-Gender.__init__] initialized succesfully\n",
      "Tue Mar 12 17:40:55 2019 [base-multinomialNB-Vaccinated.__init__] initialized succesfully\n",
      "Tue Mar 12 17:40:55 2019 [base-multinomialNB-Dewormed.__init__] initialized succesfully\n",
      "Tue Mar 12 17:40:55 2019 [base-multinomialNB-Sterilized.__init__] initialized succesfully\n",
      "Tue Mar 12 17:40:55 2019 [base-multinomialNB-Breed1.__init__] initialized succesfully\n"
     ]
    },
    {
     "name": "stdout",
     "output_type": "stream",
     "text": [
      "Tue Mar 12 17:40:55 2019 [base-multinomialNB-Breed2.__init__] initialized succesfully\n",
      "Tue Mar 12 17:40:55 2019 [base-multinomialNB-Color1.__init__] initialized succesfully\n",
      "Tue Mar 12 17:40:55 2019 [base-multinomialNB-Color2.__init__] initialized succesfully\n",
      "Tue Mar 12 17:40:55 2019 [base-multinomialNB-Color3.__init__] initialized succesfully\n",
      "Tue Mar 12 17:40:55 2019 [base-multinomialNB-State.__init__] initialized succesfully\n",
      "Tue Mar 12 17:40:55 2019 [base-gaussianNB.__init__] initialized succesfully\n",
      "Tue Mar 12 17:40:55 2019 [base-multinomialNB-Gender.__init__] initialized succesfully\n",
      "Tue Mar 12 17:40:55 2019 [base-multinomialNB-Vaccinated.__init__] initialized succesfully\n",
      "Tue Mar 12 17:40:55 2019 [base-multinomialNB-Dewormed.__init__] initialized succesfully\n",
      "Tue Mar 12 17:40:55 2019 [base-multinomialNB-Sterilized.__init__] initialized succesfully\n",
      "Tue Mar 12 17:40:55 2019 [base-multinomialNB-Breed1.__init__] initialized succesfully\n",
      "Tue Mar 12 17:40:55 2019 [base-multinomialNB-Breed2.__init__] initialized succesfully\n",
      "Tue Mar 12 17:40:55 2019 [base-multinomialNB-Color1.__init__] initialized succesfully\n",
      "Tue Mar 12 17:40:55 2019 [base-multinomialNB-Color2.__init__] initialized succesfully\n",
      "Tue Mar 12 17:40:55 2019 [base-multinomialNB-Color3.__init__] initialized succesfully\n",
      "Tue Mar 12 17:40:55 2019 [base-multinomialNB-State.__init__] initialized succesfully\n",
      "Tue Mar 12 17:40:56 2019 [population ensemble.__init__] initialized succesfully\n",
      "Tue Mar 12 17:40:56 2019 [base-gaussianNB.__init__] initialized succesfully\n",
      "Tue Mar 12 17:40:56 2019 [base-multinomialNB-Gender.__init__] initialized succesfully\n",
      "Tue Mar 12 17:40:56 2019 [base-multinomialNB-Vaccinated.__init__] initialized succesfully\n",
      "Tue Mar 12 17:40:56 2019 [base-multinomialNB-Dewormed.__init__] initialized succesfully\n",
      "Tue Mar 12 17:40:56 2019 [base-multinomialNB-Sterilized.__init__] initialized succesfully\n",
      "Tue Mar 12 17:40:56 2019 [base-multinomialNB-Breed1.__init__] initialized succesfully\n",
      "Tue Mar 12 17:40:56 2019 [base-multinomialNB-Breed2.__init__] initialized succesfully\n",
      "Tue Mar 12 17:40:56 2019 [base-multinomialNB-Color1.__init__] initialized succesfully\n",
      "Tue Mar 12 17:40:56 2019 [base-multinomialNB-Color2.__init__] initialized succesfully\n",
      "Tue Mar 12 17:40:56 2019 [base-multinomialNB-Color3.__init__] initialized succesfully\n",
      "Tue Mar 12 17:40:56 2019 [base-multinomialNB-State.__init__] initialized succesfully\n",
      "Tue Mar 12 17:40:56 2019 [base-gaussianNB.__init__] initialized succesfully\n",
      "Tue Mar 12 17:40:56 2019 [base-multinomialNB-Gender.__init__] initialized succesfully\n",
      "Tue Mar 12 17:40:56 2019 [base-multinomialNB-Vaccinated.__init__] initialized succesfully\n",
      "Tue Mar 12 17:40:56 2019 [base-multinomialNB-Dewormed.__init__] initialized succesfully\n",
      "Tue Mar 12 17:40:56 2019 [base-multinomialNB-Sterilized.__init__] initialized succesfully\n",
      "Tue Mar 12 17:40:56 2019 [base-multinomialNB-Breed1.__init__] initialized succesfully\n",
      "Tue Mar 12 17:40:56 2019 [base-multinomialNB-Breed2.__init__] initialized succesfully\n",
      "Tue Mar 12 17:40:56 2019 [base-multinomialNB-Color1.__init__] initialized succesfully\n",
      "Tue Mar 12 17:40:56 2019 [base-multinomialNB-Color2.__init__] initialized succesfully\n",
      "Tue Mar 12 17:40:56 2019 [base-multinomialNB-Color3.__init__] initialized succesfully\n",
      "Tue Mar 12 17:40:56 2019 [base-multinomialNB-State.__init__] initialized succesfully\n",
      "Tue Mar 12 17:40:56 2019 [base-gaussianNB.__init__] initialized succesfully\n",
      "Tue Mar 12 17:40:56 2019 [base-multinomialNB-Gender.__init__] initialized succesfully\n",
      "Tue Mar 12 17:40:56 2019 [base-multinomialNB-Vaccinated.__init__] initialized succesfully\n",
      "Tue Mar 12 17:40:56 2019 [base-multinomialNB-Dewormed.__init__] initialized succesfully\n",
      "Tue Mar 12 17:40:56 2019 [base-multinomialNB-Sterilized.__init__] initialized succesfully\n",
      "Tue Mar 12 17:40:56 2019 [base-multinomialNB-Breed1.__init__] initialized succesfully\n",
      "Tue Mar 12 17:40:56 2019 [base-multinomialNB-Breed2.__init__] initialized succesfully\n",
      "Tue Mar 12 17:40:56 2019 [base-multinomialNB-Color1.__init__] initialized succesfully\n",
      "Tue Mar 12 17:40:56 2019 [base-multinomialNB-Color2.__init__] initialized succesfully\n",
      "Tue Mar 12 17:40:57 2019 [base-multinomialNB-Color3.__init__] initialized succesfully\n",
      "Tue Mar 12 17:40:57 2019 [base-multinomialNB-State.__init__] initialized succesfully\n",
      "Tue Mar 12 17:40:57 2019 [base-gaussianNB.__init__] initialized succesfully\n",
      "Tue Mar 12 17:40:57 2019 [base-multinomialNB-Gender.__init__] initialized succesfully\n",
      "Tue Mar 12 17:40:57 2019 [base-multinomialNB-Vaccinated.__init__] initialized succesfully\n",
      "Tue Mar 12 17:40:57 2019 [base-multinomialNB-Dewormed.__init__] initialized succesfully\n",
      "Tue Mar 12 17:40:57 2019 [base-multinomialNB-Sterilized.__init__] initialized succesfully\n",
      "Tue Mar 12 17:40:57 2019 [base-multinomialNB-Breed1.__init__] initialized succesfully\n",
      "Tue Mar 12 17:40:57 2019 [base-multinomialNB-Breed2.__init__] initialized succesfully\n",
      "Tue Mar 12 17:40:57 2019 [base-multinomialNB-Color1.__init__] initialized succesfully\n",
      "Tue Mar 12 17:40:57 2019 [base-multinomialNB-Color2.__init__] initialized succesfully\n",
      "Tue Mar 12 17:40:57 2019 [base-multinomialNB-Color3.__init__] initialized succesfully\n",
      "Tue Mar 12 17:40:57 2019 [base-multinomialNB-State.__init__] initialized succesfully\n",
      "Tue Mar 12 17:40:57 2019 [base-gaussianNB.__init__] initialized succesfully\n",
      "Tue Mar 12 17:40:57 2019 [base-multinomialNB-Gender.__init__] initialized succesfully\n",
      "Tue Mar 12 17:40:57 2019 [base-multinomialNB-Vaccinated.__init__] initialized succesfully\n",
      "Tue Mar 12 17:40:57 2019 [base-multinomialNB-Dewormed.__init__] initialized succesfully\n",
      "Tue Mar 12 17:40:57 2019 [base-multinomialNB-Sterilized.__init__] initialized succesfully\n",
      "Tue Mar 12 17:40:57 2019 [base-multinomialNB-Breed1.__init__] initialized succesfully\n",
      "Tue Mar 12 17:40:57 2019 [base-multinomialNB-Breed2.__init__] initialized succesfully\n",
      "Tue Mar 12 17:40:57 2019 [base-multinomialNB-Color1.__init__] initialized succesfully\n",
      "Tue Mar 12 17:40:57 2019 [base-multinomialNB-Color2.__init__] initialized succesfully\n",
      "Tue Mar 12 17:40:58 2019 [base-multinomialNB-Color3.__init__] initialized succesfully\n",
      "Tue Mar 12 17:40:58 2019 [base-multinomialNB-State.__init__] initialized succesfully\n"
     ]
    }
   ],
   "source": [
    "nb_cats_score, nb_dogs_score, nb_score = nb_run(cats), nb_run(dogs), nb_run(train)"
   ]
  },
  {
   "cell_type": "code",
   "execution_count": 11,
   "metadata": {},
   "outputs": [
    {
     "data": {
      "text/plain": [
       "(0.10249266591170247, 0.07302337571953729, 0.09725712493547019)"
      ]
     },
     "execution_count": 11,
     "metadata": {},
     "output_type": "execute_result"
    }
   ],
   "source": [
    "nb_cats_score, nb_dogs_score, nb_score"
   ]
  },
  {
   "cell_type": "markdown",
   "metadata": {},
   "source": [
    "<h1>KNN MODEL"
   ]
  },
  {
   "cell_type": "code",
   "execution_count": 12,
   "metadata": {},
   "outputs": [],
   "source": [
    "from KNN.knnModel import PredictiveModel as knnPredictiveModel"
   ]
  },
  {
   "cell_type": "code",
   "execution_count": 13,
   "metadata": {},
   "outputs": [],
   "source": [
    "def knn_prepare_data(population):\n",
    "    \"\"\"\n",
    "    this prepare data to be fed inside a KNN\n",
    "    Args: subset of (rows) of train\n",
    "    Return: X,Y\n",
    "    \"\"\"\n",
    "    to_drop = [\"Unnamed: 0\", \"dataset_type\", \"Name\", \"RescuerID\", \"Description\",\"PetID\"]\n",
    "\n",
    "    X = population.drop([\"AdoptionSpeed\"] + to_drop , axis=1)\n",
    "    if 'Type' in X.columns: X = X.drop('Type', axis=1)\n",
    "    Y = population['AdoptionSpeed']\n",
    "    X = X.reset_index().drop('index',axis=1)\n",
    "    Y = Y.reset_index().drop('index',axis=1)['AdoptionSpeed']\n",
    "    return X,Y\n",
    "\n",
    "def knn_run(population):\n",
    "    \"\"\"\n",
    "    this validate KNN on given population\n",
    "    Args: subset of (rows) of train\n",
    "    Return: score\n",
    "    \"\"\"\n",
    "    X,Y = knn_prepare_data(population)\n",
    "    model = knnPredictiveModel(\"knn\", 100)\n",
    "    return model.validation(X, Y, method=2, verbose=False)"
   ]
  },
  {
   "cell_type": "code",
   "execution_count": 14,
   "metadata": {},
   "outputs": [
    {
     "name": "stdout",
     "output_type": "stream",
     "text": [
      "Tue Mar 12 17:41:10 2019 [population.__init__] initialized succesfully\n",
      "Tue Mar 12 17:41:11 2019 [population.__init__] initialized succesfully\n",
      "Tue Mar 12 17:41:12 2019 [population.__init__] initialized succesfully\n"
     ]
    }
   ],
   "source": [
    "knn_cats_score, knn_dogs_score, knn_score = knn_run(cats),  knn_run(dogs), knn_run(train)"
   ]
  },
  {
   "cell_type": "code",
   "execution_count": 15,
   "metadata": {},
   "outputs": [
    {
     "data": {
      "text/plain": [
       "(0.09096981002714544, 0.1613138501198026, 0.13284790158193424)"
      ]
     },
     "execution_count": 15,
     "metadata": {},
     "output_type": "execute_result"
    }
   ],
   "source": [
    "knn_cats_score, knn_dogs_score, knn_score"
   ]
  },
  {
   "cell_type": "markdown",
   "metadata": {},
   "source": [
    "<h1>Prediction analysis"
   ]
  },
  {
   "cell_type": "code",
   "execution_count": 19,
   "metadata": {},
   "outputs": [],
   "source": [
    "split = int(len(train)*0.8)\n",
    "train_X, train_Y = train[:split],   train[:split]['AdoptionSpeed']\n",
    "test_X,  test_Y  = train[split+1:], train[split+1:]['AdoptionSpeed']"
   ]
  },
  {
   "cell_type": "code",
   "execution_count": 41,
   "metadata": {},
   "outputs": [
    {
     "name": "stdout",
     "output_type": "stream",
     "text": [
      "Tue Mar 12 17:52:44 2019 [knn_proba.__init__] initialized succesfully\n"
     ]
    }
   ],
   "source": [
    "#knn\n",
    "X, Y = knn_prepare_data(train_X)\n",
    "model = knnPredictiveModel(\"knn_proba\", 100)\n",
    "model.train(X, Y)\n",
    "test, labels = knn_prepare_data(test_X)\n",
    "knn_proba = model.predict(test, probability=True)\n",
    "knn_labels = model.predict(test, probability=False)"
   ]
  },
  {
   "cell_type": "code",
   "execution_count": 42,
   "metadata": {},
   "outputs": [
    {
     "name": "stdout",
     "output_type": "stream",
     "text": [
      "Tue Mar 12 17:52:45 2019 [nb_proba.__init__] initialized succesfully\n",
      "Tue Mar 12 17:52:45 2019 [base-gaussianNB.__init__] initialized succesfully\n",
      "Tue Mar 12 17:52:45 2019 [base-multinomialNB-Gender.__init__] initialized succesfully\n",
      "Tue Mar 12 17:52:45 2019 [base-multinomialNB-Vaccinated.__init__] initialized succesfully\n",
      "Tue Mar 12 17:52:45 2019 [base-multinomialNB-Dewormed.__init__] initialized succesfully\n",
      "Tue Mar 12 17:52:45 2019 [base-multinomialNB-Sterilized.__init__] initialized succesfully\n",
      "Tue Mar 12 17:52:45 2019 [base-multinomialNB-Breed1.__init__] initialized succesfully\n",
      "Tue Mar 12 17:52:46 2019 [base-multinomialNB-Breed2.__init__] initialized succesfully\n",
      "Tue Mar 12 17:52:46 2019 [base-multinomialNB-Color1.__init__] initialized succesfully\n",
      "Tue Mar 12 17:52:46 2019 [base-multinomialNB-Color2.__init__] initialized succesfully\n",
      "Tue Mar 12 17:52:46 2019 [base-multinomialNB-Color3.__init__] initialized succesfully\n",
      "Tue Mar 12 17:52:46 2019 [base-multinomialNB-State.__init__] initialized succesfully\n"
     ]
    }
   ],
   "source": [
    "#NB\n",
    "X, Y = nb_prepare_data(train_X)\n",
    "model = naiveBayesEnsemblePredictiveModel(\"nb_proba\")\n",
    "model.train(X, Y,mapping_sizes,verbose=False)\n",
    "test, labels = nb_prepare_data(test_X)\n",
    "nb_proba = model.predict(test, probability=True)\n",
    "nb_labels = model.predict(test, probability=False)"
   ]
  },
  {
   "cell_type": "code",
   "execution_count": 43,
   "metadata": {},
   "outputs": [
    {
     "data": {
      "text/plain": [
       "array([4, 1, 2, ..., 2, 2, 3])"
      ]
     },
     "execution_count": 43,
     "metadata": {},
     "output_type": "execute_result"
    }
   ],
   "source": [
    "knn_labels"
   ]
  },
  {
   "cell_type": "code",
   "execution_count": 44,
   "metadata": {},
   "outputs": [
    {
     "data": {
      "text/plain": [
       "array([2, 2, 2, ..., 4, 4, 2])"
      ]
     },
     "execution_count": 44,
     "metadata": {},
     "output_type": "execute_result"
    }
   ],
   "source": [
    "nb_labels"
   ]
  },
  {
   "cell_type": "code",
   "execution_count": 54,
   "metadata": {},
   "outputs": [
    {
     "data": {
      "text/plain": [
       "array([1682, 1316])"
      ]
     },
     "execution_count": 54,
     "metadata": {},
     "output_type": "execute_result"
    }
   ],
   "source": [
    "np.bincount(nb_labels == knn_labels)"
   ]
  },
  {
   "cell_type": "code",
   "execution_count": null,
   "metadata": {},
   "outputs": [],
   "source": []
  }
 ],
 "metadata": {
  "kernelspec": {
   "display_name": "Python 3",
   "language": "python",
   "name": "python3"
  },
  "language_info": {
   "codemirror_mode": {
    "name": "ipython",
    "version": 3
   },
   "file_extension": ".py",
   "mimetype": "text/x-python",
   "name": "python",
   "nbconvert_exporter": "python",
   "pygments_lexer": "ipython3",
   "version": "3.6.5"
  }
 },
 "nbformat": 4,
 "nbformat_minor": 2
}
