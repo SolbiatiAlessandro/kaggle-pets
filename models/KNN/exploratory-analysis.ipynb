{
 "cells": [
  {
   "cell_type": "markdown",
   "metadata": {},
   "source": [
    "<h1>kNN model on kaggle-pet competition</h1>"
   ]
  },
  {
   "cell_type": "markdown",
   "metadata": {},
   "source": [
    "we are following Stanford CS231n, and trying to apply their assignements to this competition."
   ]
  },
  {
   "cell_type": "markdown",
   "metadata": {},
   "source": [
    "CS231N: http://cs231n.github.io/assignments2018/assignment1/\n",
    "<p>sci-kit knn: https://scikit-learn.org/stable/modules/neighbors.html"
   ]
  },
  {
   "cell_type": "markdown",
   "metadata": {},
   "source": [
    "Main differences between assignment and this notebook:\n",
    "    - we will be using sci-kit implementation of knn and not written by us\n",
    "    "
   ]
  },
  {
   "cell_type": "markdown",
   "metadata": {},
   "source": [
    "<h1>DATA LOADING"
   ]
  },
  {
   "cell_type": "code",
   "execution_count": 1,
   "metadata": {},
   "outputs": [],
   "source": [
    "import pandas as pd\n",
    "import numpy as np"
   ]
  },
  {
   "cell_type": "code",
   "execution_count": 2,
   "metadata": {},
   "outputs": [],
   "source": [
    "import os\n",
    "os.listdir('../../data')\n",
    "assert 'out_breed.csv' in os.listdir('../../data') # this assert breaks if the data is configured uncorrectly"
   ]
  },
  {
   "cell_type": "code",
   "execution_count": 3,
   "metadata": {},
   "outputs": [],
   "source": [
    "breeds = pd.read_csv('../../data/out_breed.csv')\n",
    "colors = pd.read_csv('../../data/out_color.csv')\n",
    "states = pd.read_csv('../../data/out_state.csv')\n",
    "train  = pd.read_csv('../../data/out_train.csv')\n",
    "test   = pd.read_csv('../../data/out_test.csv')\n",
    "sub    = pd.read_csv('../../data/out_submission.csv')"
   ]
  },
  {
   "cell_type": "markdown",
   "metadata": {},
   "source": [
    "<h1>MODEL</h1>"
   ]
  },
  {
   "cell_type": "code",
   "execution_count": 4,
   "metadata": {},
   "outputs": [],
   "source": [
    "from knnModel import PredictiveModel"
   ]
  },
  {
   "cell_type": "markdown",
   "metadata": {},
   "source": [
    "<h1>EXAMPLE USAGE</h1>"
   ]
  },
  {
   "cell_type": "code",
   "execution_count": 5,
   "metadata": {},
   "outputs": [],
   "source": [
    "\"\"\"\n",
    "this is a really primitive data cleaning to make KNN works: we drop the followings\n",
    "- AdoptionSpeed, is target\n",
    "- Unnamed:0, dataset_type, is useless\n",
    "- Name, RescuerId, Description, PhotoAmt, VideoAmt, PetID: this are all strings valued not able to be processed by KNN\n",
    "\"\"\"\n",
    "non_numerical_cols = [\"Unnamed: 0\", \"dataset_type\", \"Name\", \"RescuerID\", \"Description\", \"PhotoAmt\",\"VideoAmt\",\"PetID\"]\n",
    "X = train.drop([\"AdoptionSpeed\"] + non_numerical_cols, axis=1)\n",
    "X_test = test.drop(non_numerical_cols, axis=1)\n",
    "\n",
    "\"\"\"\n",
    "Y is our target value, Adoption Speed can be a value [1,2,3,4]\n",
    "\"\"\"\n",
    "Y = train['AdoptionSpeed']\n",
    "\n",
    "assert X.shape[0] == Y.shape[0]"
   ]
  },
  {
   "cell_type": "code",
   "execution_count": 6,
   "metadata": {},
   "outputs": [
    {
     "name": "stdout",
     "output_type": "stream",
     "text": [
      "Sat Mar  2 00:39:37 2019 [example_usage_model.__init__] initialized succesfully\n"
     ]
    }
   ],
   "source": [
    "model = PredictiveModel(\"example_usage_model\")\n",
    "model.train(X, Y)\n",
    "predictions = model.predict(X_test)\n",
    "assert len(predictions)"
   ]
  },
  {
   "cell_type": "markdown",
   "metadata": {},
   "source": [
    "<h1>VALIDATION"
   ]
  },
  {
   "cell_type": "code",
   "execution_count": 7,
   "metadata": {},
   "outputs": [],
   "source": [
    "dogs = train[train.Type == 1]\n",
    "cats = train[train.Type == 2]"
   ]
  },
  {
   "cell_type": "code",
   "execution_count": 8,
   "metadata": {},
   "outputs": [],
   "source": [
    "X = train.drop([\"AdoptionSpeed\", \"Unnamed: 0\", \"dataset_type\", \"Name\", \"RescuerID\", \"Description\", \"PhotoAmt\",\"VideoAmt\",\"PetID\"], axis=1)\n",
    "\"\"\"\n",
    "Y is our target value, Adoption Speed can be a value [1,2,3,4]\n",
    "\"\"\"\n",
    "Y = train['AdoptionSpeed']\n",
    "\n",
    "assert X.shape[0] == Y.shape[0]"
   ]
  },
  {
   "cell_type": "code",
   "execution_count": 9,
   "metadata": {},
   "outputs": [],
   "source": [
    "\"\"\"\n",
    "Data Fields\n",
    "PetID - Unique hash ID of pet profile\n",
    "AdoptionSpeed - Categorical speed of adoption. Lower is faster. This is the value to predict. See below section for more info.\n",
    "Type - Type of animal (1 = Dog, 2 = Cat)\n",
    "Name - Name of pet (Empty if not named)\n",
    "Age - Age of pet when listed, in months\n",
    "Breed1 - Primary breed of pet (Refer to BreedLabels dictionary)\n",
    "Breed2 - Secondary breed of pet, if pet is of mixed breed (Refer to BreedLabels dictionary)\n",
    "Gender - Gender of pet (1 = Male, 2 = Female, 3 = Mixed, if profile represents group of pets)\n",
    "Color1 - Color 1 of pet (Refer to ColorLabels dictionary)\n",
    "Color2 - Color 2 of pet (Refer to ColorLabels dictionary)\n",
    "Color3 - Color 3 of pet (Refer to ColorLabels dictionary)\n",
    "MaturitySize - Size at maturity (1 = Small, 2 = Medium, 3 = Large, 4 = Extra Large, 0 = Not Specified)\n",
    "FurLength - Fur length (1 = Short, 2 = Medium, 3 = Long, 0 = Not Specified)\n",
    "Vaccinated - Pet has been vaccinated (1 = Yes, 2 = No, 3 = Not Sure)\n",
    "Dewormed - Pet has been dewormed (1 = Yes, 2 = No, 3 = Not Sure)\n",
    "Sterilized - Pet has been spayed / neutered (1 = Yes, 2 = No, 3 = Not Sure)\n",
    "Health - Health Condition (1 = Healthy, 2 = Minor Injury, 3 = Serious Injury, 0 = Not Specified)\n",
    "Quantity - Number of pets represented in profile\n",
    "Fee - Adoption fee (0 = Free)\n",
    "State - State location in Malaysia (Refer to StateLabels dictionary)\n",
    "RescuerID - Unique hash ID of rescuer\n",
    "VideoAmt - Total uploaded videos for this pet\n",
    "PhotoAmt - Total uploaded photos for this pet\n",
    "Description - Profile write-up for this pet. The primary language used is English, with some in Malay or Chinese.\n",
    "\"\"\"\n",
    "pass"
   ]
  },
  {
   "cell_type": "code",
   "execution_count": 10,
   "metadata": {},
   "outputs": [
    {
     "data": {
      "text/plain": [
       "Index(['Age', 'MaturitySize', 'FurLength', 'Health', 'Quantity', 'Fee'], dtype='object')"
      ]
     },
     "execution_count": 10,
     "metadata": {},
     "output_type": "execute_result"
    }
   ],
   "source": [
    "categorical_col = [\"Type\",\"Gender\",\"Vaccinated\",\"Dewormed\",\"Sterilized\",\"Breed1\",\"Breed2\",\"Color1\",\"Color2\",\"Color3\",\"State\"]\n",
    "X.drop(categorical_col, axis=1).columns\n",
    "#X = X.drop(categorical_col, axis=1)"
   ]
  },
  {
   "cell_type": "code",
   "execution_count": 30,
   "metadata": {},
   "outputs": [
    {
     "name": "stdout",
     "output_type": "stream",
     "text": [
      "Index(['Type', 'Age', 'Breed1', 'Breed2', 'Gender', 'Color1', 'Color2',\n",
      "       'Color3', 'MaturitySize', 'FurLength', 'Vaccinated', 'Dewormed',\n",
      "       'Sterilized', 'Health', 'Quantity', 'Fee', 'State'],\n",
      "      dtype='object')\n"
     ]
    }
   ],
   "source": [
    "cols = X.columns\n",
    "print(cols)"
   ]
  },
  {
   "cell_type": "code",
   "execution_count": 13,
   "metadata": {},
   "outputs": [
    {
     "data": {
      "text/plain": [
       "289"
      ]
     },
     "execution_count": 13,
     "metadata": {},
     "output_type": "execute_result"
    }
   ],
   "source": [
    "17*17"
   ]
  },
  {
   "cell_type": "code",
   "execution_count": 17,
   "metadata": {},
   "outputs": [],
   "source": [
    "def subsets(i):\n",
    "    if i == -1:\n",
    "        return [[]]\n",
    "    else:\n",
    "        res = []\n",
    "        for subset in subsets(i - 1):\n",
    "            res.append(subset + [cols[i]])\n",
    "            res.append(subset)\n",
    "        return res"
   ]
  },
  {
   "cell_type": "code",
   "execution_count": 58,
   "metadata": {},
   "outputs": [],
   "source": [
    "def twosets():\n",
    "    res = set([(col, '*') for col in cols])\n",
    "    for i, col in enumerate(cols):\n",
    "        for j, ccol in enumerate(cols):\n",
    "            if i!=j:\n",
    "                res.add(tuple(sorted([col, ccol])))\n",
    "    return [list(e) for e in res]"
   ]
  },
  {
   "cell_type": "code",
   "execution_count": 59,
   "metadata": {},
   "outputs": [],
   "source": [
    "selected_cols = twosets()"
   ]
  },
  {
   "cell_type": "code",
   "execution_count": 66,
   "metadata": {},
   "outputs": [
    {
     "name": "stdout",
     "output_type": "stream",
     "text": [
      "0\n",
      "Sat Mar  2 01:01:25 2019 [validation_model_Color1_Health.__init__] initialized succesfully\n",
      "0.002410221051921213\n",
      "Sat Mar  2 01:01:26 2019 [validation_model_State_Sterilized.__init__] initialized succesfully\n",
      "Sat Mar  2 01:01:27 2019 [validation_model_Breed1_Sterilized.__init__] initialized succesfully\n",
      "Sat Mar  2 01:01:29 2019 [validation_model_Breed1_Health.__init__] initialized succesfully\n",
      "Sat Mar  2 01:01:30 2019 [validation_model_Fee_Vaccinated.__init__] initialized succesfully\n",
      "Sat Mar  2 01:01:31 2019 [validation_model_Age_Fee.__init__] initialized succesfully\n",
      "Sat Mar  2 01:01:32 2019 [validation_model_Color3_FurLength.__init__] initialized succesfully\n",
      "Sat Mar  2 01:01:34 2019 [validation_model_Sterilized_Type.__init__] initialized succesfully\n",
      "Sat Mar  2 01:01:35 2019 [validation_model_Age_MaturitySize.__init__] initialized succesfully\n",
      "Sat Mar  2 01:01:36 2019 [validation_model_Breed2_Sterilized.__init__] initialized succesfully\n",
      "Sat Mar  2 01:01:37 2019 [validation_model_Color2_Quantity.__init__] initialized succesfully\n",
      "Sat Mar  2 01:01:39 2019 [validation_model_Color3_Fee.__init__] initialized succesfully\n",
      "Sat Mar  2 01:01:40 2019 [validation_model_FurLength_Health.__init__] initialized succesfully\n",
      "Sat Mar  2 01:01:41 2019 [validation_model_Dewormed_MaturitySize.__init__] initialized succesfully\n",
      "Sat Mar  2 01:01:42 2019 [validation_model_Dewormed_Quantity.__init__] initialized succesfully\n",
      "Sat Mar  2 01:01:44 2019 [validation_model_MaturitySize_Sterilized.__init__] initialized succesfully\n",
      "Sat Mar  2 01:01:45 2019 [validation_model_Color2_Health.__init__] initialized succesfully\n",
      "Sat Mar  2 01:01:46 2019 [validation_model_Color1_Color3.__init__] initialized succesfully\n",
      "Sat Mar  2 01:01:47 2019 [validation_model_Breed1_Color3.__init__] initialized succesfully\n",
      "Sat Mar  2 01:01:48 2019 [validation_model_Age_Breed1.__init__] initialized succesfully\n",
      "Sat Mar  2 01:01:50 2019 [validation_model_Breed2_FurLength.__init__] initialized succesfully\n",
      "Sat Mar  2 01:01:51 2019 [validation_model_Breed2_*.__init__] initialized succesfully\n",
      "Sat Mar  2 01:01:52 2019 [validation_model_Breed2_State.__init__] initialized succesfully\n",
      "Sat Mar  2 01:01:53 2019 [validation_model_Sterilized_*.__init__] initialized succesfully\n",
      "Sat Mar  2 01:01:55 2019 [validation_model_Breed1_Dewormed.__init__] initialized succesfully\n",
      "Sat Mar  2 01:01:56 2019 [validation_model_Sterilized_Vaccinated.__init__] initialized succesfully\n",
      "Sat Mar  2 01:01:57 2019 [validation_model_Fee_Type.__init__] initialized succesfully\n",
      "Sat Mar  2 01:01:58 2019 [validation_model_Age_FurLength.__init__] initialized succesfully\n",
      "Sat Mar  2 01:02:00 2019 [validation_model_Color3_Gender.__init__] initialized succesfully\n",
      "Sat Mar  2 01:02:01 2019 [validation_model_Gender_State.__init__] initialized succesfully\n",
      "30\n",
      "Sat Mar  2 01:02:02 2019 [validation_model_Gender_*.__init__] initialized succesfully\n",
      "Sat Mar  2 01:02:03 2019 [validation_model_FurLength_Gender.__init__] initialized succesfully\n",
      "Sat Mar  2 01:02:05 2019 [validation_model_Color2_Color3.__init__] initialized succesfully\n",
      "Sat Mar  2 01:02:06 2019 [validation_model_State_*.__init__] initialized succesfully\n",
      "Sat Mar  2 01:02:07 2019 [validation_model_Color2_Dewormed.__init__] initialized succesfully\n",
      "Sat Mar  2 01:02:08 2019 [validation_model_Dewormed_Type.__init__] initialized succesfully\n",
      "Sat Mar  2 01:02:09 2019 [validation_model_Fee_MaturitySize.__init__] initialized succesfully\n",
      "Sat Mar  2 01:02:11 2019 [validation_model_Age_Health.__init__] initialized succesfully\n",
      "Sat Mar  2 01:02:12 2019 [validation_model_FurLength_MaturitySize.__init__] initialized succesfully\n",
      "Sat Mar  2 01:02:13 2019 [validation_model_FurLength_State.__init__] initialized succesfully\n",
      "Sat Mar  2 01:02:14 2019 [validation_model_Gender_Sterilized.__init__] initialized succesfully\n",
      "Sat Mar  2 01:02:15 2019 [validation_model_Color1_FurLength.__init__] initialized succesfully\n",
      "Sat Mar  2 01:02:17 2019 [validation_model_Dewormed_Fee.__init__] initialized succesfully\n",
      "Sat Mar  2 01:02:18 2019 [validation_model_Breed1_Breed2.__init__] initialized succesfully\n",
      "Sat Mar  2 01:02:19 2019 [validation_model_Color3_Health.__init__] initialized succesfully\n",
      "Sat Mar  2 01:02:20 2019 [validation_model_Color2_Fee.__init__] initialized succesfully\n",
      "Sat Mar  2 01:02:21 2019 [validation_model_State_Type.__init__] initialized succesfully\n",
      "Sat Mar  2 01:02:23 2019 [validation_model_Gender_MaturitySize.__init__] initialized succesfully\n",
      "Sat Mar  2 01:02:24 2019 [validation_model_Gender_Quantity.__init__] initialized succesfully\n",
      "Sat Mar  2 01:02:25 2019 [validation_model_Health_Vaccinated.__init__] initialized succesfully\n",
      "Sat Mar  2 01:02:26 2019 [validation_model_Age_Color3.__init__] initialized succesfully\n",
      "Sat Mar  2 01:02:28 2019 [validation_model_Color1_Color2.__init__] initialized succesfully\n",
      "Sat Mar  2 01:02:29 2019 [validation_model_Breed2_Vaccinated.__init__] initialized succesfully\n",
      "Sat Mar  2 01:02:30 2019 [validation_model_Fee_Sterilized.__init__] initialized succesfully\n",
      "Sat Mar  2 01:02:31 2019 [validation_model_Color3_Vaccinated.__init__] initialized succesfully\n",
      "Sat Mar  2 01:02:32 2019 [validation_model_Age_Gender.__init__] initialized succesfully\n",
      "Sat Mar  2 01:02:34 2019 [validation_model_Breed2_Color2.__init__] initialized succesfully\n",
      "Sat Mar  2 01:02:35 2019 [validation_model_Fee_State.__init__] initialized succesfully\n",
      "Sat Mar  2 01:02:36 2019 [validation_model_Color2_Vaccinated.__init__] initialized succesfully\n",
      "Sat Mar  2 01:02:37 2019 [validation_model_Dewormed_Gender.__init__] initialized succesfully\n",
      "60\n",
      "Sat Mar  2 01:02:38 2019 [validation_model_Color1_MaturitySize.__init__] initialized succesfully\n",
      "Sat Mar  2 01:02:40 2019 [validation_model_Breed2_Gender.__init__] initialized succesfully\n",
      "Sat Mar  2 01:02:41 2019 [validation_model_MaturitySize_Type.__init__] initialized succesfully\n",
      "Sat Mar  2 01:02:42 2019 [validation_model_Color3_Dewormed.__init__] initialized succesfully\n",
      "Sat Mar  2 01:02:43 2019 [validation_model_Age_*.__init__] initialized succesfully\n",
      "Sat Mar  2 01:02:45 2019 [validation_model_Dewormed_State.__init__] initialized succesfully\n",
      "Sat Mar  2 01:02:46 2019 [validation_model_Breed1_*.__init__] initialized succesfully\n",
      "Sat Mar  2 01:02:47 2019 [validation_model_Dewormed_FurLength.__init__] initialized succesfully\n",
      "Sat Mar  2 01:02:48 2019 [validation_model_Breed2_Color3.__init__] initialized succesfully\n",
      "Sat Mar  2 01:02:50 2019 [validation_model_Type_Vaccinated.__init__] initialized succesfully\n",
      "Sat Mar  2 01:02:51 2019 [validation_model_Breed1_Vaccinated.__init__] initialized succesfully\n",
      "Sat Mar  2 01:02:52 2019 [validation_model_Age_Vaccinated.__init__] initialized succesfully\n",
      "Sat Mar  2 01:02:54 2019 [validation_model_Color2_State.__init__] initialized succesfully\n",
      "Sat Mar  2 01:02:55 2019 [validation_model_Gender_Type.__init__] initialized succesfully\n",
      "Sat Mar  2 01:02:57 2019 [validation_model_Quantity_Type.__init__] initialized succesfully\n",
      "Sat Mar  2 01:02:58 2019 [validation_model_Age_Quantity.__init__] initialized succesfully\n",
      "Sat Mar  2 01:02:59 2019 [validation_model_Breed2_Color1.__init__] initialized succesfully\n",
      "Sat Mar  2 01:03:00 2019 [validation_model_Color2_Sterilized.__init__] initialized succesfully\n",
      "Sat Mar  2 01:03:01 2019 [validation_model_Color2_MaturitySize.__init__] initialized succesfully\n",
      "Sat Mar  2 01:03:03 2019 [validation_model_Color1_Type.__init__] initialized succesfully\n",
      "Sat Mar  2 01:03:04 2019 [validation_model_Dewormed_Sterilized.__init__] initialized succesfully\n",
      "Sat Mar  2 01:03:07 2019 [validation_model_MaturitySize_*.__init__] initialized succesfully\n",
      "Sat Mar  2 01:03:09 2019 [validation_model_Dewormed_Health.__init__] initialized succesfully\n",
      "Sat Mar  2 01:03:10 2019 [validation_model_Breed2_Fee.__init__] initialized succesfully\n",
      "Sat Mar  2 01:03:12 2019 [validation_model_Breed2_Health.__init__] initialized succesfully\n",
      "Sat Mar  2 01:03:13 2019 [validation_model_FurLength_Type.__init__] initialized succesfully\n",
      "Sat Mar  2 01:03:14 2019 [validation_model_Age_Sterilized.__init__] initialized succesfully\n",
      "Sat Mar  2 01:03:15 2019 [validation_model_Fee_Gender.__init__] initialized succesfully\n",
      "Sat Mar  2 01:03:17 2019 [validation_model_Age_State.__init__] initialized succesfully\n"
     ]
    },
    {
     "name": "stdout",
     "output_type": "stream",
     "text": [
      "Sat Mar  2 01:03:18 2019 [validation_model_Quantity_Sterilized.__init__] initialized succesfully\n",
      "90\n",
      "Sat Mar  2 01:03:20 2019 [validation_model_Health_*.__init__] initialized succesfully\n",
      "Sat Mar  2 01:03:21 2019 [validation_model_Vaccinated_*.__init__] initialized succesfully\n",
      "Sat Mar  2 01:03:22 2019 [validation_model_Breed1_MaturitySize.__init__] initialized succesfully\n",
      "Sat Mar  2 01:03:23 2019 [validation_model_Health_State.__init__] initialized succesfully\n",
      "Sat Mar  2 01:03:25 2019 [validation_model_Color1_Sterilized.__init__] initialized succesfully\n",
      "Sat Mar  2 01:03:26 2019 [validation_model_Breed1_Color1.__init__] initialized succesfully\n",
      "Sat Mar  2 01:03:27 2019 [validation_model_Quantity_*.__init__] initialized succesfully\n",
      "Sat Mar  2 01:03:28 2019 [validation_model_Breed1_Quantity.__init__] initialized succesfully\n",
      "Sat Mar  2 01:03:30 2019 [validation_model_Color1_*.__init__] initialized succesfully\n",
      "Sat Mar  2 01:03:31 2019 [validation_model_Fee_FurLength.__init__] initialized succesfully\n",
      "Sat Mar  2 01:03:33 2019 [validation_model_Age_Dewormed.__init__] initialized succesfully\n",
      "Sat Mar  2 01:03:34 2019 [validation_model_Type_*.__init__] initialized succesfully\n",
      "Sat Mar  2 01:03:35 2019 [validation_model_MaturitySize_State.__init__] initialized succesfully\n",
      "Sat Mar  2 01:03:36 2019 [validation_model_Color1_Dewormed.__init__] initialized succesfully\n",
      "Sat Mar  2 01:03:38 2019 [validation_model_Color1_Quantity.__init__] initialized succesfully\n",
      "Sat Mar  2 01:03:39 2019 [validation_model_FurLength_Vaccinated.__init__] initialized succesfully\n",
      "Sat Mar  2 01:03:40 2019 [validation_model_Health_Sterilized.__init__] initialized succesfully\n",
      "Sat Mar  2 01:03:42 2019 [validation_model_FurLength_*.__init__] initialized succesfully\n",
      "Sat Mar  2 01:03:43 2019 [validation_model_Quantity_State.__init__] initialized succesfully\n",
      "Sat Mar  2 01:03:44 2019 [validation_model_Color1_State.__init__] initialized succesfully\n",
      "Sat Mar  2 01:03:46 2019 [validation_model_Color3_State.__init__] initialized succesfully\n",
      "Sat Mar  2 01:03:47 2019 [validation_model_MaturitySize_Quantity.__init__] initialized succesfully\n",
      "Sat Mar  2 01:03:49 2019 [validation_model_Color3_MaturitySize.__init__] initialized succesfully\n",
      "Sat Mar  2 01:03:50 2019 [validation_model_Breed2_Dewormed.__init__] initialized succesfully\n",
      "Sat Mar  2 01:03:51 2019 [validation_model_Color3_Quantity.__init__] initialized succesfully\n",
      "Sat Mar  2 01:03:53 2019 [validation_model_Fee_Health.__init__] initialized succesfully\n",
      "Sat Mar  2 01:03:54 2019 [validation_model_Age_Color2.__init__] initialized succesfully\n",
      "Sat Mar  2 01:03:55 2019 [validation_model_Breed1_Color2.__init__] initialized succesfully\n",
      "Sat Mar  2 01:03:56 2019 [validation_model_Color1_Vaccinated.__init__] initialized succesfully\n",
      "Sat Mar  2 01:03:58 2019 [validation_model_Health_Quantity.__init__] initialized succesfully\n",
      "120\n",
      "Sat Mar  2 01:03:59 2019 [validation_model_Quantity_Vaccinated.__init__] initialized succesfully\n",
      "Sat Mar  2 01:04:00 2019 [validation_model_Gender_Vaccinated.__init__] initialized succesfully\n",
      "Sat Mar  2 01:04:02 2019 [validation_model_Color3_*.__init__] initialized succesfully\n",
      "Sat Mar  2 01:04:03 2019 [validation_model_Age_Type.__init__] initialized succesfully\n",
      "Sat Mar  2 01:04:04 2019 [validation_model_FurLength_Sterilized.__init__] initialized succesfully\n",
      "Sat Mar  2 01:04:06 2019 [validation_model_Breed1_Type.__init__] initialized succesfully\n",
      "Sat Mar  2 01:04:07 2019 [validation_model_Color3_Sterilized.__init__] initialized succesfully\n",
      "Sat Mar  2 01:04:09 2019 [validation_model_Breed2_MaturitySize.__init__] initialized succesfully\n",
      "Sat Mar  2 01:04:10 2019 [validation_model_MaturitySize_Vaccinated.__init__] initialized succesfully\n",
      "Sat Mar  2 01:04:11 2019 [validation_model_Age_Breed2.__init__] initialized succesfully\n",
      "Sat Mar  2 01:04:12 2019 [validation_model_Gender_Health.__init__] initialized succesfully\n",
      "Sat Mar  2 01:04:14 2019 [validation_model_Breed1_Fee.__init__] initialized succesfully\n",
      "Sat Mar  2 01:04:15 2019 [validation_model_FurLength_Quantity.__init__] initialized succesfully\n",
      "Sat Mar  2 01:04:16 2019 [validation_model_Age_Color1.__init__] initialized succesfully\n",
      "Sat Mar  2 01:04:18 2019 [validation_model_Color2_Type.__init__] initialized succesfully\n",
      "Sat Mar  2 01:04:19 2019 [validation_model_Color3_Type.__init__] initialized succesfully\n",
      "Sat Mar  2 01:04:20 2019 [validation_model_Breed2_Type.__init__] initialized succesfully\n",
      "Sat Mar  2 01:04:21 2019 [validation_model_Health_Type.__init__] initialized succesfully\n",
      "Sat Mar  2 01:04:23 2019 [validation_model_Color2_FurLength.__init__] initialized succesfully\n",
      "Sat Mar  2 01:04:24 2019 [validation_model_State_Vaccinated.__init__] initialized succesfully\n",
      "Sat Mar  2 01:04:25 2019 [validation_model_Fee_*.__init__] initialized succesfully\n",
      "Sat Mar  2 01:04:27 2019 [validation_model_Color1_Gender.__init__] initialized succesfully\n",
      "Sat Mar  2 01:04:28 2019 [validation_model_Breed1_Gender.__init__] initialized succesfully\n",
      "Sat Mar  2 01:04:29 2019 [validation_model_Color2_*.__init__] initialized succesfully\n",
      "Sat Mar  2 01:04:30 2019 [validation_model_Fee_Quantity.__init__] initialized succesfully\n",
      "Sat Mar  2 01:04:32 2019 [validation_model_Breed1_State.__init__] initialized succesfully\n",
      "Sat Mar  2 01:04:33 2019 [validation_model_Dewormed_*.__init__] initialized succesfully\n",
      "Sat Mar  2 01:04:34 2019 [validation_model_Breed1_FurLength.__init__] initialized succesfully\n",
      "Sat Mar  2 01:04:35 2019 [validation_model_Health_MaturitySize.__init__] initialized succesfully\n",
      "Sat Mar  2 01:04:37 2019 [validation_model_Dewormed_Vaccinated.__init__] initialized succesfully\n",
      "150\n",
      "Sat Mar  2 01:04:38 2019 [validation_model_Color2_Gender.__init__] initialized succesfully\n",
      "Sat Mar  2 01:04:40 2019 [validation_model_Breed2_Quantity.__init__] initialized succesfully\n",
      "Sat Mar  2 01:04:41 2019 [validation_model_Color1_Fee.__init__] initialized succesfully\n"
     ]
    }
   ],
   "source": [
    "maxs = 0\n",
    "besti = None\n",
    "for i, csel in enumerate(selected_cols):\n",
    "    if i % 30 == 0: print(i)\n",
    "    x = X.drop([col for col in cols if col not in selected_cols[0]], axis=1)\n",
    "    model = PredictiveModel(\"validation_model_\"+str(csel[0])+\"_\"+csel[1])\n",
    "    score = model.validation(x, Y, method=2)\n",
    "    if score > maxs:\n",
    "        maxs = score\n",
    "        besti = i\n",
    "        print(maxs)"
   ]
  },
  {
   "cell_type": "code",
   "execution_count": 67,
   "metadata": {},
   "outputs": [
    {
     "data": {
      "text/plain": [
       "0.002410221051921213"
      ]
     },
     "execution_count": 67,
     "metadata": {},
     "output_type": "execute_result"
    }
   ],
   "source": [
    "maxs"
   ]
  },
  {
   "cell_type": "code",
   "execution_count": 79,
   "metadata": {},
   "outputs": [
    {
     "name": "stdout",
     "output_type": "stream",
     "text": [
      "Sat Mar  2 00:33:04 2019 [validation_model_no_categorical.__init__] initialized succesfully\n"
     ]
    }
   ],
   "source": [
    "model = PredictiveModel(\"validation_model_no_categorical\")"
   ]
  },
  {
   "cell_type": "code",
   "execution_count": 80,
   "metadata": {},
   "outputs": [],
   "source": [
    "X = X.reset_index(drop=True)\n",
    "Y = Y.reset_index(drop=True)"
   ]
  },
  {
   "cell_type": "code",
   "execution_count": 81,
   "metadata": {},
   "outputs": [
    {
     "name": "stdout",
     "output_type": "stream",
     "text": [
      "Sat Mar  2 00:33:06 2019 [validation_model_no_categorical.validation] start validation method 1\n",
      "Sat Mar  2 00:33:06 2019 [validation_model_no_categorical.train] start training\n",
      "Sat Mar  2 00:33:06 2019 [validation_model_no_categorical.train] trained succefully\n",
      "Sat Mar  2 00:33:06 2019 [validation_model_no_categorical.predict] start predictions\n",
      "Sat Mar  2 00:33:06 2019 [validation_model_no_categorical.predict] predicted succesfully\n",
      "Sat Mar  2 00:33:06 2019 [validation_model_no_categorical.evaluate] start evaluation\n",
      "Sat Mar  2 00:33:06 2019 [validation_model_no_categorical.evaluate] evaluated succesfully\n",
      "Sat Mar  2 00:33:06 2019 [validation_model_no_categorical.validation] single score = 0.14250968093848493 \n",
      "Sat Mar  2 00:33:06 2019 [validation_model_no_categorical.train] start training\n",
      "Sat Mar  2 00:33:06 2019 [validation_model_no_categorical.train] trained succefully\n",
      "Sat Mar  2 00:33:06 2019 [validation_model_no_categorical.predict] start predictions\n",
      "Sat Mar  2 00:33:07 2019 [validation_model_no_categorical.predict] predicted succesfully\n",
      "Sat Mar  2 00:33:07 2019 [validation_model_no_categorical.evaluate] start evaluation\n",
      "Sat Mar  2 00:33:07 2019 [validation_model_no_categorical.evaluate] evaluated succesfully\n",
      "Sat Mar  2 00:33:07 2019 [validation_model_no_categorical.validation] single score = 0.13850282721244045 \n",
      "Sat Mar  2 00:33:07 2019 [validation_model_no_categorical.train] start training\n",
      "Sat Mar  2 00:33:07 2019 [validation_model_no_categorical.train] trained succefully\n",
      "Sat Mar  2 00:33:07 2019 [validation_model_no_categorical.predict] start predictions\n",
      "Sat Mar  2 00:33:07 2019 [validation_model_no_categorical.predict] predicted succesfully\n",
      "Sat Mar  2 00:33:07 2019 [validation_model_no_categorical.evaluate] start evaluation\n",
      "Sat Mar  2 00:33:07 2019 [validation_model_no_categorical.evaluate] evaluated succesfully\n",
      "Sat Mar  2 00:33:07 2019 [validation_model_no_categorical.validation] single score = 0.13283180292455954 \n",
      "Sat Mar  2 00:33:07 2019 [validation_model_no_categorical.train] start training\n",
      "Sat Mar  2 00:33:07 2019 [validation_model_no_categorical.train] trained succefully\n",
      "Sat Mar  2 00:33:07 2019 [validation_model_no_categorical.predict] start predictions\n",
      "Sat Mar  2 00:33:08 2019 [validation_model_no_categorical.predict] predicted succesfully\n",
      "Sat Mar  2 00:33:08 2019 [validation_model_no_categorical.evaluate] start evaluation\n",
      "Sat Mar  2 00:33:08 2019 [validation_model_no_categorical.evaluate] evaluated succesfully\n",
      "Sat Mar  2 00:33:08 2019 [validation_model_no_categorical.validation] single score = 0.12275557992837582 \n",
      "Sat Mar  2 00:33:08 2019 [validation_model_no_categorical.train] start training\n",
      "Sat Mar  2 00:33:08 2019 [validation_model_no_categorical.train] trained succefully\n",
      "Sat Mar  2 00:33:08 2019 [validation_model_no_categorical.predict] start predictions\n",
      "Sat Mar  2 00:33:08 2019 [validation_model_no_categorical.predict] predicted succesfully\n",
      "Sat Mar  2 00:33:08 2019 [validation_model_no_categorical.evaluate] start evaluation\n",
      "Sat Mar  2 00:33:08 2019 [validation_model_no_categorical.evaluate] evaluated succesfully\n",
      "Sat Mar  2 00:33:08 2019 [validation_model_no_categorical.validation] single score = 0.1229228435643227 \n",
      "Sat Mar  2 00:33:08 2019 [validation_model_no_categorical.validation] validation score = 0.13190454691363668 \n",
      "Sat Mar  2 00:33:08 2019 [validation_model_no_categorical.validation] finished validation method 1\n"
     ]
    },
    {
     "data": {
      "text/plain": [
       "0.13190454691363668"
      ]
     },
     "execution_count": 81,
     "metadata": {},
     "output_type": "execute_result"
    }
   ],
   "source": [
    "model.validation(X, Y, method=1)"
   ]
  },
  {
   "cell_type": "code",
   "execution_count": 53,
   "metadata": {},
   "outputs": [
    {
     "name": "stdout",
     "output_type": "stream",
     "text": [
      "Sat Mar  2 00:29:33 2019 [validation_model_no_categorical_type.validation] start validation method 2\n",
      "Sat Mar  2 00:29:33 2019 [validation_model_no_categorical_type.train] start training\n",
      "Sat Mar  2 00:29:33 2019 [validation_model_no_categorical_type.train] trained succefully\n",
      "Sat Mar  2 00:29:33 2019 [validation_model_no_categorical_type.predict] start predictions\n",
      "Sat Mar  2 00:29:33 2019 [validation_model_no_categorical_type.predict] predicted succesfully\n",
      "Sat Mar  2 00:29:33 2019 [validation_model_no_categorical_type.evaluate] start evaluation\n",
      "Sat Mar  2 00:29:33 2019 [validation_model_no_categorical_type.evaluate] evaluated succesfully\n",
      "Sat Mar  2 00:29:33 2019 [validation_model_no_categorical_type.validation] single score = 0.10189602001345921 \n",
      "Sat Mar  2 00:29:33 2019 [validation_model_no_categorical_type.train] start training\n",
      "Sat Mar  2 00:29:33 2019 [validation_model_no_categorical_type.train] trained succefully\n",
      "Sat Mar  2 00:29:33 2019 [validation_model_no_categorical_type.predict] start predictions\n",
      "Sat Mar  2 00:29:33 2019 [validation_model_no_categorical_type.predict] predicted succesfully\n",
      "Sat Mar  2 00:29:33 2019 [validation_model_no_categorical_type.evaluate] start evaluation\n",
      "Sat Mar  2 00:29:33 2019 [validation_model_no_categorical_type.evaluate] evaluated succesfully\n",
      "Sat Mar  2 00:29:33 2019 [validation_model_no_categorical_type.validation] single score = 0.06340688485166379 \n",
      "Sat Mar  2 00:29:33 2019 [validation_model_no_categorical_type.train] start training\n",
      "Sat Mar  2 00:29:34 2019 [validation_model_no_categorical_type.train] trained succefully\n",
      "Sat Mar  2 00:29:34 2019 [validation_model_no_categorical_type.predict] start predictions\n",
      "Sat Mar  2 00:29:34 2019 [validation_model_no_categorical_type.predict] predicted succesfully\n",
      "Sat Mar  2 00:29:34 2019 [validation_model_no_categorical_type.evaluate] start evaluation\n",
      "Sat Mar  2 00:29:34 2019 [validation_model_no_categorical_type.evaluate] evaluated succesfully\n",
      "Sat Mar  2 00:29:34 2019 [validation_model_no_categorical_type.validation] single score = 0.09061106476243241 \n",
      "Sat Mar  2 00:29:34 2019 [validation_model_no_categorical_type.train] start training\n",
      "Sat Mar  2 00:29:34 2019 [validation_model_no_categorical_type.train] trained succefully\n",
      "Sat Mar  2 00:29:34 2019 [validation_model_no_categorical_type.predict] start predictions\n",
      "Sat Mar  2 00:29:34 2019 [validation_model_no_categorical_type.predict] predicted succesfully\n",
      "Sat Mar  2 00:29:34 2019 [validation_model_no_categorical_type.evaluate] start evaluation\n",
      "Sat Mar  2 00:29:34 2019 [validation_model_no_categorical_type.evaluate] evaluated succesfully\n",
      "Sat Mar  2 00:29:34 2019 [validation_model_no_categorical_type.validation] single score = 0.1297657497122917 \n",
      "Sat Mar  2 00:29:34 2019 [validation_model_no_categorical_type.train] start training\n",
      "Sat Mar  2 00:29:34 2019 [validation_model_no_categorical_type.train] trained succefully\n",
      "Sat Mar  2 00:29:34 2019 [validation_model_no_categorical_type.predict] start predictions\n",
      "Sat Mar  2 00:29:34 2019 [validation_model_no_categorical_type.predict] predicted succesfully\n",
      "Sat Mar  2 00:29:34 2019 [validation_model_no_categorical_type.evaluate] start evaluation\n",
      "Sat Mar  2 00:29:34 2019 [validation_model_no_categorical_type.evaluate] evaluated succesfully\n",
      "Sat Mar  2 00:29:34 2019 [validation_model_no_categorical_type.validation] single score = 0.11034792944038552 \n",
      "Sat Mar  2 00:29:34 2019 [validation_model_no_categorical_type.validation] validation score = 0.09920552975604653 \n",
      "Sat Mar  2 00:29:34 2019 [validation_model_no_categorical_type.validation] finished validation method 2\n"
     ]
    },
    {
     "data": {
      "text/plain": [
       "0.09920552975604653"
      ]
     },
     "execution_count": 53,
     "metadata": {},
     "output_type": "execute_result"
    }
   ],
   "source": [
    "model.validation(X, Y, method=2)"
   ]
  },
  {
   "cell_type": "code",
   "execution_count": null,
   "metadata": {},
   "outputs": [],
   "source": []
  }
 ],
 "metadata": {
  "kernelspec": {
   "display_name": "Python 3",
   "language": "python",
   "name": "python3"
  },
  "language_info": {
   "codemirror_mode": {
    "name": "ipython",
    "version": 3
   },
   "file_extension": ".py",
   "mimetype": "text/x-python",
   "name": "python",
   "nbconvert_exporter": "python",
   "pygments_lexer": "ipython3",
   "version": "3.6.5"
  }
 },
 "nbformat": 4,
 "nbformat_minor": 2
}
