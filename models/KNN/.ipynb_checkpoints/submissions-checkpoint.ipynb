{
 "cells": [
  {
   "cell_type": "markdown",
   "metadata": {},
   "source": [
    "<h1>kNN model on kaggle-pet competition</h1>"
   ]
  },
  {
   "cell_type": "markdown",
   "metadata": {},
   "source": [
    "<h1>DATA LOADING"
   ]
  },
  {
   "cell_type": "code",
   "execution_count": 1,
   "metadata": {},
   "outputs": [],
   "source": [
    "import pandas as pd\n",
    "import numpy as np"
   ]
  },
  {
   "cell_type": "code",
   "execution_count": 2,
   "metadata": {},
   "outputs": [],
   "source": [
    "import os\n",
    "os.listdir('../../data')\n",
    "assert 'out_breed.csv' in os.listdir('../../data') # this assert breaks if the data is configured uncorrectly"
   ]
  },
  {
   "cell_type": "code",
   "execution_count": 3,
   "metadata": {},
   "outputs": [],
   "source": [
    "breeds = pd.read_csv('../../data/out_breed.csv')\n",
    "colors = pd.read_csv('../../data/out_color.csv')\n",
    "states = pd.read_csv('../../data/out_state.csv')\n",
    "train  = pd.read_csv('../../data/out_train.csv')\n",
    "test   = pd.read_csv('../../data/out_test.csv')\n",
    "sub    = pd.read_csv('../../data/out_submission.csv')"
   ]
  },
  {
   "cell_type": "markdown",
   "metadata": {},
   "source": [
    "<h1>MODEL</h1>"
   ]
  },
  {
   "cell_type": "code",
   "execution_count": 4,
   "metadata": {},
   "outputs": [],
   "source": [
    "from knnDogs20 import PredictiveModel as DogPredictiveModel\n",
    "from knnCats14 import PredictiveModel as CatPredictiveModel"
   ]
  },
  {
   "cell_type": "markdown",
   "metadata": {},
   "source": [
    "<h1>EXAMPLE USAGE</h1>"
   ]
  },
  {
   "cell_type": "code",
   "execution_count": 18,
   "metadata": {},
   "outputs": [],
   "source": [
    "dogs = train[train['Type'] == 1].drop('Type',axis=1)\n",
    "dogs_test = test[test['Type'] == 1].drop('Type',axis=1)\n",
    "X_dogs = dogs.reset_index().drop(['index'],axis=1)\n",
    "Y_dogs = dogs.reset_index()['AdoptionSpeed']\n",
    "X_test_dogs = dogs_test.reset_index().drop(['index'],axis=1)\n",
    "\n",
    "cats = train[train['Type'] == 2].drop('Type',axis=1)\n",
    "cats_test = test[test['Type'] == 2].drop('Type',axis=1)\n",
    "X_cats = cats.reset_index().drop(['index'],axis=1)\n",
    "Y_cats = cats.reset_index()['AdoptionSpeed']\n",
    "X_test_cats = cats_test.reset_index().drop(['index'],axis=1)"
   ]
  },
  {
   "cell_type": "code",
   "execution_count": 19,
   "metadata": {},
   "outputs": [
    {
     "name": "stdout",
     "output_type": "stream",
     "text": [
      "Fri Mar 22 18:05:51 2019 [submission_knn.__init__] initialized succesfully\n",
      "Fri Mar 22 18:05:51 2019 [submission_knn.__init__] initialized succesfully\n"
     ]
    }
   ],
   "source": [
    "dog_model = DogPredictiveModel(\"submission_knn\")\n",
    "cat_model = CatPredictiveModel(\"submission_knn\")"
   ]
  },
  {
   "cell_type": "code",
   "execution_count": 21,
   "metadata": {},
   "outputs": [],
   "source": [
    "dog_model.train(X_dogs, Y_dogs)\n",
    "cat_model.train(X_cats, Y_cats)\n",
    "dog_predictions = dog_model.predict(X_test_dogs)\n",
    "cat_predictions = cat_model.predict(X_test_cats)\n",
    "assert len(dog_predictions)\n",
    "assert len(cat_predictions)"
   ]
  },
  {
   "cell_type": "code",
   "execution_count": 24,
   "metadata": {},
   "outputs": [
    {
     "data": {
      "text/plain": [
       "True"
      ]
     },
     "execution_count": 24,
     "metadata": {},
     "output_type": "execute_result"
    }
   ],
   "source": [
    "len(dog_predictions) + len(cat_predictions) == len(test)"
   ]
  },
  {
   "cell_type": "code",
   "execution_count": 32,
   "metadata": {},
   "outputs": [],
   "source": [
    "dog_map = pd.DataFrame(dog_predictions).set_index(X_test_dogs['PetID'])"
   ]
  },
  {
   "cell_type": "code",
   "execution_count": 62,
   "metadata": {},
   "outputs": [],
   "source": [
    "dog_inplace_predictions = test['PetID'].map(dict(dog_map[0]))"
   ]
  },
  {
   "cell_type": "code",
   "execution_count": 63,
   "metadata": {},
   "outputs": [],
   "source": [
    "cat_map = pd.DataFrame(cat_predictions).set_index(X_test_cats['PetID'])"
   ]
  },
  {
   "cell_type": "code",
   "execution_count": 65,
   "metadata": {},
   "outputs": [],
   "source": [
    "cat_inplace_predictions = test['PetID'].map(dict(cat_map[0]))"
   ]
  },
  {
   "cell_type": "code",
   "execution_count": 82,
   "metadata": {},
   "outputs": [],
   "source": [
    "predictions = np.fmax(cat_inplace_predictions, dog_inplace_predictions)"
   ]
  },
  {
   "cell_type": "markdown",
   "metadata": {},
   "source": [
    "<h1>VALIDATION"
   ]
  },
  {
   "cell_type": "code",
   "execution_count": 12,
   "metadata": {},
   "outputs": [],
   "source": [
    "dogs = train[train['Type'] == 1].drop('Type',axis=1)\n",
    "X_dogs = dogs.reset_index().drop(['index'],axis=1)\n",
    "Y_dogs = dogs.reset_index()['AdoptionSpeed']\n",
    "\n",
    "cats = train[train['Type'] == 2].drop('Type',axis=1)\n",
    "X_cats = cats.reset_index().drop(['index'],axis=1)\n",
    "Y_cats = cats.reset_index()['AdoptionSpeed']"
   ]
  },
  {
   "cell_type": "code",
   "execution_count": 13,
   "metadata": {},
   "outputs": [
    {
     "name": "stdout",
     "output_type": "stream",
     "text": [
      "Fri Mar 22 18:02:55 2019 [submission_knn.__init__] initialized succesfully\n"
     ]
    }
   ],
   "source": [
    "dog_model = DogPredictiveModel(\"submission_knn\")"
   ]
  },
  {
   "cell_type": "code",
   "execution_count": 14,
   "metadata": {},
   "outputs": [
    {
     "name": "stdout",
     "output_type": "stream",
     "text": [
      "Fri Mar 22 18:02:56 2019 [submission_knn.validation] start validation method 1\n",
      "Fri Mar 22 18:02:56 2019 [submission_knn.validation] single score = 0.21549509478491025 \n",
      "Fri Mar 22 18:02:56 2019 [submission_knn.validation] single score = 0.191863004685352 \n",
      "Fri Mar 22 18:02:56 2019 [submission_knn.validation] single score = 0.2037126429036097 \n",
      "Fri Mar 22 18:02:57 2019 [submission_knn.validation] single score = 0.1996910490625261 \n",
      "Fri Mar 22 18:02:57 2019 [submission_knn.validation] single score = 0.19262209908726857 \n",
      "Fri Mar 22 18:02:57 2019 [submission_knn.validation] validation score = 0.20067677810473333 \n",
      "Fri Mar 22 18:02:57 2019 [submission_knn.validation] finished validation method 1\n"
     ]
    },
    {
     "data": {
      "text/plain": [
       "0.20067677810473333"
      ]
     },
     "execution_count": 14,
     "metadata": {},
     "output_type": "execute_result"
    }
   ],
   "source": [
    "dog_model.validation(X_dogs, Y_dogs, method=1, verbose=True)"
   ]
  },
  {
   "cell_type": "code",
   "execution_count": 15,
   "metadata": {},
   "outputs": [
    {
     "name": "stdout",
     "output_type": "stream",
     "text": [
      "Fri Mar 22 18:03:02 2019 [submission_knn.validation] start validation method 2\n",
      "Fri Mar 22 18:03:02 2019 [submission_knn.validation] single score = 0.19375783333011443 \n",
      "Fri Mar 22 18:03:02 2019 [submission_knn.validation] single score = 0.2013626087133633 \n",
      "Fri Mar 22 18:03:02 2019 [submission_knn.validation] single score = 0.1925397540445729 \n",
      "Fri Mar 22 18:03:02 2019 [submission_knn.validation] single score = 0.21709412787433224 \n",
      "Fri Mar 22 18:03:03 2019 [submission_knn.validation] single score = 0.19812508538845452 \n",
      "Fri Mar 22 18:03:03 2019 [submission_knn.validation] validation score = 0.20057588187016745 \n",
      "Fri Mar 22 18:03:03 2019 [submission_knn.validation] finished validation method 2\n"
     ]
    },
    {
     "data": {
      "text/plain": [
       "0.20057588187016745"
      ]
     },
     "execution_count": 15,
     "metadata": {},
     "output_type": "execute_result"
    }
   ],
   "source": [
    "dog_model.validation(X_dogs, Y_dogs, method=2, verbose=True)"
   ]
  },
  {
   "cell_type": "code",
   "execution_count": 6,
   "metadata": {},
   "outputs": [
    {
     "name": "stdout",
     "output_type": "stream",
     "text": [
      "Fri Mar 22 17:51:16 2019 [submission_knn.__init__] initialized succesfully\n"
     ]
    }
   ],
   "source": [
    "cat_model = CatPredictiveModel(\"submission_knn\")"
   ]
  },
  {
   "cell_type": "code",
   "execution_count": 9,
   "metadata": {},
   "outputs": [
    {
     "name": "stdout",
     "output_type": "stream",
     "text": [
      "Fri Mar 22 18:02:43 2019 [submission_knn.validation] start validation method 1\n",
      "Fri Mar 22 18:02:43 2019 [submission_knn.validation] single score = 0.13155598271464675 \n",
      "Fri Mar 22 18:02:43 2019 [submission_knn.validation] single score = 0.1279390972260659 \n",
      "Fri Mar 22 18:02:43 2019 [submission_knn.validation] single score = 0.1441757112428138 \n",
      "Fri Mar 22 18:02:44 2019 [submission_knn.validation] single score = 0.11468206572358419 \n",
      "Fri Mar 22 18:02:44 2019 [submission_knn.validation] single score = 0.1235022953127417 \n",
      "Fri Mar 22 18:02:44 2019 [submission_knn.validation] validation score = 0.12837103044397047 \n",
      "Fri Mar 22 18:02:44 2019 [submission_knn.validation] finished validation method 1\n"
     ]
    },
    {
     "data": {
      "text/plain": [
       "0.12837103044397047"
      ]
     },
     "execution_count": 9,
     "metadata": {},
     "output_type": "execute_result"
    }
   ],
   "source": [
    "cat_model.validation(X_cats, Y_cats, method=1, verbose=True)"
   ]
  },
  {
   "cell_type": "code",
   "execution_count": 10,
   "metadata": {},
   "outputs": [
    {
     "name": "stdout",
     "output_type": "stream",
     "text": [
      "Fri Mar 22 18:02:46 2019 [submission_knn.validation] start validation method 2\n",
      "Fri Mar 22 18:02:46 2019 [submission_knn.validation] single score = 0.15667216562844055 \n",
      "Fri Mar 22 18:02:46 2019 [submission_knn.validation] single score = 0.14963211772232887 \n",
      "Fri Mar 22 18:02:47 2019 [submission_knn.validation] single score = 0.12761381288086993 \n",
      "Fri Mar 22 18:02:47 2019 [submission_knn.validation] single score = 0.1454680774774545 \n",
      "Fri Mar 22 18:02:47 2019 [submission_knn.validation] single score = 0.12650523626047505 \n",
      "Fri Mar 22 18:02:47 2019 [submission_knn.validation] validation score = 0.14117828199391377 \n",
      "Fri Mar 22 18:02:47 2019 [submission_knn.validation] finished validation method 2\n"
     ]
    },
    {
     "data": {
      "text/plain": [
       "0.14117828199391377"
      ]
     },
     "execution_count": 10,
     "metadata": {},
     "output_type": "execute_result"
    }
   ],
   "source": [
    "cat_model.validation(X_cats, Y_cats, method=2, verbose=True)"
   ]
  },
  {
   "cell_type": "markdown",
   "metadata": {},
   "source": [
    "<h1>Public LB score</h1>"
   ]
  },
  {
   "cell_type": "code",
   "execution_count": 12,
   "metadata": {},
   "outputs": [
    {
     "data": {
      "text/plain": [
       "0.211"
      ]
     },
     "execution_count": 12,
     "metadata": {},
     "output_type": "execute_result"
    }
   ],
   "source": [
    "0.211"
   ]
  },
  {
   "cell_type": "code",
   "execution_count": null,
   "metadata": {},
   "outputs": [],
   "source": []
  }
 ],
 "metadata": {
  "kernelspec": {
   "display_name": "Python 3",
   "language": "python",
   "name": "python3"
  },
  "language_info": {
   "codemirror_mode": {
    "name": "ipython",
    "version": 3
   },
   "file_extension": ".py",
   "mimetype": "text/x-python",
   "name": "python",
   "nbconvert_exporter": "python",
   "pygments_lexer": "ipython3",
   "version": "3.6.5"
  }
 },
 "nbformat": 4,
 "nbformat_minor": 2
}
