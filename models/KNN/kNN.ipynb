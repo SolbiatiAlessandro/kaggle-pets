{
 "cells": [
  {
   "cell_type": "markdown",
   "metadata": {},
   "source": [
    "<h1>kNN model on kaggle-pet competition</h1>"
   ]
  },
  {
   "cell_type": "markdown",
   "metadata": {},
   "source": [
    "we are following Stanford CS231n, and trying to apply their assignements to this competition."
   ]
  },
  {
   "cell_type": "markdown",
   "metadata": {},
   "source": [
    "CS231N: http://cs231n.github.io/assignments2018/assignment1/\n",
    "<p>sci-kit knn: https://scikit-learn.org/stable/modules/neighbors.html"
   ]
  },
  {
   "cell_type": "markdown",
   "metadata": {},
   "source": [
    "Main differences between assignment and this notebook:\n",
    "    - we will be using Knn for regression task, and not for classification\n",
    "    - we will be using sci-kit implementation of knn and not written by us\n",
    "    "
   ]
  },
  {
   "cell_type": "markdown",
   "metadata": {},
   "source": [
    "<h1>DATA LOADING"
   ]
  },
  {
   "cell_type": "code",
   "execution_count": 1,
   "metadata": {},
   "outputs": [],
   "source": [
    "import pandas as pd\n",
    "import numpy as np"
   ]
  },
  {
   "cell_type": "code",
   "execution_count": 2,
   "metadata": {},
   "outputs": [],
   "source": [
    "import os\n",
    "os.listdir('../../data')\n",
    "assert 'out_breed.csv' in os.listdir('../../data') # this assert breaks if the data is configured uncorrectly"
   ]
  },
  {
   "cell_type": "code",
   "execution_count": 3,
   "metadata": {},
   "outputs": [],
   "source": [
    "breeds = pd.read_csv('../../data/out_breed.csv')\n",
    "colors = pd.read_csv('../../data/out_color.csv')\n",
    "states = pd.read_csv('../../data/out_state.csv')\n",
    "train  = pd.read_csv('../../data/out_train.csv')\n",
    "test   = pd.read_csv('../../data/out_test.csv')\n",
    "sub    = pd.read_csv('../../data/out_submission.csv')"
   ]
  },
  {
   "cell_type": "markdown",
   "metadata": {},
   "source": [
    "<h1>MODEL</h1>"
   ]
  },
  {
   "cell_type": "code",
   "execution_count": 5,
   "metadata": {},
   "outputs": [],
   "source": [
    "from knnModel import PredictiveModel"
   ]
  },
  {
   "cell_type": "markdown",
   "metadata": {},
   "source": [
    "<h1>EXAMPLE USAGE</h1>"
   ]
  },
  {
   "cell_type": "code",
   "execution_count": 6,
   "metadata": {},
   "outputs": [],
   "source": [
    "\"\"\"\n",
    "this is a really primitive data cleaning to make KNN works: we drop the followings\n",
    "- AdoptionSpeed, is target\n",
    "- Unnamed:0, dataset_type, is useless\n",
    "- Name, RescuerId, Description, PhotoAmt, VideoAmt, PetID: this are all strings valued not able to be processed by KNN\n",
    "\"\"\"\n",
    "X = train.drop([\"AdoptionSpeed\", \"Unnamed: 0\", \"dataset_type\", \"Name\", \"RescuerID\", \"Description\", \"PhotoAmt\",\"VideoAmt\",\"PetID\"], axis=1)\n",
    "\n",
    "\n",
    "\"\"\"\n",
    "Y is our target value, Adoption Speed can be a value [1,2,3,4]\n",
    "\"\"\"\n",
    "Y = train['AdoptionSpeed']\n",
    "\n",
    "assert X.shape[0] == Y.shape[0]"
   ]
  },
  {
   "cell_type": "code",
   "execution_count": 14,
   "metadata": {},
   "outputs": [
    {
     "name": "stdout",
     "output_type": "stream",
     "text": [
      "TRAIN: [ 3872     8  1832 ...  9845 10799  2732] TEST: [14361 12761 10031 ...  6446 14694 14911]\n",
      "TRAIN: [14031  1828 13638 ...  8994 13592 10850] TEST: [14333  1627 14392 ... 10894  8107  2630]\n",
      "TRAIN: [ 7153 14485  3606 ...  1413  8480  9170] TEST: [12583 13842 11678 ...  4543  3814  2587]\n",
      "TRAIN: [8952 5326 2769 ... 1428 2935 7053] TEST: [ 5086   637 12709 ... 12380 10789  8907]\n",
      "TRAIN: [ 6031  2223  9040 ...  5769 14495 12801] TEST: [14914  7930  7856 ...  6139 14115  3067]\n"
     ]
    }
   ],
   "source": [
    "from sklearn.model_selection import ShuffleSplit\n",
    "rs = ShuffleSplit(n_splits=5, test_size=.25, random_state=0)\n",
    "for train_index, test_index in rs.split(X):\n",
    "    print(\"TRAIN:\", train_index, \"TEST:\", test_index)"
   ]
  },
  {
   "cell_type": "code",
   "execution_count": 30,
   "metadata": {},
   "outputs": [],
   "source": [
    "# split in train and validation data\n",
    "train_X, train_Y = X.loc[train_index], Y.loc[train_index]\n",
    "validation_X, validation_Y = X.loc[test_index], Y.loc[test_index]\n",
    "\n",
    "assert train_X.shape[0] == train_Y.shape[0]\n",
    "assert validation_X.shape[0] == validation_Y.shape[0]"
   ]
  },
  {
   "cell_type": "code",
   "execution_count": 31,
   "metadata": {},
   "outputs": [
    {
     "name": "stdout",
     "output_type": "stream",
     "text": [
      "Fri Mar  1 14:30:46 2019 [test.__init__] initialized succesfully\n"
     ]
    }
   ],
   "source": [
    "model = PredictiveModel(\"test\")"
   ]
  },
  {
   "cell_type": "code",
   "execution_count": 32,
   "metadata": {},
   "outputs": [
    {
     "name": "stdout",
     "output_type": "stream",
     "text": [
      "Fri Mar  1 14:30:47 2019 [test.train] start training\n",
      "Fri Mar  1 14:30:47 2019 [test.train] trained succefully\n"
     ]
    }
   ],
   "source": [
    "model.train(train_X, train_Y)"
   ]
  },
  {
   "cell_type": "code",
   "execution_count": 33,
   "metadata": {},
   "outputs": [
    {
     "name": "stdout",
     "output_type": "stream",
     "text": [
      "Fri Mar  1 14:30:49 2019 [test.predict] start predictions\n",
      "Fri Mar  1 14:30:49 2019 [test.predict] predicted succesfully\n"
     ]
    }
   ],
   "source": [
    "predictions = model.predict(validation_X)"
   ]
  },
  {
   "cell_type": "code",
   "execution_count": 34,
   "metadata": {},
   "outputs": [
    {
     "name": "stdout",
     "output_type": "stream",
     "text": [
      "Fri Mar  1 14:30:50 2019 [test.evaluate] start evaluation\n",
      "Fri Mar  1 14:30:50 2019 [test.evaluate] evaluated succesfully\n"
     ]
    },
    {
     "data": {
      "text/plain": [
       "0.12916180487793782"
      ]
     },
     "execution_count": 34,
     "metadata": {},
     "output_type": "execute_result"
    }
   ],
   "source": [
    "model.evaluate(validation_Y)"
   ]
  },
  {
   "cell_type": "code",
   "execution_count": null,
   "metadata": {},
   "outputs": [],
   "source": []
  }
 ],
 "metadata": {
  "kernelspec": {
   "display_name": "Python 3",
   "language": "python",
   "name": "python3"
  },
  "language_info": {
   "codemirror_mode": {
    "name": "ipython",
    "version": 3
   },
   "file_extension": ".py",
   "mimetype": "text/x-python",
   "name": "python",
   "nbconvert_exporter": "python",
   "pygments_lexer": "ipython3",
   "version": "3.6.5"
  }
 },
 "nbformat": 4,
 "nbformat_minor": 2
}
