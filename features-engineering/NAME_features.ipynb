{
 "cells": [
  {
   "cell_type": "code",
   "execution_count": 6,
   "metadata": {},
   "outputs": [],
   "source": [
    "import pandas as pd\n",
    "import numpy as np\n",
    "from matplotlib import pyplot as plt"
   ]
  },
  {
   "cell_type": "code",
   "execution_count": 2,
   "metadata": {},
   "outputs": [],
   "source": [
    "import os\n",
    "os.listdir('../data')\n",
    "assert 'out_breed.csv' in os.listdir('../data') # this assert breaks if the data is configured uncorrectly"
   ]
  },
  {
   "cell_type": "code",
   "execution_count": 3,
   "metadata": {},
   "outputs": [],
   "source": [
    "breeds = pd.read_csv('../data/out_breed.csv')\n",
    "colors = pd.read_csv('../data/out_color.csv')\n",
    "states = pd.read_csv('../data/out_state.csv')\n",
    "train  = pd.read_csv('../data/out_train.csv')\n",
    "test   = pd.read_csv('../data/out_test.csv')\n",
    "sub    = pd.read_csv('../data/out_submission.csv')"
   ]
  },
  {
   "cell_type": "code",
   "execution_count": 4,
   "metadata": {},
   "outputs": [
    {
     "data": {
      "text/plain": [
       "0    0.027346\n",
       "1    0.206096\n",
       "2    0.269259\n",
       "3    0.217368\n",
       "4    0.279931\n",
       "Name: AdoptionSpeed, dtype: float64"
      ]
     },
     "execution_count": 4,
     "metadata": {},
     "output_type": "execute_result"
    }
   ],
   "source": [
    "average_distribution = (train['AdoptionSpeed'].value_counts() / len(train)).sort_index()\n",
    "average_distribution"
   ]
  },
  {
   "cell_type": "code",
   "execution_count": 9,
   "metadata": {},
   "outputs": [
    {
     "data": {
      "text/plain": [
       "Text(0.5, 1.0, 'this is the distribution of the target classes over the whole dataset')"
      ]
     },
     "execution_count": 9,
     "metadata": {},
     "output_type": "execute_result"
    },
    {
     "data": {
      "image/png": "[encoded data removed]",
      "text/plain": [
       "<Figure size 432x288 with 1 Axes>"
      ]
     },
     "metadata": {
      "needs_background": "light"
     },
     "output_type": "display_data"
    }
   ],
   "source": [
    "plt.bar([0,1,2,3,4], average_distribution)\n",
    "plt.title(\"this is the distribution of the target classes over the whole dataset\")"
   ]
  },
  {
   "cell_type": "markdown",
   "metadata": {},
   "source": [
    "<h2>FEAT #00 : (binary) the pet has a name"
   ]
  },
  {
   "cell_type": "code",
   "execution_count": 21,
   "metadata": {},
   "outputs": [],
   "source": [
    "unnamed_index = train['Name'].apply(lambda n: isinstance(n, float) or n == \"No Name\")\n",
    "named_index = ~unnamed_index\n",
    "FEAT00 = named_index"
   ]
  },
  {
   "cell_type": "code",
   "execution_count": 22,
   "metadata": {},
   "outputs": [],
   "source": [
    "named, unnamed = train[named_index], train[unnamed_index]"
   ]
  },
  {
   "cell_type": "code",
   "execution_count": 25,
   "metadata": {},
   "outputs": [
    {
     "data": {
      "text/plain": [
       "(13682, 1311, 0.0958193246601374)"
      ]
     },
     "execution_count": 25,
     "metadata": {},
     "output_type": "execute_result"
    }
   ],
   "source": [
    "len(named), len(unnamed), len(unnamed) / len(named)"
   ]
  },
  {
   "cell_type": "code",
   "execution_count": 26,
   "metadata": {},
   "outputs": [
    {
     "data": {
      "text/plain": [
       "0    0.022121\n",
       "1    0.217391\n",
       "2    0.246377\n",
       "3    0.169336\n",
       "4    0.344775\n",
       "Name: AdoptionSpeed, dtype: float64"
      ]
     },
     "execution_count": 26,
     "metadata": {},
     "output_type": "execute_result"
    }
   ],
   "source": [
    "unnamed_distribution = (unnamed['AdoptionSpeed'].value_counts() / len(unnamed)).sort_index()\n",
    "unnamed_distribution"
   ]
  },
  {
   "cell_type": "code",
   "execution_count": 27,
   "metadata": {},
   "outputs": [
    {
     "data": {
      "text/plain": [
       "0    0.027847\n",
       "1    0.205014\n",
       "2    0.271452\n",
       "3    0.221970\n",
       "4    0.273717\n",
       "Name: AdoptionSpeed, dtype: float64"
      ]
     },
     "execution_count": 27,
     "metadata": {},
     "output_type": "execute_result"
    }
   ],
   "source": [
    "named_distribution = (named['AdoptionSpeed'].value_counts() / len(named)).sort_index()\n",
    "named_distribution"
   ]
  },
  {
   "cell_type": "code",
   "execution_count": 28,
   "metadata": {},
   "outputs": [
    {
     "data": {
      "text/plain": [
       "<matplotlib.legend.Legend at 0x113d36080>"
      ]
     },
     "execution_count": 28,
     "metadata": {},
     "output_type": "execute_result"
    },
    {
     "data": {
      "image/png": "[encoded data removed]",
      "text/plain": [
       "<Figure size 432x288 with 1 Axes>"
      ]
     },
     "metadata": {
      "needs_background": "light"
     },
     "output_type": "display_data"
    }
   ],
   "source": [
    "size = 0.3\n",
    "plt.bar([i - size for i in range(len(named_distribution))], named_distribution, width=size, label='named')\n",
    "plt.bar(range(len(average_distribution)), unnamed_distribution, width=size, label='unnamed')\n",
    "plt.legend()"
   ]
  },
  {
   "cell_type": "markdown",
   "metadata": {},
   "source": [
    "looks like in the first week it doesn't matter if the dog has a name, but for [2,3,4] looks like there is a statistical significance. [<b>what does nan mean?</b>]"
   ]
  },
  {
   "cell_type": "markdown",
   "metadata": {},
   "source": [
    "<h2>FEAT #01 : (binary) the pet has a number in the name"
   ]
  },
  {
   "cell_type": "code",
   "execution_count": 45,
   "metadata": {},
   "outputs": [],
   "source": [
    "cleaned = train[~train['Name'].isna()]"
   ]
  },
  {
   "cell_type": "code",
   "execution_count": 46,
   "metadata": {},
   "outputs": [],
   "source": [
    "FEAT = cleaned['Name'].apply(lambda s: any([c.isdigit() for c in s]))"
   ]
  },
  {
   "cell_type": "code",
   "execution_count": 47,
   "metadata": {},
   "outputs": [
    {
     "data": {
      "text/plain": [
       "(12474, 1262, 0.10117043450376784)"
      ]
     },
     "execution_count": 47,
     "metadata": {},
     "output_type": "execute_result"
    }
   ],
   "source": [
    "len(cleaned[~FEAT]), len(cleaned[FEAT]), len(cleaned[FEAT]) / len(cleaned[~FEAT])"
   ]
  },
  {
   "cell_type": "code",
   "execution_count": 48,
   "metadata": {},
   "outputs": [
    {
     "data": {
      "text/plain": [
       "0    0.021395\n",
       "1    0.233756\n",
       "2    0.269414\n",
       "3    0.229002\n",
       "4    0.246434\n",
       "Name: AdoptionSpeed, dtype: float64"
      ]
     },
     "execution_count": 48,
     "metadata": {},
     "output_type": "execute_result"
    }
   ],
   "source": [
    "feat_distribution = (cleaned[FEAT]['AdoptionSpeed'].value_counts() / len(cleaned[FEAT])).sort_index()\n",
    "feat_distribution"
   ]
  },
  {
   "cell_type": "code",
   "execution_count": 49,
   "metadata": {},
   "outputs": [
    {
     "data": {
      "text/plain": [
       "0    0.028620\n",
       "1    0.202341\n",
       "2    0.271364\n",
       "3    0.220779\n",
       "4    0.276896\n",
       "Name: AdoptionSpeed, dtype: float64"
      ]
     },
     "execution_count": 49,
     "metadata": {},
     "output_type": "execute_result"
    }
   ],
   "source": [
    "nofeat_distribution = (cleaned[~FEAT]['AdoptionSpeed'].value_counts() / len(cleaned[~FEAT])).sort_index()\n",
    "nofeat_distribution"
   ]
  },
  {
   "cell_type": "code",
   "execution_count": 50,
   "metadata": {},
   "outputs": [
    {
     "data": {
      "text/plain": [
       "<matplotlib.legend.Legend at 0x114c99ac8>"
      ]
     },
     "execution_count": 50,
     "metadata": {},
     "output_type": "execute_result"
    },
    {
     "data": {
      "image/png": "[encoded data removed]",
      "text/plain": [
       "<Figure size 432x288 with 1 Axes>"
      ]
     },
     "metadata": {
      "needs_background": "light"
     },
     "output_type": "display_data"
    }
   ],
   "source": [
    "size = 0.3\n",
    "plt.bar([i - size for i in range(len(feat_distribution))], feat_distribution, width=size, label='feature distribution')\n",
    "plt.bar(range(len(nofeat_distribution)), nofeat_distribution, width=size, label='non feature distribution')\n",
    "plt.legend()"
   ]
  },
  {
   "cell_type": "markdown",
   "metadata": {},
   "source": [
    "<h2>FEAT #02 : (binary) the pet has a coded name (e.g. BA21)"
   ]
  },
  {
   "cell_type": "code",
   "execution_count": 51,
   "metadata": {},
   "outputs": [],
   "source": [
    "cleaned = train[~train['Name'].isna()]"
   ]
  },
  {
   "cell_type": "code",
   "execution_count": 52,
   "metadata": {},
   "outputs": [],
   "source": [
    "FEAT = cleaned['Name'].apply(lambda s: s.isupper() and any([c.isdigit() for c in s]))"
   ]
  },
  {
   "cell_type": "code",
   "execution_count": 53,
   "metadata": {},
   "outputs": [
    {
     "data": {
      "text/plain": [
       "(13501, 235, 0.017406118065328494)"
      ]
     },
     "execution_count": 53,
     "metadata": {},
     "output_type": "execute_result"
    }
   ],
   "source": [
    "len(cleaned[~FEAT]), len(cleaned[FEAT]), len(cleaned[FEAT]) / len(cleaned[~FEAT])"
   ]
  },
  {
   "cell_type": "code",
   "execution_count": 54,
   "metadata": {},
   "outputs": [
    {
     "data": {
      "text/plain": [
       "0    0.017021\n",
       "1    0.187234\n",
       "2    0.306383\n",
       "3    0.340426\n",
       "4    0.148936\n",
       "Name: AdoptionSpeed, dtype: float64"
      ]
     },
     "execution_count": 54,
     "metadata": {},
     "output_type": "execute_result"
    }
   ],
   "source": [
    "feat_distribution = (cleaned[FEAT]['AdoptionSpeed'].value_counts() / len(cleaned[FEAT])).sort_index()\n",
    "feat_distribution"
   ]
  },
  {
   "cell_type": "code",
   "execution_count": 55,
   "metadata": {},
   "outputs": [
    {
     "data": {
      "text/plain": [
       "0    0.028146\n",
       "1    0.205540\n",
       "2    0.270573\n",
       "3    0.219465\n",
       "4    0.276276\n",
       "Name: AdoptionSpeed, dtype: float64"
      ]
     },
     "execution_count": 55,
     "metadata": {},
     "output_type": "execute_result"
    }
   ],
   "source": [
    "nofeat_distribution = (cleaned[~FEAT]['AdoptionSpeed'].value_counts() / len(cleaned[~FEAT])).sort_index()\n",
    "nofeat_distribution"
   ]
  },
  {
   "cell_type": "code",
   "execution_count": 56,
   "metadata": {},
   "outputs": [
    {
     "data": {
      "text/plain": [
       "<matplotlib.legend.Legend at 0x1143c6908>"
      ]
     },
     "execution_count": 56,
     "metadata": {},
     "output_type": "execute_result"
    },
    {
     "data": {
      "image/png": "[encoded data removed]",
      "text/plain": [
       "<Figure size 432x288 with 1 Axes>"
      ]
     },
     "metadata": {
      "needs_background": "light"
     },
     "output_type": "display_data"
    }
   ],
   "source": [
    "size = 0.3\n",
    "plt.bar([i - size for i in range(len(feat_distribution))], feat_distribution, width=size, label='feature distribution')\n",
    "plt.bar(range(len(nofeat_distribution)), nofeat_distribution, width=size, label='non feature distribution')\n",
    "plt.legend()"
   ]
  },
  {
   "cell_type": "markdown",
   "metadata": {},
   "source": [
    "too small population to draw conclusions"
   ]
  },
  {
   "cell_type": "markdown",
   "metadata": {},
   "source": [
    "<h2>FEAT #03 : (binary) is the name frequent (appeared more than 10 times?)</h2>\n",
    " <p>this could be also a numerical feat: name frequency"
   ]
  },
  {
   "cell_type": "code",
   "execution_count": 126,
   "metadata": {},
   "outputs": [],
   "source": [
    "name_freq = cleaned['Name'].value_counts()"
   ]
  },
  {
   "cell_type": "code",
   "execution_count": 128,
   "metadata": {},
   "outputs": [
    {
     "name": "stderr",
     "output_type": "stream",
     "text": [
      "/Users/alex/Desktop/Coding/AI/kaggle-pets/venv/lib/python3.6/site-packages/ipykernel_launcher.py:1: SettingWithCopyWarning: \n",
      "A value is trying to be set on a copy of a slice from a DataFrame.\n",
      "Try using .loc[row_indexer,col_indexer] = value instead\n",
      "\n",
      "See the caveats in the documentation: http://pandas.pydata.org/pandas-docs/stable/indexing.html#indexing-view-versus-copy\n",
      "  \"\"\"Entry point for launching an IPython kernel.\n"
     ]
    }
   ],
   "source": [
    "cleaned['freq'] = cleaned['Name'].map(dict(name_freq))"
   ]
  },
  {
   "cell_type": "code",
   "execution_count": 130,
   "metadata": {},
   "outputs": [],
   "source": [
    "FEAT = cleaned['freq'] > 10"
   ]
  },
  {
   "cell_type": "code",
   "execution_count": 131,
   "metadata": {},
   "outputs": [
    {
     "data": {
      "text/plain": [
       "(11632, 2104, 0.18088033012379642)"
      ]
     },
     "execution_count": 131,
     "metadata": {},
     "output_type": "execute_result"
    }
   ],
   "source": [
    "len(cleaned[~FEAT]), len(cleaned[FEAT]), len(cleaned[FEAT]) / len(cleaned[~FEAT])"
   ]
  },
  {
   "cell_type": "code",
   "execution_count": 132,
   "metadata": {},
   "outputs": [
    {
     "data": {
      "text/plain": [
       "0    0.032319\n",
       "1    0.206274\n",
       "2    0.271863\n",
       "3    0.187262\n",
       "4    0.302281\n",
       "Name: AdoptionSpeed, dtype: float64"
      ]
     },
     "execution_count": 132,
     "metadata": {},
     "output_type": "execute_result"
    }
   ],
   "source": [
    "feat_distribution = (cleaned[FEAT]['AdoptionSpeed'].value_counts() / len(cleaned[FEAT])).sort_index()\n",
    "feat_distribution"
   ]
  },
  {
   "cell_type": "code",
   "execution_count": 133,
   "metadata": {},
   "outputs": [
    {
     "data": {
      "text/plain": [
       "0    0.027166\n",
       "1    0.205038\n",
       "2    0.271063\n",
       "3    0.227734\n",
       "4    0.268999\n",
       "Name: AdoptionSpeed, dtype: float64"
      ]
     },
     "execution_count": 133,
     "metadata": {},
     "output_type": "execute_result"
    }
   ],
   "source": [
    "nofeat_distribution = (cleaned[~FEAT]['AdoptionSpeed'].value_counts() / len(cleaned[~FEAT])).sort_index()\n",
    "nofeat_distribution"
   ]
  },
  {
   "cell_type": "code",
   "execution_count": 134,
   "metadata": {},
   "outputs": [
    {
     "data": {
      "text/plain": [
       "<matplotlib.legend.Legend at 0x1101ae588>"
      ]
     },
     "execution_count": 134,
     "metadata": {},
     "output_type": "execute_result"
    },
    {
     "data": {
      "image/png": "[encoded data removed]",
      "text/plain": [
       "<Figure size 432x288 with 1 Axes>"
      ]
     },
     "metadata": {
      "needs_background": "light"
     },
     "output_type": "display_data"
    }
   ],
   "source": [
    "size = 0.3\n",
    "plt.bar([i - size for i in range(len(feat_distribution))], feat_distribution, width=size, label='feature distribution')\n",
    "plt.bar(range(len(nofeat_distribution)), nofeat_distribution, width=size, label='non feature distribution')\n",
    "plt.legend()"
   ]
  },
  {
   "cell_type": "markdown",
   "metadata": {},
   "source": [
    "<p>this looks a bit more interesting, similar to FEAT #0 for the first 0,1,2 no evidence, but for 3,4 look that names that appeared more then 10 times are harder to get adopted</p>"
   ]
  },
  {
   "cell_type": "markdown",
   "metadata": {},
   "source": [
    "<h1>FEAT #04 : (binary) is the name shorter than 3 chars?"
   ]
  },
  {
   "cell_type": "code",
   "execution_count": 139,
   "metadata": {},
   "outputs": [],
   "source": [
    "FEAT = cleaned['Name'].apply(lambda s: len(s) <= 3)"
   ]
  },
  {
   "cell_type": "code",
   "execution_count": 140,
   "metadata": {},
   "outputs": [
    {
     "data": {
      "text/plain": [
       "(13068, 668, 0.05111723293541475)"
      ]
     },
     "execution_count": 140,
     "metadata": {},
     "output_type": "execute_result"
    }
   ],
   "source": [
    "len(cleaned[~FEAT]), len(cleaned[FEAT]), len(cleaned[FEAT]) / len(cleaned[~FEAT])"
   ]
  },
  {
   "cell_type": "code",
   "execution_count": 141,
   "metadata": {},
   "outputs": [
    {
     "data": {
      "text/plain": [
       "0    0.023952\n",
       "1    0.205090\n",
       "2    0.288922\n",
       "3    0.251497\n",
       "4    0.230539\n",
       "Name: AdoptionSpeed, dtype: float64"
      ]
     },
     "execution_count": 141,
     "metadata": {},
     "output_type": "execute_result"
    }
   ],
   "source": [
    "feat_distribution = (cleaned[FEAT]['AdoptionSpeed'].value_counts() / len(cleaned[FEAT])).sort_index()\n",
    "feat_distribution"
   ]
  },
  {
   "cell_type": "code",
   "execution_count": 142,
   "metadata": {},
   "outputs": [
    {
     "data": {
      "text/plain": [
       "0    0.028160\n",
       "1    0.205234\n",
       "2    0.270279\n",
       "3    0.220003\n",
       "4    0.276324\n",
       "Name: AdoptionSpeed, dtype: float64"
      ]
     },
     "execution_count": 142,
     "metadata": {},
     "output_type": "execute_result"
    }
   ],
   "source": [
    "nofeat_distribution = (cleaned[~FEAT]['AdoptionSpeed'].value_counts() / len(cleaned[~FEAT])).sort_index()\n",
    "nofeat_distribution"
   ]
  },
  {
   "cell_type": "code",
   "execution_count": 143,
   "metadata": {},
   "outputs": [
    {
     "data": {
      "text/plain": [
       "<matplotlib.legend.Legend at 0x110225c50>"
      ]
     },
     "execution_count": 143,
     "metadata": {},
     "output_type": "execute_result"
    },
    {
     "data": {
      "image/png": "[encoded data removed]",
      "text/plain": [
       "<Figure size 432x288 with 1 Axes>"
      ]
     },
     "metadata": {
      "needs_background": "light"
     },
     "output_type": "display_data"
    }
   ],
   "source": [
    "size = 0.3\n",
    "plt.bar([i - size for i in range(len(feat_distribution))], feat_distribution, width=size, label='feature distribution')\n",
    "plt.bar(range(len(nofeat_distribution)), nofeat_distribution, width=size, label='non feature distribution')\n",
    "plt.legend()"
   ]
  },
  {
   "cell_type": "code",
   "execution_count": null,
   "metadata": {},
   "outputs": [],
   "source": []
  }
 ],
 "metadata": {
  "kernelspec": {
   "display_name": "Python 3",
   "language": "python",
   "name": "python3"
  },
  "language_info": {
   "codemirror_mode": {
    "name": "ipython",
    "version": 3
   },
   "file_extension": ".py",
   "mimetype": "text/x-python",
   "name": "python",
   "nbconvert_exporter": "python",
   "pygments_lexer": "ipython3",
   "version": "3.6.5"
  }
 },
 "nbformat": 4,
 "nbformat_minor": 2
}
