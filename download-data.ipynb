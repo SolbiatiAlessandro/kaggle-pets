{
 "cells": [
  {
   "cell_type": "code",
   "execution_count": 1,
   "metadata": {
    "_cell_guid": "b1076dfc-b9ad-4769-8c92-a6c4dae69d19",
    "_uuid": "8f2839f25d086af736a60e9eeb907d3b93b6e0e5"
   },
   "outputs": [
    {
     "name": "stdout",
     "output_type": "stream",
     "text": [
      "['train_sentiment', 'test', 'breed_labels.csv', 'train', 'test_images', 'test_sentiment', 'test_metadata', 'color_labels.csv', 'train_metadata', 'train_images', 'state_labels.csv']\n"
     ]
    }
   ],
   "source": [
    "# This Python 3 environment comes with many helpful analytics libraries installed\n",
    "# It is defined by the kaggle/python docker image: https://github.com/kaggle/docker-python\n",
    "# For example, here's several helpful packages to load in \n",
    "\n",
    "import numpy as np # linear algebra\n",
    "import pandas as pd # data processing, CSV file I/O (e.g. pd.read_csv)\n",
    "\n",
    "# Input data files are available in the \"../input/\" directory.\n",
    "# For example, running this (by clicking run or pressing Shift+Enter) will list the files in the input directory\n",
    "\n",
    "import os\n",
    "print(os.listdir(\"../input\"))\n",
    "\n",
    "# Any results you write to the current directory are saved as output."
   ]
  },
  {
   "cell_type": "code",
   "execution_count": 2,
   "metadata": {
    "_cell_guid": "79c7e3d0-c299-4dcb-8224-4455121ee9b0",
    "_uuid": "d629ff2d2480ee46fbb7e2d37f6b5fab8052498a"
   },
   "outputs": [
    {
     "name": "stderr",
     "output_type": "stream",
     "text": [
      "/opt/conda/lib/python3.6/site-packages/ipykernel_launcher.py:11: FutureWarning: Sorting because non-concatenation axis is not aligned. A future version\n",
      "of pandas will change to not sort by default.\n",
      "\n",
      "To accept the future behavior, pass 'sort=False'.\n",
      "\n",
      "To retain the current behavior and silence the warning, pass 'sort=True'.\n",
      "\n",
      "  # This is added back by InteractiveShellApp.init_path()\n"
     ]
    }
   ],
   "source": [
    "breeds = pd.read_csv('../input/breed_labels.csv')\n",
    "colors = pd.read_csv('../input/color_labels.csv')\n",
    "states = pd.read_csv('../input/state_labels.csv')\n",
    "\n",
    "train = pd.read_csv('../input/train/train.csv')\n",
    "test = pd.read_csv('../input/test/test.csv')\n",
    "sub = pd.read_csv('../input/test/sample_submission.csv')\n",
    "\n",
    "train['dataset_type'] = 'train'\n",
    "test['dataset_type'] = 'test'\n",
    "all_data = pd.concat([train, test])"
   ]
  },
  {
   "cell_type": "code",
   "execution_count": 3,
   "metadata": {
    "_uuid": "4d17506aa044730ea9a9ae3dbda77b615fa750a2"
   },
   "outputs": [],
   "source": [
    "train.to_csv(\"out_train.csv\")"
   ]
  },
  {
   "cell_type": "code",
   "execution_count": 4,
   "metadata": {
    "_uuid": "7eace3c557e7559e4e37cbee3503a7885c12e85b"
   },
   "outputs": [],
   "source": [
    "test.to_csv(\"out_test.csv\")"
   ]
  },
  {
   "cell_type": "code",
   "execution_count": 5,
   "metadata": {
    "_uuid": "b6c3b84908821df7abbf6f43fede871c6df4ae13"
   },
   "outputs": [],
   "source": [
    "for s in [\"breed\", \"color\", \"state\"]:\n",
    "    data  = pd.read_csv(\"../input/\"+s+\"_labels.csv\")\n",
    "    data.to_csv(\"out_\"+s+\".csv\")"
   ]
  },
  {
   "cell_type": "code",
   "execution_count": 6,
   "metadata": {
    "_uuid": "11c6b0aa2c855a250cd9a0ceb15735bbbab006b6"
   },
   "outputs": [],
   "source": [
    "sub = pd.read_csv('../input/test/sample_submission.csv')"
   ]
  },
  {
   "cell_type": "code",
   "execution_count": 7,
   "metadata": {
    "_uuid": "3a50af928395fe46cc02a1c62302850d64ea9aaf"
   },
   "outputs": [],
   "source": [
    "sub.to_csv(\"out_submission.csv\")"
   ]
  },
  {
   "cell_type": "code",
   "execution_count": 8,
   "metadata": {
    "_uuid": "b64583d208999f6731de2c75b1445517a69bfc4f"
   },
   "outputs": [],
   "source": []
  }
 ],
 "metadata": {
  "kernelspec": {
   "display_name": "Python 3",
   "language": "python",
   "name": "python3"
  },
  "language_info": {
   "codemirror_mode": {
    "name": "ipython",
    "version": 3
   },
   "file_extension": ".py",
   "mimetype": "text/x-python",
   "name": "python",
   "nbconvert_exporter": "python",
   "pygments_lexer": "ipython3",
   "version": "3.6.6"
  }
 },
 "nbformat": 4,
 "nbformat_minor": 1
}
